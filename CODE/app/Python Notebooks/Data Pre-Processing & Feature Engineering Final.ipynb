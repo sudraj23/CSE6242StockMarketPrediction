{
 "cells": [
  {
   "cell_type": "markdown",
   "metadata": {},
   "source": [
    "# Data Pre-Processing & Feature Engineering"
   ]
  },
  {
   "cell_type": "markdown",
   "metadata": {},
   "source": [
    "Based on EDA we have got following information on Market and News Data"
   ]
  },
  {
   "cell_type": "markdown",
   "metadata": {},
   "source": [
    "### Market Data"
   ]
  },
  {
   "cell_type": "markdown",
   "metadata": {},
   "source": [
    "- There are no significant missing values in the datset. However, there are 269 distinct asset codes with no asset names. Therefore market data with news data on asset name can cause problems\n",
    "- Volume has the highest correlation to the response variable i.e. returnsOpenNextMktres10\n",
    "- Closing Price of stock at one day is not same as Opening Price of next day. It suggests that we might have potential outliers incase the the difference between the two is very high.\n",
    "- Mostly null data comes from market adjusted columns. We might need to fill them up with some values.\n",
    "- Returns should not take extremely higher values. If it does, it is either noise, or extreme data that will confuse our prediction later on. We might need to remove these extreme data."
   ]
  },
  {
   "cell_type": "markdown",
   "metadata": {},
   "source": [
    "### News Data"
   ]
  },
  {
   "cell_type": "markdown",
   "metadata": {},
   "source": [
    "- Unlike Market Data, we do not have 'Unknown' asset names in News Data.\n",
    "- We find missing values in Headline. We would like to remove these rows, since prediction is impossible.\n",
    "- Some news are delayed which is calculated by taking difference between firstCreated and time. We might like to get rid of such articles.\n",
    "- There are almost negligible news articles with Urgency code equals 2"
   ]
  },
  {
   "cell_type": "markdown",
   "metadata": {},
   "source": [
    "Based on above findings, we do following Data Pre-processings."
   ]
  },
  {
   "cell_type": "markdown",
   "metadata": {},
   "source": [
    "# Part A: Data Pre-Processing"
   ]
  },
  {
   "cell_type": "markdown",
   "metadata": {},
   "source": [
    "## 1. Market Data"
   ]
  },
  {
   "cell_type": "markdown",
   "metadata": {},
   "source": [
    "#### Load Data"
   ]
  },
  {
   "cell_type": "code",
   "execution_count": 1,
   "metadata": {},
   "outputs": [],
   "source": [
    "import pandas as pd\n",
    "import numpy as np\n",
    "import datetime\n",
    "import matplotlib.pyplot as plt"
   ]
  },
  {
   "cell_type": "code",
   "execution_count": 2,
   "metadata": {},
   "outputs": [],
   "source": [
    "df1 = pd.read_csv(\"market_train1.csv\")\n",
    "df2 = pd.read_csv(\"market_train2.csv\")\n",
    "df3 = pd.read_csv(\"market_train3.csv\")\n",
    "df4 = pd.read_csv(\"market_train4.csv\")\n",
    "df5 = pd.read_csv(\"market_train5.csv\")\n",
    "market_data = pd.concat([df1,df2,df3,df4,df5])"
   ]
  },
  {
   "cell_type": "code",
   "execution_count": 3,
   "metadata": {},
   "outputs": [],
   "source": [
    "market_data = market_data.drop(market_data.columns[0], axis=1)"
   ]
  },
  {
   "cell_type": "code",
   "execution_count": 4,
   "metadata": {},
   "outputs": [],
   "source": [
    "market_data['time'] = pd.to_datetime(market_data['time'])\n",
    "market_data['assetName'] = market_data['assetName'].astype('category')"
   ]
  },
  {
   "cell_type": "markdown",
   "metadata": {},
   "source": [
    "### 1.1 Outliers - Open to close: \n",
    "Clip rows where difference between close price on one day and open price on next day is more than 50% "
   ]
  },
  {
   "cell_type": "code",
   "execution_count": 5,
   "metadata": {},
   "outputs": [
    {
     "name": "stdout",
     "output_type": "stream",
     "text": [
      "In 83 lines price increases by 50% or more in a day\n",
      "In 16 lines price decreases by 50% or more in a day\n"
     ]
    }
   ],
   "source": [
    "market_data['close_open_ratio'] = np.abs(market_data['close']/market_data['open'])\n",
    "threshold = 0.5\n",
    "print('In %i lines price increases by 50%% or more in a day' %(market_data['close_open_ratio']>=1.5).sum())\n",
    "print('In %i lines price decreases by 50%% or more in a day' %(market_data['close_open_ratio']<=0.5).sum())\n",
    "market_data['close_open_ratio'] = market_data['close_open_ratio'].clip(lower=0.5,upper=1.5)\n",
    "market_data['close'] = market_data['open']*market_data['close_open_ratio']"
   ]
  },
  {
   "cell_type": "markdown",
   "metadata": {},
   "source": [
    "### 1.2 Fill nulls - Market values:\n",
    "Fill null data in market adjusted columns with the raw values in the same row."
   ]
  },
  {
   "cell_type": "code",
   "execution_count": 6,
   "metadata": {},
   "outputs": [],
   "source": [
    "column_market = ['returnsClosePrevMktres1','returnsOpenPrevMktres1','returnsClosePrevMktres10', 'returnsOpenPrevMktres10']\n",
    "column_raw = ['returnsClosePrevRaw1', 'returnsOpenPrevRaw1','returnsClosePrevRaw10', 'returnsOpenPrevRaw10']\n",
    "for i in range(len(column_raw)):\n",
    "    market_data[column_market[i]] = market_data[column_market[i]].fillna(market_data[column_raw[i]])"
   ]
  },
  {
   "cell_type": "markdown",
   "metadata": {},
   "source": [
    "#### 1.3 Outliers-Returns:  \n",
    "Stock with returns exceeding above 50% or falling below 50% needs to be removed"
   ]
  },
  {
   "cell_type": "code",
   "execution_count": 7,
   "metadata": {},
   "outputs": [
    {
     "name": "stdout",
     "output_type": "stream",
     "text": [
      "There were 246 lines removed\n"
     ]
    }
   ],
   "source": [
    "column_return = column_market + column_raw\n",
    "orig_len = market_data.shape[0]\n",
    "for column in column_return:\n",
    "    market_data = market_data.loc[market_data[column]>-50]\n",
    "    market_data = market_data.loc[market_data[column]<50]\n",
    "new_len = market_data.shape[0]\n",
    "rmv_len = np.abs(orig_len-new_len)\n",
    "print('There were %i lines removed' %rmv_len)"
   ]
  },
  {
   "cell_type": "code",
   "execution_count": 8,
   "metadata": {},
   "outputs": [
    {
     "data": {
      "text/plain": [
       "Index(['time', 'assetCode', 'assetName', 'volume', 'close', 'open',\n",
       "       'returnsClosePrevRaw1', 'returnsOpenPrevRaw1',\n",
       "       'returnsClosePrevMktres1', 'returnsOpenPrevMktres1',\n",
       "       'returnsClosePrevRaw10', 'returnsOpenPrevRaw10',\n",
       "       'returnsClosePrevMktres10', 'returnsOpenPrevMktres10',\n",
       "       'returnsOpenNextMktres10', 'universe', 'close_open_ratio'],\n",
       "      dtype='object')"
      ]
     },
     "execution_count": 8,
     "metadata": {},
     "output_type": "execute_result"
    }
   ],
   "source": [
    "market_data.columns"
   ]
  },
  {
   "cell_type": "code",
   "execution_count": 9,
   "metadata": {},
   "outputs": [],
   "source": [
    "market_data = market_data[['time', 'assetCode', 'assetName', 'volume', 'close', 'open',\n",
    "       'returnsClosePrevMktres1', 'returnsOpenPrevMktres1',\n",
    "       'returnsClosePrevRaw10',\n",
    "       'returnsClosePrevMktres10', 'returnsOpenPrevMktres10',\n",
    "       'returnsOpenNextMktres10', 'universe', 'close_open_ratio']]"
   ]
  },
  {
   "cell_type": "code",
   "execution_count": 10,
   "metadata": {},
   "outputs": [
    {
     "data": {
      "text/plain": [
       "(4072709, 14)"
      ]
     },
     "execution_count": 10,
     "metadata": {},
     "output_type": "execute_result"
    }
   ],
   "source": [
    "market_data.shape"
   ]
  },
  {
   "cell_type": "markdown",
   "metadata": {},
   "source": [
    "# 2. News Data "
   ]
  },
  {
   "cell_type": "markdown",
   "metadata": {},
   "source": [
    "#### Load Data"
   ]
  },
  {
   "cell_type": "code",
   "execution_count": 11,
   "metadata": {},
   "outputs": [],
   "source": [
    "df1 = pd.read_csv(\"news_train1.csv\")"
   ]
  },
  {
   "cell_type": "code",
   "execution_count": 12,
   "metadata": {},
   "outputs": [],
   "source": [
    "df2 = pd.read_csv(\"news_train2.csv\")"
   ]
  },
  {
   "cell_type": "code",
   "execution_count": 13,
   "metadata": {},
   "outputs": [],
   "source": [
    "df3 = pd.read_csv(\"news_train3.csv\")"
   ]
  },
  {
   "cell_type": "code",
   "execution_count": 14,
   "metadata": {},
   "outputs": [],
   "source": [
    "df4 = pd.read_csv(\"news_train4.csv\")"
   ]
  },
  {
   "cell_type": "code",
   "execution_count": 15,
   "metadata": {},
   "outputs": [],
   "source": [
    "df5 = pd.read_csv(\"news_train5.csv\")"
   ]
  },
  {
   "cell_type": "code",
   "execution_count": 16,
   "metadata": {},
   "outputs": [],
   "source": [
    "df6 = pd.read_csv(\"news_train6.csv\")"
   ]
  },
  {
   "cell_type": "code",
   "execution_count": 17,
   "metadata": {},
   "outputs": [],
   "source": [
    "df7 = pd.read_csv(\"news_train7.csv\")"
   ]
  },
  {
   "cell_type": "code",
   "execution_count": 18,
   "metadata": {},
   "outputs": [],
   "source": [
    "df8 = pd.read_csv(\"news_train8.csv\")"
   ]
  },
  {
   "cell_type": "code",
   "execution_count": 19,
   "metadata": {},
   "outputs": [],
   "source": [
    "df9 = pd.read_csv(\"news_train9.csv\")"
   ]
  },
  {
   "cell_type": "code",
   "execution_count": 20,
   "metadata": {},
   "outputs": [],
   "source": [
    "df10 = pd.read_csv(\"news_train10.csv\")"
   ]
  },
  {
   "cell_type": "code",
   "execution_count": 21,
   "metadata": {
    "scrolled": true
   },
   "outputs": [],
   "source": [
    "news_data = pd.concat([df1,df2,df3,df4,df5,df6,df7,df8,df9,df10])"
   ]
  },
  {
   "cell_type": "code",
   "execution_count": 22,
   "metadata": {},
   "outputs": [
    {
     "data": {
      "text/plain": [
       "Unnamed: 0                int64\n",
       "time                     object\n",
       "sourceTimestamp          object\n",
       "firstCreated             object\n",
       "sourceId                 object\n",
       "headline                 object\n",
       "urgency                   int64\n",
       "takeSequence              int64\n",
       "provider                 object\n",
       "subjects                 object\n",
       "audiences                object\n",
       "bodySize                  int64\n",
       "companyCount              int64\n",
       "headlineTag              object\n",
       "marketCommentary           bool\n",
       "sentenceCount             int64\n",
       "wordCount                 int64\n",
       "assetCodes               object\n",
       "assetName                object\n",
       "firstMentionSentence      int64\n",
       "relevance               float64\n",
       "sentimentClass            int64\n",
       "sentimentNegative       float64\n",
       "sentimentNeutral        float64\n",
       "sentimentPositive       float64\n",
       "sentimentWordCount        int64\n",
       "noveltyCount12H           int64\n",
       "noveltyCount24H           int64\n",
       "noveltyCount3D            int64\n",
       "noveltyCount5D            int64\n",
       "noveltyCount7D            int64\n",
       "volumeCounts12H           int64\n",
       "volumeCounts24H           int64\n",
       "volumeCounts3D            int64\n",
       "volumeCounts5D            int64\n",
       "volumeCounts7D            int64\n",
       "dtype: object"
      ]
     },
     "execution_count": 22,
     "metadata": {},
     "output_type": "execute_result"
    }
   ],
   "source": [
    "news_data.dtypes"
   ]
  },
  {
   "cell_type": "code",
   "execution_count": 23,
   "metadata": {},
   "outputs": [],
   "source": [
    "news_data = news_data.drop(news_data.columns[0], axis=1)"
   ]
  },
  {
   "cell_type": "code",
   "execution_count": 24,
   "metadata": {},
   "outputs": [],
   "source": [
    "news_data = news_data[['time', 'sourceTimestamp', 'firstCreated', 'sourceId', 'headline',\n",
    "       'urgency', 'takeSequence', 'provider', 'subjects', 'audiences',\n",
    "       'bodySize', 'companyCount', 'headlineTag',\n",
    "       'sentenceCount', 'wordCount', 'assetCodes', 'assetName',\n",
    "       'firstMentionSentence', 'relevance', 'sentimentClass',\n",
    "       'sentimentNegative', 'sentimentNeutral', 'sentimentPositive',\n",
    "       'sentimentWordCount', 'noveltyCount12H', 'noveltyCount24H',\n",
    "       'volumeCounts12H',\n",
    "       'volumeCounts24H']]"
   ]
  },
  {
   "cell_type": "code",
   "execution_count": 25,
   "metadata": {},
   "outputs": [
    {
     "data": {
      "text/plain": [
       "(9328749, 28)"
      ]
     },
     "execution_count": 25,
     "metadata": {},
     "output_type": "execute_result"
    }
   ],
   "source": [
    "news_data.shape"
   ]
  },
  {
   "cell_type": "code",
   "execution_count": 26,
   "metadata": {},
   "outputs": [],
   "source": [
    "news_data['time'] = pd.to_datetime(news_data['time'])\n",
    "news_data['sourceTimestamp'] = pd.to_datetime(news_data['sourceTimestamp'])\n",
    "news_data['firstCreated'] = pd.to_datetime(news_data['firstCreated'])\n",
    "news_data['provider'] = news_data['provider'].astype('category')\n",
    "news_data['subjects'] = news_data['subjects'].astype('category')\n",
    "news_data['audiences'] = news_data['audiences'].astype('category')\n",
    "news_data['assetCodes'] = news_data['assetCodes'].astype('category')\n",
    "news_data['assetName'] = news_data['assetName'].astype('category')\n",
    "news_data['urgency'] = news_data['urgency'].astype('category')\n",
    "#news_data['takeSequence'] = news_data['takeSequence'].astype('category')\n",
    "#news_data['firstMentionSentence'] = news_data['firstMentionSentence'].astype('category')"
   ]
  },
  {
   "cell_type": "markdown",
   "metadata": {},
   "source": [
    "### 2.1 Blank Headlines"
   ]
  },
  {
   "cell_type": "markdown",
   "metadata": {},
   "source": [
    "We remove rows with blank headlines from the news data"
   ]
  },
  {
   "cell_type": "code",
   "execution_count": 27,
   "metadata": {},
   "outputs": [
    {
     "name": "stdout",
     "output_type": "stream",
     "text": [
      "There were 73960 lines removed\n"
     ]
    }
   ],
   "source": [
    "orig_len = news_data.shape[0]\n",
    "news_data = news_data[pd.notnull(news_data['headline'])]\n",
    "new_len = news_data.shape[0]\n",
    "rmv_len = np.abs(orig_len-new_len)\n",
    "print('There were %i lines removed' %rmv_len)"
   ]
  },
  {
   "cell_type": "markdown",
   "metadata": {},
   "source": [
    "### 2.2 Delayed news items"
   ]
  },
  {
   "cell_type": "markdown",
   "metadata": {},
   "source": [
    "We remove rows where delay in news article is more than 1"
   ]
  },
  {
   "cell_type": "code",
   "execution_count": 28,
   "metadata": {},
   "outputs": [
    {
     "name": "stdout",
     "output_type": "stream",
     "text": [
      "There were 4 lines removed\n"
     ]
    }
   ],
   "source": [
    "orig_len = news_data.shape[0]\n",
    "news_data['news_delay'] = news_data['time'] - news_data['sourceTimestamp']\n",
    "news_data = news_data[news_data.news_delay < datetime.timedelta(days=1)]\n",
    "new_len = news_data.shape[0]\n",
    "rmv_len = np.abs(orig_len-new_len)\n",
    "print('There were %i lines removed' %rmv_len)"
   ]
  },
  {
   "cell_type": "markdown",
   "metadata": {},
   "source": [
    "### 2.3 Remove Outliers"
   ]
  },
  {
   "cell_type": "code",
   "execution_count": 29,
   "metadata": {},
   "outputs": [],
   "source": [
    "# Function to remove outliers\n",
    "def remove_outliers(data_frame, column_list, low=0.02, high=0.98):\n",
    "    temp_frame = data_frame\n",
    "    for column in column_list:\n",
    "        this_column = data_frame[column]\n",
    "        quant_df = this_column.quantile([low,high])\n",
    "        low_limit = quant_df[low]\n",
    "        high_limit = quant_df[high]\n",
    "        temp_frame[column] = data_frame[column].clip(lower=low_limit, upper=high_limit)\n",
    "    return temp_frame"
   ]
  },
  {
   "cell_type": "code",
   "execution_count": 30,
   "metadata": {},
   "outputs": [],
   "source": [
    "# Remove outlier\n",
    "# columns_outlier = ['bodySize', 'sentenceCount', 'wordCount', 'sentimentWordCount','noveltyCount12H',\\\n",
    "#                   'noveltyCount24H', 'noveltyCount3D', 'noveltyCount5D', 'noveltyCount7D', 'volumeCounts12H', 'volumeCounts24H',\\\n",
    "#                   'volumeCounts3D','volumeCounts5D','volumeCounts7D']\n",
    "columns_outlier = ['bodySize', 'sentenceCount', 'wordCount', 'sentimentWordCount','noveltyCount12H',\\\n",
    "                  'noveltyCount24H', 'volumeCounts12H', 'volumeCounts24H',\\\n",
    "                  ]\n",
    "news_data = remove_outliers(news_data, columns_outlier)"
   ]
  },
  {
   "cell_type": "code",
   "execution_count": 31,
   "metadata": {},
   "outputs": [
    {
     "data": {
      "text/plain": [
       "(9254785, 29)"
      ]
     },
     "execution_count": 31,
     "metadata": {},
     "output_type": "execute_result"
    }
   ],
   "source": [
    "news_data.shape"
   ]
  },
  {
   "cell_type": "markdown",
   "metadata": {},
   "source": [
    "# Part B: Feature Engineering"
   ]
  },
  {
   "cell_type": "markdown",
   "metadata": {},
   "source": [
    "## Data Sampling"
   ]
  },
  {
   "cell_type": "code",
   "execution_count": 32,
   "metadata": {},
   "outputs": [],
   "source": [
    "#sampling = True\n",
    "sampling = False"
   ]
  },
  {
   "cell_type": "code",
   "execution_count": 33,
   "metadata": {},
   "outputs": [],
   "source": [
    "if sampling:\n",
    "    #market_train_df = market_data.tail(100_000)\n",
    "    #news_train_df = news_data.tail(200_000)\n",
    "    market_train_df = market_data.tail(40_000)\n",
    "    news_train_df = news_data.tail(100_000)\n",
    "else:\n",
    "    market_train_df = market_data\n",
    "    news_train_df = news_data"
   ]
  },
  {
   "cell_type": "code",
   "execution_count": 34,
   "metadata": {},
   "outputs": [],
   "source": [
    "market_train_df['dat'] = market_train_df.time.dt.date"
   ]
  },
  {
   "cell_type": "code",
   "execution_count": 35,
   "metadata": {},
   "outputs": [],
   "source": [
    "market_train_df = market_train_df[(market_train_df['dat']>=datetime.date(2013,1,1)) & (market_train_df['dat']<=datetime.date(2016,12,31))]"
   ]
  },
  {
   "cell_type": "code",
   "execution_count": 36,
   "metadata": {},
   "outputs": [
    {
     "name": "stderr",
     "output_type": "stream",
     "text": [
      "C:\\Users\\RaviSingh\\Miniconda3\\lib\\site-packages\\ipykernel_launcher.py:1: FutureWarning: Comparing Series of datetimes with 'datetime.date'.  Currently, the\n",
      "'datetime.date' is coerced to a datetime. In the future pandas will\n",
      "not coerce, and a TypeError will be raised. To retain the current\n",
      "behavior, convert the 'datetime.date' to a datetime with\n",
      "'pd.Timestamp'.\n",
      "  \"\"\"Entry point for launching an IPython kernel.\n"
     ]
    }
   ],
   "source": [
    "news_train_df = news_train_df[(news_train_df['firstCreated'] >= datetime.date(2013,1,1)) & (news_train_df['firstCreated']<=datetime.date(2016,12,31))]"
   ]
  },
  {
   "cell_type": "code",
   "execution_count": 37,
   "metadata": {},
   "outputs": [
    {
     "data": {
      "text/plain": [
       "(1718491, 15)"
      ]
     },
     "execution_count": 37,
     "metadata": {},
     "output_type": "execute_result"
    }
   ],
   "source": [
    "market_train_df.shape"
   ]
  },
  {
   "cell_type": "code",
   "execution_count": 38,
   "metadata": {},
   "outputs": [
    {
     "data": {
      "text/plain": [
       "(4053316, 29)"
      ]
     },
     "execution_count": 38,
     "metadata": {},
     "output_type": "execute_result"
    }
   ],
   "source": [
    "news_train_df.shape"
   ]
  },
  {
   "cell_type": "markdown",
   "metadata": {},
   "source": [
    "## Data Pre-Processing Function"
   ]
  },
  {
   "cell_type": "code",
   "execution_count": 39,
   "metadata": {},
   "outputs": [],
   "source": [
    "def market_quant_feats(market_df):\n",
    "    \n",
    "    # get moving average\n",
    "    def moving_avg(X, feat1):\n",
    "        X[feat1 + '_MA_7MA'] = X[feat1].rolling(window=7).mean()\n",
    "        X[feat1 + '_MA_15MA'] = X[feat1].rolling(window=15).mean()\n",
    "        X[feat1 + '_MA_30MA'] = X[feat1].rolling(window=30).mean()\n",
    "        X[feat1 + '_MA_60MA'] = X[feat1].rolling(window=60).mean()\n",
    "        return X\n",
    "        \n",
    "    # get moving standard deviation\n",
    "    def moving_std(X, feat1):\n",
    "        #X[feat1 + '_MA_1std'] = X[feat1].rolling(window=1).std()\n",
    "        X[feat1 + '_MA_3std'] = X[feat1].rolling(window=3).std()\n",
    "        X[feat1 + '_MA_5std'] = X[feat1].rolling(window=5).std()\n",
    "        return X\n",
    "        \n",
    "    market_df = moving_avg(market_df, 'close')\n",
    "    market_df = moving_avg(market_df, 'volume')\n",
    "    market_df = moving_std(market_df, 'volume')\n",
    "    \n",
    "    # bollinger band\n",
    "    no_of_std = 2\n",
    "    market_df['MA_7MA'] = market_df['close'].rolling(window=7).mean()\n",
    "    market_df['MA_7MA_std'] = market_df['close'].rolling(window=7).std() \n",
    "    market_df['MA_7MA_BB_high'] = market_df['MA_7MA'] + no_of_std * market_df['MA_7MA_std']\n",
    "    market_df['MA_7MA_BB_low'] = market_df['MA_7MA'] - no_of_std * market_df['MA_7MA_std']\n",
    "    market_df['MA_15MA'] = market_df['close'].rolling(window=15).mean()\n",
    "    market_df['MA_15MA_std'] = market_df['close'].rolling(window=15).std() \n",
    "    market_df['MA_15MA_BB_high'] = market_df['MA_15MA'] + no_of_std * market_df['MA_15MA_std']\n",
    "    market_df['MA_15MA_BB_low'] = market_df['MA_15MA'] - no_of_std * market_df['MA_15MA_std']\n",
    "    market_df['MA_30MA'] = market_df['close'].rolling(window=30).mean()\n",
    "    market_df['MA_30MA_std'] = market_df['close'].rolling(window=30).std() \n",
    "    market_df['MA_30MA_BB_high'] = market_df['MA_30MA'] + no_of_std * market_df['MA_30MA_std']\n",
    "    market_df['MA_30MA_BB_low'] = market_df['MA_30MA'] - no_of_std * market_df['MA_30MA_std']\n",
    "    \n",
    "    # Adding daily difference\n",
    "    new_col = market_df[\"close\"] - market_df[\"open\"]\n",
    "    market_df.insert(loc=6, column=\"daily_diff\", value=new_col)\n",
    "    market_df['close_to_open'] =  np.abs(market_df['close'] / market_df['open'])\n",
    "    \n",
    "    return market_df"
   ]
  },
  {
   "cell_type": "code",
   "execution_count": 40,
   "metadata": {},
   "outputs": [],
   "source": [
    "pd.options.mode.chained_assignment = None\n",
    "market_train_df = market_quant_feats(market_train_df)"
   ]
  },
  {
   "cell_type": "code",
   "execution_count": 75,
   "metadata": {},
   "outputs": [
    {
     "data": {
      "text/plain": [
       "275248      {'DF.N'}\n",
       "275249     {'YUM.N'}\n",
       "275250    {'KRFT.O'}\n",
       "275251    {'SGOL.P'}\n",
       "275252     {'BAC.N'}\n",
       "Name: assetCodes, dtype: category\n",
       "Categories (10691, object): [{'000030.KS', 'WF.N'}, {'005490.KS', 'PKX.N'}, {'017670.KS', 'SKM.N'}, {'034220.KS', 'LPL.N'}, ..., {'ZX.N'}, {'ZYNE.OQ', 'ZYNE.O'}, {'ZZ.N', 'ZZC.N'}, {'ZZ.N'}]"
      ]
     },
     "execution_count": 75,
     "metadata": {},
     "output_type": "execute_result"
    }
   ],
   "source": [
    "news_train_df['assetCodes'].head()"
   ]
  },
  {
   "cell_type": "code",
   "execution_count": 39,
   "metadata": {},
   "outputs": [
    {
     "name": "stderr",
     "output_type": "stream",
     "text": [
      "C:\\Users\\RaviSingh\\Miniconda3\\lib\\site-packages\\ipykernel_launcher.py:1: SettingWithCopyWarning: \n",
      "A value is trying to be set on a copy of a slice from a DataFrame.\n",
      "Try using .loc[row_indexer,col_indexer] = value instead\n",
      "\n",
      "See the caveats in the documentation: http://pandas.pydata.org/pandas-docs/stable/indexing.html#indexing-view-versus-copy\n",
      "  \"\"\"Entry point for launching an IPython kernel.\n",
      "C:\\Users\\RaviSingh\\Miniconda3\\lib\\site-packages\\ipykernel_launcher.py:2: SettingWithCopyWarning: \n",
      "A value is trying to be set on a copy of a slice from a DataFrame.\n",
      "Try using .loc[row_indexer,col_indexer] = value instead\n",
      "\n",
      "See the caveats in the documentation: http://pandas.pydata.org/pandas-docs/stable/indexing.html#indexing-view-versus-copy\n",
      "  \n",
      "C:\\Users\\RaviSingh\\Miniconda3\\lib\\site-packages\\ipykernel_launcher.py:3: SettingWithCopyWarning: \n",
      "A value is trying to be set on a copy of a slice from a DataFrame.\n",
      "Try using .loc[row_indexer,col_indexer] = value instead\n",
      "\n",
      "See the caveats in the documentation: http://pandas.pydata.org/pandas-docs/stable/indexing.html#indexing-view-versus-copy\n",
      "  This is separate from the ipykernel package so we can avoid doing imports until\n",
      "C:\\Users\\RaviSingh\\Miniconda3\\lib\\site-packages\\ipykernel_launcher.py:4: SettingWithCopyWarning: \n",
      "A value is trying to be set on a copy of a slice from a DataFrame.\n",
      "Try using .loc[row_indexer,col_indexer] = value instead\n",
      "\n",
      "See the caveats in the documentation: http://pandas.pydata.org/pandas-docs/stable/indexing.html#indexing-view-versus-copy\n",
      "  after removing the cwd from sys.path.\n"
     ]
    }
   ],
   "source": [
    "news_train_df['time'] = pd.to_datetime(news_train_df['time'])\n",
    "news_train_df['sourceTimestamp'] = pd.to_datetime(news_train_df['sourceTimestamp'])\n",
    "news_train_df['firstCreated'] = pd.to_datetime(news_train_df['firstCreated'])\n",
    "news_train_df['urgency'] = news_train_df['urgency'].astype('int64')\n",
    "#news_train_df['assetCodes'] = news_train_df['assetCodes'].astype('category')"
   ]
  },
  {
   "cell_type": "code",
   "execution_count": 40,
   "metadata": {},
   "outputs": [],
   "source": [
    "# Data processing function\n",
    "from itertools import chain\n",
    "head_line_tag_dict = {k: v for v, k in enumerate(news_train_df['headlineTag'].unique())}\n",
    "asset_code_dict = {k: v for v, k in enumerate(market_train_df['assetCode'].unique())}\n",
    "def data_prep(market_df,news_df, head_line_tag_dict, asset_code_dict):\n",
    "    market_df['date'] = market_df.time.dt.date\n",
    "    market_df['close_to_open'] = market_df['close'] / market_df['open']\n",
    "    market_df['average price'] = (market_df['close'] + market_df['open'])/2\n",
    "    market_df['pricevolume'] = market_df['volume'] * market_df['close']\n",
    "    \n",
    "    news_df['time'] = news_df.time.dt.hour\n",
    "    news_df['sourceTimestamp']= news_df.sourceTimestamp.dt.hour\n",
    "    news_df['firstCreated'] = news_df.firstCreated.dt.date\n",
    "    news_df['headlineLen'] = news_df['headline'].apply(lambda x: len(x))\n",
    "    news_df['asset_sentiment_count'] = news_df.groupby(['assetName', 'sentimentClass'])['time'].transform('count')\n",
    "    news_df['asset_sentence_mean'] = news_df.groupby(['assetName', 'sentenceCount'])['time'].transform('mean')\n",
    "    news_df['len_audiences'] = news_df['audiences'].map(lambda x: len(eval(x)))\n",
    "    news_df['position'] = news_df['firstMentionSentence'] / news_df['sentenceCount']\n",
    "    news_df['coverage'] = news_df['sentimentWordCount'] / news_df['wordCount']\n",
    "    \n",
    "    news_cols_agg = {\n",
    "        'headlineLen' : ['sum'],\n",
    "        'asset_sentiment_count' : ['sum'],\n",
    "        'asset_sentence_mean' : ['mean'],\n",
    "        'len_audiences' : ['sum','mean'],\n",
    "        'position' : ['mean'],\n",
    "        'coverage' : ['sum','mean'],\n",
    "        'urgency': ['min', 'count'],\n",
    "        'takeSequence': ['max'],\n",
    "        'bodySize': ['min', 'max', 'mean', 'std'],\n",
    "        'wordCount': ['min', 'max', 'mean', 'std'],\n",
    "        'sentenceCount': ['min', 'max', 'mean', 'std'],\n",
    "        'companyCount': ['min', 'max', 'mean', 'std'],\n",
    "        'relevance': ['min', 'max', 'mean', 'std'],\n",
    "        'sentimentNegative': ['min', 'max', 'mean', 'std'],\n",
    "        'sentimentNeutral': ['min', 'max', 'mean', 'std'],\n",
    "        'sentimentPositive': ['min', 'max', 'mean', 'std'],\n",
    "        'sentimentWordCount': ['min', 'max', 'mean', 'std'],\n",
    "        'noveltyCount24H': ['min', 'max', 'mean', 'std'],\n",
    "        'volumeCounts24H': ['min', 'max', 'mean', 'std']\n",
    "\n",
    "            }\n",
    "    \n",
    "\n",
    "    news_df['assetCodes'] = news_df['assetCodes'].str.findall(f\"'([\\w\\./]+)'\")    \n",
    "    \n",
    "    # Expand assetCodes\n",
    "    assetCodes_expanded = list(chain(*news_df['assetCodes']))\n",
    "    assetCodes_index = news_df.index.repeat( news_df['assetCodes'].apply(len) )\n",
    "\n",
    "    assert len(assetCodes_index) == len(assetCodes_expanded)\n",
    "    df_assetCodes = pd.DataFrame({'level_0': assetCodes_index, 'assetCode': assetCodes_expanded})\n",
    "\n",
    "    # Create expandaded news (will repeat every assetCodes' row)\n",
    "    news_cols = ['firstCreated', 'assetCodes'] + sorted(news_cols_agg.keys())\n",
    "    news_df_expanded = pd.merge(df_assetCodes, news_df[news_cols], left_on='level_0', right_index=True, suffixes=(['','_old']))\n",
    "\n",
    "    # Free memory\n",
    "    del news_df, df_assetCodes\n",
    "\n",
    "    # Aggregate numerical news features\n",
    "    news_df_aggregated = news_df_expanded.groupby(['firstCreated', 'assetCode']).agg(news_cols_agg).reset_index()\n",
    "    \n",
    "    # Free memory\n",
    "    del news_df_expanded\n",
    "\n",
    "\n",
    "    news_df_aggregated.columns = ['_'.join(col).strip() for col in news_df_aggregated.columns.values]\n",
    "\n",
    "    \n",
    "    market_df = pd.merge(market_df, news_df_aggregated, how='left', left_on=['date', 'assetCode'], right_on=['firstCreated_', 'assetCode_'])\n",
    "    market_df['assetCodeT'] = market_df['assetCode'].map(asset_code_dict)\n",
    "    \n",
    "    market_df = market_df.dropna(axis=0)\n",
    "    \n",
    "    return market_df"
   ]
  },
  {
   "cell_type": "code",
   "execution_count": 41,
   "metadata": {
    "scrolled": true
   },
   "outputs": [
    {
     "data": {
      "text/html": [
       "<div>\n",
       "<style scoped>\n",
       "    .dataframe tbody tr th:only-of-type {\n",
       "        vertical-align: middle;\n",
       "    }\n",
       "\n",
       "    .dataframe tbody tr th {\n",
       "        vertical-align: top;\n",
       "    }\n",
       "\n",
       "    .dataframe thead th {\n",
       "        text-align: right;\n",
       "    }\n",
       "</style>\n",
       "<table border=\"1\" class=\"dataframe\">\n",
       "  <thead>\n",
       "    <tr style=\"text-align: right;\">\n",
       "      <th></th>\n",
       "      <th>time</th>\n",
       "      <th>assetCode</th>\n",
       "      <th>assetName</th>\n",
       "      <th>volume</th>\n",
       "      <th>close</th>\n",
       "      <th>open</th>\n",
       "      <th>returnsClosePrevMktres1</th>\n",
       "      <th>returnsOpenPrevMktres1</th>\n",
       "      <th>returnsClosePrevRaw10</th>\n",
       "      <th>returnsClosePrevMktres10</th>\n",
       "      <th>...</th>\n",
       "      <th>sentimentWordCount_std</th>\n",
       "      <th>noveltyCount24H_min</th>\n",
       "      <th>noveltyCount24H_max</th>\n",
       "      <th>noveltyCount24H_mean</th>\n",
       "      <th>noveltyCount24H_std</th>\n",
       "      <th>volumeCounts24H_min</th>\n",
       "      <th>volumeCounts24H_max</th>\n",
       "      <th>volumeCounts24H_mean</th>\n",
       "      <th>volumeCounts24H_std</th>\n",
       "      <th>assetCodeT</th>\n",
       "    </tr>\n",
       "  </thead>\n",
       "  <tbody>\n",
       "    <tr>\n",
       "      <th>0</th>\n",
       "      <td>2013-01-02 22:00:00</td>\n",
       "      <td>A.N</td>\n",
       "      <td>Agilent Technologies Inc</td>\n",
       "      <td>6290038.0</td>\n",
       "      <td>41.88</td>\n",
       "      <td>42.17</td>\n",
       "      <td>-0.011745</td>\n",
       "      <td>0.028649</td>\n",
       "      <td>0.030503</td>\n",
       "      <td>0.001360</td>\n",
       "      <td>...</td>\n",
       "      <td>310.943199</td>\n",
       "      <td>0.0</td>\n",
       "      <td>2.0</td>\n",
       "      <td>0.222222</td>\n",
       "      <td>0.548319</td>\n",
       "      <td>0.0</td>\n",
       "      <td>15.0</td>\n",
       "      <td>2.277778</td>\n",
       "      <td>3.922867</td>\n",
       "      <td>0</td>\n",
       "    </tr>\n",
       "    <tr>\n",
       "      <th>1</th>\n",
       "      <td>2013-01-02 22:00:00</td>\n",
       "      <td>AAN.N</td>\n",
       "      <td>Aaron's Inc</td>\n",
       "      <td>463556.0</td>\n",
       "      <td>28.70</td>\n",
       "      <td>28.72</td>\n",
       "      <td>-0.003633</td>\n",
       "      <td>0.058916</td>\n",
       "      <td>0.021716</td>\n",
       "      <td>0.010621</td>\n",
       "      <td>...</td>\n",
       "      <td>7.071068</td>\n",
       "      <td>0.0</td>\n",
       "      <td>0.0</td>\n",
       "      <td>0.000000</td>\n",
       "      <td>0.000000</td>\n",
       "      <td>0.0</td>\n",
       "      <td>1.0</td>\n",
       "      <td>0.500000</td>\n",
       "      <td>0.707107</td>\n",
       "      <td>1</td>\n",
       "    </tr>\n",
       "    <tr>\n",
       "      <th>3</th>\n",
       "      <td>2013-01-02 22:00:00</td>\n",
       "      <td>AAPL.O</td>\n",
       "      <td>Apple Inc</td>\n",
       "      <td>20017838.0</td>\n",
       "      <td>549.03</td>\n",
       "      <td>554.00</td>\n",
       "      <td>-0.011501</td>\n",
       "      <td>0.051464</td>\n",
       "      <td>0.058208</td>\n",
       "      <td>0.011897</td>\n",
       "      <td>...</td>\n",
       "      <td>200.647145</td>\n",
       "      <td>0.0</td>\n",
       "      <td>8.0</td>\n",
       "      <td>1.505882</td>\n",
       "      <td>1.991790</td>\n",
       "      <td>0.0</td>\n",
       "      <td>47.0</td>\n",
       "      <td>15.341176</td>\n",
       "      <td>14.808743</td>\n",
       "      <td>3</td>\n",
       "    </tr>\n",
       "    <tr>\n",
       "      <th>6</th>\n",
       "      <td>2013-01-02 22:00:00</td>\n",
       "      <td>ABB.N</td>\n",
       "      <td>ABB Ltd</td>\n",
       "      <td>2097157.0</td>\n",
       "      <td>21.19</td>\n",
       "      <td>21.21</td>\n",
       "      <td>0.003721</td>\n",
       "      <td>0.021242</td>\n",
       "      <td>0.034163</td>\n",
       "      <td>0.008140</td>\n",
       "      <td>...</td>\n",
       "      <td>253.520694</td>\n",
       "      <td>0.0</td>\n",
       "      <td>3.0</td>\n",
       "      <td>0.764706</td>\n",
       "      <td>0.986540</td>\n",
       "      <td>0.0</td>\n",
       "      <td>31.0</td>\n",
       "      <td>4.176471</td>\n",
       "      <td>5.675415</td>\n",
       "      <td>6</td>\n",
       "    </tr>\n",
       "    <tr>\n",
       "      <th>7</th>\n",
       "      <td>2013-01-02 22:00:00</td>\n",
       "      <td>ABC.N</td>\n",
       "      <td>AmerisourceBergen Corp</td>\n",
       "      <td>1972401.0</td>\n",
       "      <td>43.49</td>\n",
       "      <td>43.59</td>\n",
       "      <td>-0.003538</td>\n",
       "      <td>0.010152</td>\n",
       "      <td>-0.006624</td>\n",
       "      <td>-0.023833</td>\n",
       "      <td>...</td>\n",
       "      <td>88.928810</td>\n",
       "      <td>0.0</td>\n",
       "      <td>1.0</td>\n",
       "      <td>0.333333</td>\n",
       "      <td>0.577350</td>\n",
       "      <td>0.0</td>\n",
       "      <td>2.0</td>\n",
       "      <td>1.000000</td>\n",
       "      <td>1.000000</td>\n",
       "      <td>7</td>\n",
       "    </tr>\n",
       "  </tbody>\n",
       "</table>\n",
       "<p>5 rows × 77 columns</p>\n",
       "</div>"
      ],
      "text/plain": [
       "                 time assetCode                 assetName      volume   close  \\\n",
       "0 2013-01-02 22:00:00       A.N  Agilent Technologies Inc   6290038.0   41.88   \n",
       "1 2013-01-02 22:00:00     AAN.N               Aaron's Inc    463556.0   28.70   \n",
       "3 2013-01-02 22:00:00    AAPL.O                 Apple Inc  20017838.0  549.03   \n",
       "6 2013-01-02 22:00:00     ABB.N                   ABB Ltd   2097157.0   21.19   \n",
       "7 2013-01-02 22:00:00     ABC.N    AmerisourceBergen Corp   1972401.0   43.49   \n",
       "\n",
       "     open  returnsClosePrevMktres1  returnsOpenPrevMktres1  \\\n",
       "0   42.17                -0.011745                0.028649   \n",
       "1   28.72                -0.003633                0.058916   \n",
       "3  554.00                -0.011501                0.051464   \n",
       "6   21.21                 0.003721                0.021242   \n",
       "7   43.59                -0.003538                0.010152   \n",
       "\n",
       "   returnsClosePrevRaw10  returnsClosePrevMktres10    ...      \\\n",
       "0               0.030503                  0.001360    ...       \n",
       "1               0.021716                  0.010621    ...       \n",
       "3               0.058208                  0.011897    ...       \n",
       "6               0.034163                  0.008140    ...       \n",
       "7              -0.006624                 -0.023833    ...       \n",
       "\n",
       "   sentimentWordCount_std  noveltyCount24H_min  noveltyCount24H_max  \\\n",
       "0              310.943199                  0.0                  2.0   \n",
       "1                7.071068                  0.0                  0.0   \n",
       "3              200.647145                  0.0                  8.0   \n",
       "6              253.520694                  0.0                  3.0   \n",
       "7               88.928810                  0.0                  1.0   \n",
       "\n",
       "   noveltyCount24H_mean noveltyCount24H_std volumeCounts24H_min  \\\n",
       "0              0.222222            0.548319                 0.0   \n",
       "1              0.000000            0.000000                 0.0   \n",
       "3              1.505882            1.991790                 0.0   \n",
       "6              0.764706            0.986540                 0.0   \n",
       "7              0.333333            0.577350                 0.0   \n",
       "\n",
       "   volumeCounts24H_max  volumeCounts24H_mean  volumeCounts24H_std assetCodeT  \n",
       "0                 15.0              2.277778             3.922867          0  \n",
       "1                  1.0              0.500000             0.707107          1  \n",
       "3                 47.0             15.341176            14.808743          3  \n",
       "6                 31.0              4.176471             5.675415          6  \n",
       "7                  2.0              1.000000             1.000000          7  \n",
       "\n",
       "[5 rows x 77 columns]"
      ]
     },
     "execution_count": 41,
     "metadata": {},
     "output_type": "execute_result"
    }
   ],
   "source": [
    "pd.options.mode.chained_assignment = None  # default='warn'\n",
    "prep_data = data_prep(market_train_df, news_train_df, head_line_tag_dict, asset_code_dict)\n",
    "prep_data.head()"
   ]
  },
  {
   "cell_type": "code",
   "execution_count": 42,
   "metadata": {
    "scrolled": true
   },
   "outputs": [
    {
     "data": {
      "text/plain": [
       "Index(['time', 'assetCode', 'assetName', 'volume', 'close', 'open',\n",
       "       'returnsClosePrevMktres1', 'returnsOpenPrevMktres1',\n",
       "       'returnsClosePrevRaw10', 'returnsClosePrevMktres10',\n",
       "       'returnsOpenPrevMktres10', 'returnsOpenNextMktres10', 'universe',\n",
       "       'close_open_ratio', 'dat', 'date', 'close_to_open', 'average price',\n",
       "       'pricevolume', 'firstCreated_', 'assetCode_', 'headlineLen_sum',\n",
       "       'asset_sentiment_count_sum', 'asset_sentence_mean_mean',\n",
       "       'len_audiences_sum', 'len_audiences_mean', 'position_mean',\n",
       "       'coverage_sum', 'coverage_mean', 'urgency_min', 'urgency_count',\n",
       "       'takeSequence_max', 'bodySize_min', 'bodySize_max', 'bodySize_mean',\n",
       "       'bodySize_std', 'wordCount_min', 'wordCount_max', 'wordCount_mean',\n",
       "       'wordCount_std', 'sentenceCount_min', 'sentenceCount_max',\n",
       "       'sentenceCount_mean', 'sentenceCount_std', 'companyCount_min',\n",
       "       'companyCount_max', 'companyCount_mean', 'companyCount_std',\n",
       "       'relevance_min', 'relevance_max', 'relevance_mean', 'relevance_std',\n",
       "       'sentimentNegative_min', 'sentimentNegative_max',\n",
       "       'sentimentNegative_mean', 'sentimentNegative_std',\n",
       "       'sentimentNeutral_min', 'sentimentNeutral_max', 'sentimentNeutral_mean',\n",
       "       'sentimentNeutral_std', 'sentimentPositive_min',\n",
       "       'sentimentPositive_max', 'sentimentPositive_mean',\n",
       "       'sentimentPositive_std', 'sentimentWordCount_min',\n",
       "       'sentimentWordCount_max', 'sentimentWordCount_mean',\n",
       "       'sentimentWordCount_std', 'noveltyCount24H_min', 'noveltyCount24H_max',\n",
       "       'noveltyCount24H_mean', 'noveltyCount24H_std', 'volumeCounts24H_min',\n",
       "       'volumeCounts24H_max', 'volumeCounts24H_mean', 'volumeCounts24H_std',\n",
       "       'assetCodeT'],\n",
       "      dtype='object')"
      ]
     },
     "execution_count": 42,
     "metadata": {},
     "output_type": "execute_result"
    }
   ],
   "source": [
    "prep_data.columns"
   ]
  },
  {
   "cell_type": "code",
   "execution_count": 43,
   "metadata": {},
   "outputs": [
    {
     "data": {
      "text/plain": [
       "(837654, 77)"
      ]
     },
     "execution_count": 43,
     "metadata": {},
     "output_type": "execute_result"
    }
   ],
   "source": [
    "prep_data.shape"
   ]
  },
  {
   "cell_type": "code",
   "execution_count": 179,
   "metadata": {},
   "outputs": [
    {
     "data": {
      "text/plain": [
       "Text(0.5,1,'Pair-wise correlation')"
      ]
     },
     "execution_count": 179,
     "metadata": {},
     "output_type": "execute_result"
    },
    {
     "data": {
      "image/png": "[encoded data removed]",
      "text/plain": [
       "<Figure size 1800x720 with 2 Axes>"
      ]
     },
     "metadata": {},
     "output_type": "display_data"
    }
   ],
   "source": [
    "import matplotlib.pyplot as plt\n",
    "import seaborn as sns; sns.set()\n",
    "\n",
    "columns_corr = ['takeSequence', 'companyCount','marketCommentary','sentenceCount',\\\n",
    "           'firstMentionSentence','relevance','sentimentClass','sentimentWordCount','noveltyCount24H',\\\n",
    "           'noveltyCount3D', 'noveltyCount5D', 'noveltyCount7D','volumeCounts24H','volumeCounts3D','volumeCounts5D','volumeCounts7D','returnsOpenNextMktres10']\n",
    "colormap = plt.cm.RdBu\n",
    "plt.figure(figsize=(25,10))\n",
    "sns.heatmap(prep_data[columns_corr].astype(float).corr(), linewidths=0.1, vmax=1.0, vmin=-1., square=True, cmap=colormap, linecolor='white', annot=True)\n",
    "plt.title('Pair-wise correlation')\n"
   ]
  },
  {
   "cell_type": "markdown",
   "metadata": {},
   "source": [
    "## Data Selection"
   ]
  },
  {
   "cell_type": "markdown",
   "metadata": {},
   "source": [
    "Looking at the statistics, most data behave homogeneously after 2009 (volume increase, price increase, etc.). However, before 2009, due to the burst of the housing bubble that leads to the financial crisis in 2008, the data behaves differently. So the question to make the right prediction for this problem is: Will there be a financial crisis in the next 6 months? If the answer is Yes, then we include data before 2009. If the answer is No, then we exclude them.\n",
    "\n",
    "In this notebook, I choose No as the answer and proceed from that."
   ]
  },
  {
   "cell_type": "code",
   "execution_count": 44,
   "metadata": {},
   "outputs": [],
   "source": [
    "train_data = prep_data[(prep_data['date']>=datetime.date(2013,1,1)) & (prep_data['date']<=datetime.date(2015,12,31))]"
   ]
  },
  {
   "cell_type": "code",
   "execution_count": 45,
   "metadata": {},
   "outputs": [],
   "source": [
    "val_data = prep_data[(prep_data['date']>=datetime.date(2016,1,1)) & (prep_data['date']<=datetime.date(2017,1,1))]"
   ]
  },
  {
   "cell_type": "code",
   "execution_count": 46,
   "metadata": {},
   "outputs": [
    {
     "data": {
      "text/plain": [
       "(627772, 77)"
      ]
     },
     "execution_count": 46,
     "metadata": {},
     "output_type": "execute_result"
    }
   ],
   "source": [
    "train_data.shape"
   ]
  },
  {
   "cell_type": "markdown",
   "metadata": {},
   "source": [
    "## Feature Selection"
   ]
  },
  {
   "cell_type": "markdown",
   "metadata": {},
   "source": [
    "We then perform feature selection . Feature scaling is not needed since we plan to use lightgbm - a tree-based model, which do not require standardization.\n",
    "\n",
    "We convert this problem into a classification problem: 0 for negative return and 1 for positive return"
   ]
  },
  {
   "cell_type": "code",
   "execution_count": 47,
   "metadata": {},
   "outputs": [
    {
     "name": "stdout",
     "output_type": "stream",
     "text": [
      "SELECTED FEATURES:  ['volume', 'close', 'open', 'returnsClosePrevMktres1', 'returnsOpenPrevMktres1', 'returnsClosePrevRaw10', 'returnsClosePrevMktres10', 'returnsOpenPrevMktres10', 'universe', 'close_open_ratio', 'close_to_open', 'average price', 'pricevolume', 'headlineLen_sum', 'asset_sentiment_count_sum', 'asset_sentence_mean_mean', 'len_audiences_sum', 'len_audiences_mean', 'position_mean', 'coverage_sum', 'coverage_mean', 'urgency_min', 'urgency_count', 'takeSequence_max', 'bodySize_min', 'bodySize_max', 'bodySize_mean', 'bodySize_std', 'wordCount_min', 'wordCount_max', 'wordCount_mean', 'wordCount_std', 'sentenceCount_min', 'sentenceCount_max', 'sentenceCount_mean', 'sentenceCount_std', 'companyCount_min', 'companyCount_max', 'companyCount_mean', 'companyCount_std', 'relevance_min', 'relevance_max', 'relevance_mean', 'relevance_std', 'sentimentNegative_min', 'sentimentNegative_max', 'sentimentNegative_mean', 'sentimentNegative_std', 'sentimentNeutral_min', 'sentimentNeutral_max', 'sentimentNeutral_mean', 'sentimentNeutral_std', 'sentimentPositive_min', 'sentimentPositive_max', 'sentimentPositive_mean', 'sentimentPositive_std', 'sentimentWordCount_min', 'sentimentWordCount_max', 'sentimentWordCount_mean', 'sentimentWordCount_std', 'noveltyCount24H_min', 'noveltyCount24H_max', 'noveltyCount24H_mean', 'noveltyCount24H_std', 'volumeCounts24H_min', 'volumeCounts24H_max', 'volumeCounts24H_mean', 'volumeCounts24H_std']\n"
     ]
    }
   ],
   "source": [
    "feature_columns = [c for c in train_data if c not in ['assetCode','firstCreated_', 'assetCodes','assetCode_', 'assetName_x', 'assetName_y', 'audiences', 'firstCreated', 'headline',\\\n",
    "                                                       'headlineTag','marketCommentary','provider','returnsOpenNextMktres10','sourceId','subjects',\\\n",
    "                                                       'time', 'date','news_delay','assetName','assetName_y','index','assetCodeT','dat']]\n",
    "print(\"SELECTED FEATURES: \", feature_columns)\n",
    "\n",
    "# Extract X and Y\n",
    "X_train = train_data[feature_columns].values\n",
    "up_train = train_data['returnsOpenNextMktres10'].map(lambda x: 0 if x<0 else 1).values\n",
    "r_train = train_data['returnsOpenNextMktres10'].values\n",
    "Y_train= up_train\n",
    "\n",
    "X_val = val_data[feature_columns].values\n",
    "up_val = val_data['returnsOpenNextMktres10'].map(lambda x: 0 if x<0 else 1).values\n",
    "r_val = val_data['returnsOpenNextMktres10'].values\n",
    "Y_val= up_val\n",
    "\n",
    "num_sample = Y_train.shape[0]\n",
    "#print('Number of samples: ', num_sample)"
   ]
  },
  {
   "cell_type": "code",
   "execution_count": 48,
   "metadata": {},
   "outputs": [
    {
     "data": {
      "text/plain": [
       "array([ 6.29003800e+06,  4.18800000e+01,  4.21700000e+01, -1.17446418e-02,\n",
       "        2.86489620e-02,  3.05025092e-02,  1.36001405e-03,  4.75933524e-02,\n",
       "        1.00000000e+00,  9.93123073e-01,  9.93123073e-01,  4.20250000e+01,\n",
       "        2.63426791e+08,  1.74500000e+03,  1.23640000e+04,  1.47677953e+01,\n",
       "        5.50000000e+01,  3.05555556e+00,  5.62897435e-01,  1.49680328e+01,\n",
       "        8.31557378e-01,  1.00000000e+00,  1.80000000e+01,  9.00000000e+00,\n",
       "        0.00000000e+00,  8.63200000e+03,  2.21722222e+03,  3.35363874e+03,\n",
       "        9.00000000e+00,  1.47300000e+03,  3.81222222e+02,  5.47163332e+02,\n",
       "        1.00000000e+00,  5.90000000e+01,  1.35000000e+01,  1.89837392e+01,\n",
       "        1.00000000e+00,  4.10000000e+01,  4.05555556e+00,  9.49595717e+00,\n",
       "        6.65190000e-02,  1.00000000e+00,  9.01156778e-01,  2.88069692e-01,\n",
       "        8.90408000e-03,  8.13827000e-01,  2.21239666e-01,  2.77958329e-01,\n",
       "        1.15508000e-01,  9.26513000e-01,  4.10133778e-01,  2.91071188e-01,\n",
       "        4.37422000e-02,  8.55866000e-01,  3.68626594e-01,  3.13745346e-01,\n",
       "        9.00000000e+00,  9.06000000e+02,  2.09444444e+02,  3.10943199e+02,\n",
       "        0.00000000e+00,  2.00000000e+00,  2.22222222e-01,  5.48318881e-01,\n",
       "        0.00000000e+00,  1.50000000e+01,  2.27777778e+00,  3.92286743e+00])"
      ]
     },
     "execution_count": 48,
     "metadata": {},
     "output_type": "execute_result"
    }
   ],
   "source": [
    "X_train[0]"
   ]
  },
  {
   "cell_type": "markdown",
   "metadata": {},
   "source": [
    "## Data Splitting"
   ]
  },
  {
   "cell_type": "markdown",
   "metadata": {},
   "source": [
    "To avoid leaking of data, we split training and validation set in chronological order instead of random splitting."
   ]
  },
  {
   "cell_type": "code",
   "execution_count": 49,
   "metadata": {},
   "outputs": [],
   "source": [
    "#train_ratio = 0.7\n",
    "#test_ratio = 0.3\n",
    "#index_split = int(num_sample*train_ratio)\n",
    "#X_train = X[:index_split,:]\n",
    "#X_val = X[index_split:,:]\n",
    "#Y_train = Y[:index_split]\n",
    "#Y_val = Y[index_split:]"
   ]
  },
  {
   "cell_type": "code",
   "execution_count": 50,
   "metadata": {},
   "outputs": [
    {
     "data": {
      "text/plain": [
       "0.49265179077754345"
      ]
     },
     "execution_count": 50,
     "metadata": {},
     "output_type": "execute_result"
    }
   ],
   "source": [
    "sum(Y_train)/len(Y_train)\n",
    "#sum(Y_val)/len(Y_val)"
   ]
  },
  {
   "cell_type": "markdown",
   "metadata": {},
   "source": [
    "# Building Model"
   ]
  },
  {
   "cell_type": "markdown",
   "metadata": {},
   "source": [
    "We will build lightGBM model as our first attempt"
   ]
  },
  {
   "cell_type": "code",
   "execution_count": 61,
   "metadata": {},
   "outputs": [],
   "source": [
    "import random\n",
    "random.seed(1)\n",
    "import time\n",
    "\n",
    "import xgboost as xgb\n",
    "import lightgbm as lgb\n",
    "from sklearn.model_selection import train_test_split, GridSearchCV, RandomizedSearchCV\n",
    "from sklearn.model_selection import TimeSeriesSplit\n",
    "from sklearn.model_selection import StratifiedKFold\n",
    "from sklearn.metrics import roc_auc_score\n",
    "from sklearn.metrics import get_scorer\n",
    "from sklearn.metrics import f1_score\n",
    "from sklearn.preprocessing import LabelEncoder\n",
    "from sklearn.metrics import accuracy_score\n",
    "from sklearn.ensemble import VotingClassifier\n",
    "import lightgbm as lgb\n",
    "from sklearn.externals.joblib import Parallel, delayed\n",
    "from sklearn.base import clone\n",
    "\n",
    "import warnings\n",
    "warnings.filterwarnings(\"ignore\",category=DeprecationWarning)"
   ]
  },
  {
   "cell_type": "markdown",
   "metadata": {},
   "source": [
    "## Model - XGBoost"
   ]
  },
  {
   "cell_type": "markdown",
   "metadata": {},
   "source": [
    "### Parameter Tuning"
   ]
  },
  {
   "cell_type": "code",
   "execution_count": 53,
   "metadata": {},
   "outputs": [],
   "source": [
    "# Set up decay learning rate\n",
    "def learning_rate_power(current_round):\n",
    "    base_learning_rate = 0.1\n",
    "    min_learning_rate = 0.01\n",
    "    lr = base_learning_rate * np.power(0.995,current_round)\n",
    "    return max(lr, min_learning_rate)"
   ]
  },
  {
   "cell_type": "code",
   "execution_count": 54,
   "metadata": {},
   "outputs": [],
   "source": [
    "from scipy.stats import randint as sp_randint\n",
    "from scipy.stats import uniform as sp_uniform\n",
    "\n",
    "tune_params = {'n_estimators': [500,1000],\n",
    "              'max_depth': [5,10],\n",
    "              'colsample_bytree':[0.6,0.8],\n",
    "              'min_child_weight': [5, 10],\n",
    "              'gamma': [0.5,1.5],\n",
    "              'reg_lambda':[1e-3,1e-1],\n",
    "               'reg_alpha':[1e-3, 1e-1],\n",
    "              'learning_rate':[0.1,0.01]}\n",
    "\n",
    "fit_params = {'early_stopping_rounds':100,\n",
    "              'eval_metric': 'auc',\n",
    "              'eval_set': [(X_train, Y_train), (X_val, Y_val)],\n",
    "              'verbose': 200\n",
    "              }"
   ]
  },
  {
   "cell_type": "code",
   "execution_count": 264,
   "metadata": {},
   "outputs": [],
   "source": [
    "xgb_clf = xgb.XGBClassifier(objective='binary:logistic',silent=True, nthread=1)\n",
    "\n",
    "folds = 5\n",
    "param_comb = 40\n",
    "\n",
    "#skf = StratifiedKFold(n_splits=folds, shuffle = True, random_state = 1001)\n",
    "\n",
    "rs = RandomizedSearchCV(xgb_clf, param_distributions=tune_params, n_iter=param_comb, scoring='roc_auc', n_jobs=4, cv = tscv.split(X_train), verbose=3, random_state=1001 )\n"
   ]
  },
  {
   "cell_type": "code",
   "execution_count": 142,
   "metadata": {},
   "outputs": [],
   "source": [
    "#rs.fit(X_train, Y_train, **fit_params)"
   ]
  },
  {
   "cell_type": "code",
   "execution_count": 150,
   "metadata": {},
   "outputs": [
    {
     "data": {
      "text/plain": [
       "XGBClassifier(base_score=0.5, booster='gbtree', colsample_bylevel=1,\n",
       "       colsample_bytree=0.8326070504077219, gamma=2, learning_rate=0.1,\n",
       "       max_delta_step=0, max_depth=14, min_child_weight=10, missing=None,\n",
       "       n_estimators=1000, n_jobs=1, nthread=1, objective='binary:logistic',\n",
       "       random_state=0, reg_alpha=1, reg_lambda=0.1, scale_pos_weight=1,\n",
       "       seed=None, silent=True, subsample=1)"
      ]
     },
     "execution_count": 150,
     "metadata": {},
     "output_type": "execute_result"
    }
   ],
   "source": [
    "rs.best_estimator_"
   ]
  },
  {
   "cell_type": "markdown",
   "metadata": {},
   "source": [
    "### Building Model on best estimated parameters"
   ]
  },
  {
   "cell_type": "code",
   "execution_count": 55,
   "metadata": {},
   "outputs": [
    {
     "name": "stdout",
     "output_type": "stream",
     "text": [
      "[0]\tvalidation_0-auc:0.571454\tvalidation_1-auc:0.542477\n",
      "Multiple eval metrics have been passed: 'validation_1-auc' will be used for early stopping.\n",
      "\n",
      "Will train until validation_1-auc hasn't improved in 100 rounds.\n",
      "[200]\tvalidation_0-auc:0.604614\tvalidation_1-auc:0.552326\n",
      "Stopping. Best iteration:\n",
      "[122]\tvalidation_0-auc:0.598383\tvalidation_1-auc:0.552443\n",
      "\n"
     ]
    },
    {
     "data": {
      "text/plain": [
       "XGBClassifier(base_score=0.5, booster='gbtree', colsample_bylevel=1,\n",
       "       colsample_bytree=0.8, gamma=2, learning_rate=0.01, max_delta_step=0,\n",
       "       max_depth=8, min_child_weight=10, missing=None, n_estimators=5000,\n",
       "       n_jobs=4, nthread=None, objective='binary:logistic',\n",
       "       random_state=300, reg_alpha=2, reg_lambda=1, scale_pos_weight=1,\n",
       "       seed=None, silent=True, subsample=0.7)"
      ]
     },
     "execution_count": 55,
     "metadata": {},
     "output_type": "execute_result"
    }
   ],
   "source": [
    "xgb_clf = xgb.XGBClassifier(n_jobs=4,\n",
    "                             objective='binary:logistic',\n",
    "                            random_state=300)\n",
    "opt_params = {'n_estimators': 5000,\n",
    "              'max_depth': 8,\n",
    "              'subsample':0.7,\n",
    "              'colsample_bytree':0.8,\n",
    "              'min_child_weight': 10,\n",
    "              'gamma': 2,\n",
    "              'reg_lambda':1,\n",
    "               'reg_alpha':2,\n",
    "              'learning_rate':0.01}\n",
    "xgb_clf.set_params(**opt_params)\n",
    "xgb_clf.fit(X_train, Y_train,**fit_params)"
   ]
  },
  {
   "cell_type": "markdown",
   "metadata": {},
   "source": [
    "### Accuracies on Training and Validation set"
   ]
  },
  {
   "cell_type": "code",
   "execution_count": 56,
   "metadata": {},
   "outputs": [
    {
     "name": "stdout",
     "output_type": "stream",
     "text": [
      "Training accuracy:  0.5694886041429054\n",
      "Validation accuracy:  0.5371446812971098\n"
     ]
    }
   ],
   "source": [
    "print('Training accuracy: ', accuracy_score(Y_train, xgb_clf.predict(X_train)))\n",
    "print('Validation accuracy: ', accuracy_score(Y_val, xgb_clf.predict(X_val)))"
   ]
  },
  {
   "cell_type": "code",
   "execution_count": 57,
   "metadata": {},
   "outputs": [],
   "source": [
    "def perf_measure(y_actual, y_hat):\n",
    "    TP = 0\n",
    "    FP = 0\n",
    "    TN = 0\n",
    "    FN = 0\n",
    "\n",
    "    for i in range(len(y_hat)): \n",
    "        if y_actual[i]==y_hat[i]==1:\n",
    "            TP += 1\n",
    "        if y_hat[i]==1 and y_actual[i]!=y_hat[i]:\n",
    "            FP += 1\n",
    "        if y_actual[i]==y_hat[i]==0:\n",
    "            TN += 1\n",
    "        if y_hat[i]==0 and y_actual[i]!=y_hat[i]:\n",
    "            FN += 1\n",
    "    return(TP, FP, TN, FN)"
   ]
  },
  {
   "cell_type": "code",
   "execution_count": 58,
   "metadata": {},
   "outputs": [
    {
     "name": "stdout",
     "output_type": "stream",
     "text": [
      "56.46435349998221\n",
      "57.419332556774116\n"
     ]
    }
   ],
   "source": [
    "(TP,FP,TN,FN) = perf_measure(Y_train, xgb_clf.predict(X_train))\n",
    "#confusion_matrix(Y_train, lgb_clf.predict(X_train))\n",
    "TNR = TN/(TN+FP)\n",
    "TPR = TP/(TP+FN)\n",
    "print(TPR*100)\n",
    "print(TNR*100)"
   ]
  },
  {
   "cell_type": "code",
   "execution_count": 59,
   "metadata": {},
   "outputs": [
    {
     "data": {
      "text/plain": [
       "(174629, 135619, 182880, 134644)"
      ]
     },
     "execution_count": 59,
     "metadata": {},
     "output_type": "execute_result"
    }
   ],
   "source": [
    "(TP,FP,TN,FN)"
   ]
  },
  {
   "cell_type": "markdown",
   "metadata": {},
   "source": [
    "## Visualizing Result"
   ]
  },
  {
   "cell_type": "code",
   "execution_count": 60,
   "metadata": {},
   "outputs": [
    {
     "data": {
      "image/png": "[encoded data removed]",
      "text/plain": [
       "<Figure size 720x432 with 1 Axes>"
      ]
     },
     "metadata": {},
     "output_type": "display_data"
    }
   ],
   "source": [
    "features_imp = pd.DataFrame()\n",
    "features_imp['features'] = list(feature_columns)[:]\n",
    "features_imp['importance'] = xgb_clf.feature_importances_\n",
    "features_imp = features_imp.sort_values(by='importance', ascending=False).reset_index()\n",
    "\n",
    "y = -np.arange(15)\n",
    "plt.figure(figsize=(10,6))\n",
    "plt.barh(y, features_imp.loc[:14,'importance'].values)\n",
    "plt.yticks(y,(features_imp.loc[:14,'features']))\n",
    "plt.xlabel('Feature importance')\n",
    "plt.title('Features importance')\n",
    "plt.tight_layout()"
   ]
  }
 ],
 "metadata": {
  "kernelspec": {
   "display_name": "Python 3",
   "language": "python",
   "name": "python3"
  },
  "language_info": {
   "codemirror_mode": {
    "name": "ipython",
    "version": 3
   },
   "file_extension": ".py",
   "mimetype": "text/x-python",
   "name": "python",
   "nbconvert_exporter": "python",
   "pygments_lexer": "ipython3",
   "version": "3.6.5"
  }
 },
 "nbformat": 4,
 "nbformat_minor": 2
}
