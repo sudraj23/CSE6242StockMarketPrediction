{
 "cells": [
  {
   "cell_type": "markdown",
   "metadata": {},
   "source": [
    "# Data Pre-Processing & Feature Engineering"
   ]
  },
  {
   "cell_type": "markdown",
   "metadata": {},
   "source": [
    "Based on EDA we have got following information on Market and News Data"
   ]
  },
  {
   "cell_type": "markdown",
   "metadata": {},
   "source": [
    "### Market Data"
   ]
  },
  {
   "cell_type": "markdown",
   "metadata": {},
   "source": [
    "- There are no significant missing values in the datset. However, there are 269 distinct asset codes with no asset names. Therefore market data with news data on asset name can cause problems\n",
    "- Volume has the highest correlation to the response variable i.e. returnsOpenNextMktres10\n",
    "- Closing Price of stock at one day is not same as Opening Price of next day. It suggests that we might have potential outliers incase the the difference between the two is very high.\n",
    "- Mostly null data comes from market adjusted columns. We might need to fill them up with some values.\n",
    "- Returns should not take extremely higher values. If it does, it is either noise, or extreme data that will confuse our prediction later on. We might need to remove these extreme data."
   ]
  },
  {
   "cell_type": "markdown",
   "metadata": {},
   "source": [
    "### News Data"
   ]
  },
  {
   "cell_type": "markdown",
   "metadata": {},
   "source": [
    "- Unlike Market Data, we do not have 'Unknown' asset names in News Data.\n",
    "- We find missing values in Headline. We would like to remove these rows, since prediction is impossible.\n",
    "- Some news are delayed which is calculated by taking difference between firstCreated and time. We might like to get rid of such articles.\n",
    "- There are almost negligible news articles with Urgency code equals 2"
   ]
  },
  {
   "cell_type": "markdown",
   "metadata": {},
   "source": [
    "Based on above findings, we do following Data Pre-processings."
   ]
  },
  {
   "cell_type": "markdown",
   "metadata": {},
   "source": [
    "# Part A: Data Pre-Processing"
   ]
  },
  {
   "cell_type": "markdown",
   "metadata": {},
   "source": [
    "## 1. Market Data"
   ]
  },
  {
   "cell_type": "markdown",
   "metadata": {},
   "source": [
    "#### Load Data"
   ]
  },
  {
   "cell_type": "code",
   "execution_count": 1,
   "metadata": {},
   "outputs": [],
   "source": [
    "import pandas as pd\n",
    "import numpy as np\n",
    "import datetime\n",
    "import matplotlib.pyplot as plt"
   ]
  },
  {
   "cell_type": "code",
   "execution_count": 2,
   "metadata": {},
   "outputs": [],
   "source": [
    "df1 = pd.read_csv(\"market_train1.csv\")\n",
    "df2 = pd.read_csv(\"market_train2.csv\")\n",
    "df3 = pd.read_csv(\"market_train3.csv\")\n",
    "df4 = pd.read_csv(\"market_train4.csv\")\n",
    "df5 = pd.read_csv(\"market_train5.csv\")\n",
    "market_data = pd.concat([df1,df2,df3,df4,df5])"
   ]
  },
  {
   "cell_type": "code",
   "execution_count": 3,
   "metadata": {},
   "outputs": [],
   "source": [
    "market_data = market_data.drop(market_data.columns[0], axis=1)"
   ]
  },
  {
   "cell_type": "code",
   "execution_count": 4,
   "metadata": {},
   "outputs": [],
   "source": [
    "market_data['time'] = pd.to_datetime(market_data['time'])\n",
    "market_data['assetName'] = market_data['assetName'].astype('category')"
   ]
  },
  {
   "cell_type": "markdown",
   "metadata": {},
   "source": [
    "### 1.1 Outliers - Open to close: \n",
    "Clip rows where difference between close price on one day and open price on next day is more than 50% "
   ]
  },
  {
   "cell_type": "code",
   "execution_count": 5,
   "metadata": {},
   "outputs": [
    {
     "name": "stdout",
     "output_type": "stream",
     "text": [
      "In 83 lines price increases by 50% or more in a day\n",
      "In 16 lines price decreases by 50% or more in a day\n"
     ]
    }
   ],
   "source": [
    "market_data['close_open_ratio'] = np.abs(market_data['close']/market_data['open'])\n",
    "threshold = 0.5\n",
    "print('In %i lines price increases by 50%% or more in a day' %(market_data['close_open_ratio']>=1.5).sum())\n",
    "print('In %i lines price decreases by 50%% or more in a day' %(market_data['close_open_ratio']<=0.5).sum())\n",
    "market_data['close_open_ratio'] = market_data['close_open_ratio'].clip(lower=0.5,upper=1.5)\n",
    "market_data['close'] = market_data['open']*market_data['close_open_ratio']"
   ]
  },
  {
   "cell_type": "markdown",
   "metadata": {},
   "source": [
    "### 1.2 Fill nulls - Market values:\n",
    "Fill null data in market adjusted columns with the raw values in the same row."
   ]
  },
  {
   "cell_type": "code",
   "execution_count": 6,
   "metadata": {},
   "outputs": [],
   "source": [
    "column_market = ['returnsClosePrevMktres1','returnsOpenPrevMktres1','returnsClosePrevMktres10', 'returnsOpenPrevMktres10']\n",
    "column_raw = ['returnsClosePrevRaw1', 'returnsOpenPrevRaw1','returnsClosePrevRaw10', 'returnsOpenPrevRaw10']\n",
    "for i in range(len(column_raw)):\n",
    "    market_data[column_market[i]] = market_data[column_market[i]].fillna(market_data[column_raw[i]])"
   ]
  },
  {
   "cell_type": "markdown",
   "metadata": {},
   "source": [
    "#### 1.3 Outliers-Returns:  \n",
    "Stock with returns exceeding above 50% or falling below 50% needs to be removed"
   ]
  },
  {
   "cell_type": "code",
   "execution_count": 7,
   "metadata": {},
   "outputs": [
    {
     "name": "stdout",
     "output_type": "stream",
     "text": [
      "There were 246 lines removed\n"
     ]
    }
   ],
   "source": [
    "column_return = column_market + column_raw\n",
    "orig_len = market_data.shape[0]\n",
    "for column in column_return:\n",
    "    market_data = market_data.loc[market_data[column]>-50]\n",
    "    market_data = market_data.loc[market_data[column]<50]\n",
    "new_len = market_data.shape[0]\n",
    "rmv_len = np.abs(orig_len-new_len)\n",
    "print('There were %i lines removed' %rmv_len)"
   ]
  },
  {
   "cell_type": "markdown",
   "metadata": {},
   "source": [
    "# 2. News Data "
   ]
  },
  {
   "cell_type": "markdown",
   "metadata": {},
   "source": [
    "#### Load Data"
   ]
  },
  {
   "cell_type": "code",
   "execution_count": 8,
   "metadata": {},
   "outputs": [],
   "source": [
    "df1 = pd.read_csv(\"news_train1.csv\")"
   ]
  },
  {
   "cell_type": "code",
   "execution_count": 9,
   "metadata": {},
   "outputs": [],
   "source": [
    "df2 = pd.read_csv(\"news_train2.csv\")"
   ]
  },
  {
   "cell_type": "code",
   "execution_count": 10,
   "metadata": {},
   "outputs": [],
   "source": [
    "df3 = pd.read_csv(\"news_train3.csv\")"
   ]
  },
  {
   "cell_type": "code",
   "execution_count": 11,
   "metadata": {},
   "outputs": [],
   "source": [
    "df4 = pd.read_csv(\"news_train4.csv\")"
   ]
  },
  {
   "cell_type": "code",
   "execution_count": 12,
   "metadata": {},
   "outputs": [],
   "source": [
    "df5 = pd.read_csv(\"news_train5.csv\")"
   ]
  },
  {
   "cell_type": "code",
   "execution_count": 13,
   "metadata": {},
   "outputs": [],
   "source": [
    "df6 = pd.read_csv(\"news_train6.csv\")"
   ]
  },
  {
   "cell_type": "code",
   "execution_count": 14,
   "metadata": {},
   "outputs": [],
   "source": [
    "df7 = pd.read_csv(\"news_train7.csv\")"
   ]
  },
  {
   "cell_type": "code",
   "execution_count": 15,
   "metadata": {},
   "outputs": [],
   "source": [
    "df8 = pd.read_csv(\"news_train8.csv\")"
   ]
  },
  {
   "cell_type": "code",
   "execution_count": 16,
   "metadata": {},
   "outputs": [],
   "source": [
    "df9 = pd.read_csv(\"news_train9.csv\")"
   ]
  },
  {
   "cell_type": "code",
   "execution_count": 17,
   "metadata": {},
   "outputs": [],
   "source": [
    "df10 = pd.read_csv(\"news_train10.csv\")"
   ]
  },
  {
   "cell_type": "code",
   "execution_count": 22,
   "metadata": {},
   "outputs": [],
   "source": [
    "news_data = pd.concat([df1,df2,df3,df4,df5,df6,df7,df8,df9,df10])"
   ]
  },
  {
   "cell_type": "code",
   "execution_count": 25,
   "metadata": {},
   "outputs": [
    {
     "data": {
      "text/plain": [
       "time                     object\n",
       "sourceTimestamp          object\n",
       "firstCreated             object\n",
       "sourceId                 object\n",
       "headline                 object\n",
       "urgency                   int64\n",
       "takeSequence              int64\n",
       "provider                 object\n",
       "subjects                 object\n",
       "audiences                object\n",
       "bodySize                  int64\n",
       "companyCount              int64\n",
       "headlineTag              object\n",
       "marketCommentary           bool\n",
       "sentenceCount             int64\n",
       "wordCount                 int64\n",
       "assetCodes               object\n",
       "assetName                object\n",
       "firstMentionSentence      int64\n",
       "relevance               float64\n",
       "sentimentClass            int64\n",
       "sentimentNegative       float64\n",
       "sentimentNeutral        float64\n",
       "sentimentPositive       float64\n",
       "sentimentWordCount        int64\n",
       "noveltyCount12H           int64\n",
       "noveltyCount24H           int64\n",
       "noveltyCount3D            int64\n",
       "noveltyCount5D            int64\n",
       "noveltyCount7D            int64\n",
       "volumeCounts12H           int64\n",
       "volumeCounts24H           int64\n",
       "volumeCounts3D            int64\n",
       "volumeCounts5D            int64\n",
       "volumeCounts7D            int64\n",
       "dtype: object"
      ]
     },
     "execution_count": 25,
     "metadata": {},
     "output_type": "execute_result"
    }
   ],
   "source": [
    "news_data.dtypes"
   ]
  },
  {
   "cell_type": "code",
   "execution_count": 26,
   "metadata": {},
   "outputs": [
    {
     "ename": "KeyError",
     "evalue": "'time'",
     "output_type": "error",
     "traceback": [
      "\u001b[1;31m---------------------------------------------------------------------------\u001b[0m",
      "\u001b[1;31mKeyError\u001b[0m                                  Traceback (most recent call last)",
      "\u001b[1;32m~\\Miniconda3\\lib\\site-packages\\pandas\\core\\indexes\\base.py\u001b[0m in \u001b[0;36mget_loc\u001b[1;34m(self, key, method, tolerance)\u001b[0m\n\u001b[0;32m   3077\u001b[0m             \u001b[1;32mtry\u001b[0m\u001b[1;33m:\u001b[0m\u001b[1;33m\u001b[0m\u001b[0m\n\u001b[1;32m-> 3078\u001b[1;33m                 \u001b[1;32mreturn\u001b[0m \u001b[0mself\u001b[0m\u001b[1;33m.\u001b[0m\u001b[0m_engine\u001b[0m\u001b[1;33m.\u001b[0m\u001b[0mget_loc\u001b[0m\u001b[1;33m(\u001b[0m\u001b[0mkey\u001b[0m\u001b[1;33m)\u001b[0m\u001b[1;33m\u001b[0m\u001b[0m\n\u001b[0m\u001b[0;32m   3079\u001b[0m             \u001b[1;32mexcept\u001b[0m \u001b[0mKeyError\u001b[0m\u001b[1;33m:\u001b[0m\u001b[1;33m\u001b[0m\u001b[0m\n",
      "\u001b[1;32mpandas\\_libs\\index.pyx\u001b[0m in \u001b[0;36mpandas._libs.index.IndexEngine.get_loc\u001b[1;34m()\u001b[0m\n",
      "\u001b[1;32mpandas\\_libs\\index.pyx\u001b[0m in \u001b[0;36mpandas._libs.index.IndexEngine.get_loc\u001b[1;34m()\u001b[0m\n",
      "\u001b[1;32mpandas\\_libs\\hashtable_class_helper.pxi\u001b[0m in \u001b[0;36mpandas._libs.hashtable.PyObjectHashTable.get_item\u001b[1;34m()\u001b[0m\n",
      "\u001b[1;32mpandas\\_libs\\hashtable_class_helper.pxi\u001b[0m in \u001b[0;36mpandas._libs.hashtable.PyObjectHashTable.get_item\u001b[1;34m()\u001b[0m\n",
      "\u001b[1;31mKeyError\u001b[0m: 'time'",
      "\nDuring handling of the above exception, another exception occurred:\n",
      "\u001b[1;31mKeyError\u001b[0m                                  Traceback (most recent call last)",
      "\u001b[1;32m<ipython-input-26-c2f42ee167cb>\u001b[0m in \u001b[0;36m<module>\u001b[1;34m()\u001b[0m\n\u001b[0;32m      1\u001b[0m \u001b[0mnews_data\u001b[0m \u001b[1;33m=\u001b[0m \u001b[0mnews_data\u001b[0m\u001b[1;33m.\u001b[0m\u001b[0mdrop\u001b[0m\u001b[1;33m(\u001b[0m\u001b[0mnews_data\u001b[0m\u001b[1;33m.\u001b[0m\u001b[0mcolumns\u001b[0m\u001b[1;33m[\u001b[0m\u001b[1;36m0\u001b[0m\u001b[1;33m]\u001b[0m\u001b[1;33m,\u001b[0m \u001b[0maxis\u001b[0m\u001b[1;33m=\u001b[0m\u001b[1;36m1\u001b[0m\u001b[1;33m)\u001b[0m\u001b[1;33m\u001b[0m\u001b[0m\n\u001b[1;32m----> 2\u001b[1;33m \u001b[0mnews_data\u001b[0m\u001b[1;33m[\u001b[0m\u001b[1;34m'time'\u001b[0m\u001b[1;33m]\u001b[0m \u001b[1;33m=\u001b[0m \u001b[0mpd\u001b[0m\u001b[1;33m.\u001b[0m\u001b[0mto_datetime\u001b[0m\u001b[1;33m(\u001b[0m\u001b[0mnews_data\u001b[0m\u001b[1;33m[\u001b[0m\u001b[1;34m'time'\u001b[0m\u001b[1;33m]\u001b[0m\u001b[1;33m)\u001b[0m\u001b[1;33m\u001b[0m\u001b[0m\n\u001b[0m\u001b[0;32m      3\u001b[0m \u001b[0mnews_data\u001b[0m\u001b[1;33m[\u001b[0m\u001b[1;34m'sourceTimestamp'\u001b[0m\u001b[1;33m]\u001b[0m \u001b[1;33m=\u001b[0m \u001b[0mpd\u001b[0m\u001b[1;33m.\u001b[0m\u001b[0mto_datetime\u001b[0m\u001b[1;33m(\u001b[0m\u001b[0mnews_data\u001b[0m\u001b[1;33m[\u001b[0m\u001b[1;34m'sourceTimestamp'\u001b[0m\u001b[1;33m]\u001b[0m\u001b[1;33m)\u001b[0m\u001b[1;33m\u001b[0m\u001b[0m\n\u001b[0;32m      4\u001b[0m \u001b[0mnews_data\u001b[0m\u001b[1;33m[\u001b[0m\u001b[1;34m'firstCreated'\u001b[0m\u001b[1;33m]\u001b[0m \u001b[1;33m=\u001b[0m \u001b[0mpd\u001b[0m\u001b[1;33m.\u001b[0m\u001b[0mto_datetime\u001b[0m\u001b[1;33m(\u001b[0m\u001b[0mnews_data\u001b[0m\u001b[1;33m[\u001b[0m\u001b[1;34m'firstCreated'\u001b[0m\u001b[1;33m]\u001b[0m\u001b[1;33m)\u001b[0m\u001b[1;33m\u001b[0m\u001b[0m\n\u001b[0;32m      5\u001b[0m \u001b[0mnews_data\u001b[0m\u001b[1;33m[\u001b[0m\u001b[1;34m'provider'\u001b[0m\u001b[1;33m]\u001b[0m \u001b[1;33m=\u001b[0m \u001b[0mnews_data\u001b[0m\u001b[1;33m[\u001b[0m\u001b[1;34m'provider'\u001b[0m\u001b[1;33m]\u001b[0m\u001b[1;33m.\u001b[0m\u001b[0mastype\u001b[0m\u001b[1;33m(\u001b[0m\u001b[1;34m'category'\u001b[0m\u001b[1;33m)\u001b[0m\u001b[1;33m\u001b[0m\u001b[0m\n",
      "\u001b[1;32m~\\Miniconda3\\lib\\site-packages\\pandas\\core\\frame.py\u001b[0m in \u001b[0;36m__getitem__\u001b[1;34m(self, key)\u001b[0m\n\u001b[0;32m   2686\u001b[0m             \u001b[1;32mreturn\u001b[0m \u001b[0mself\u001b[0m\u001b[1;33m.\u001b[0m\u001b[0m_getitem_multilevel\u001b[0m\u001b[1;33m(\u001b[0m\u001b[0mkey\u001b[0m\u001b[1;33m)\u001b[0m\u001b[1;33m\u001b[0m\u001b[0m\n\u001b[0;32m   2687\u001b[0m         \u001b[1;32melse\u001b[0m\u001b[1;33m:\u001b[0m\u001b[1;33m\u001b[0m\u001b[0m\n\u001b[1;32m-> 2688\u001b[1;33m             \u001b[1;32mreturn\u001b[0m \u001b[0mself\u001b[0m\u001b[1;33m.\u001b[0m\u001b[0m_getitem_column\u001b[0m\u001b[1;33m(\u001b[0m\u001b[0mkey\u001b[0m\u001b[1;33m)\u001b[0m\u001b[1;33m\u001b[0m\u001b[0m\n\u001b[0m\u001b[0;32m   2689\u001b[0m \u001b[1;33m\u001b[0m\u001b[0m\n\u001b[0;32m   2690\u001b[0m     \u001b[1;32mdef\u001b[0m \u001b[0m_getitem_column\u001b[0m\u001b[1;33m(\u001b[0m\u001b[0mself\u001b[0m\u001b[1;33m,\u001b[0m \u001b[0mkey\u001b[0m\u001b[1;33m)\u001b[0m\u001b[1;33m:\u001b[0m\u001b[1;33m\u001b[0m\u001b[0m\n",
      "\u001b[1;32m~\\Miniconda3\\lib\\site-packages\\pandas\\core\\frame.py\u001b[0m in \u001b[0;36m_getitem_column\u001b[1;34m(self, key)\u001b[0m\n\u001b[0;32m   2693\u001b[0m         \u001b[1;31m# get column\u001b[0m\u001b[1;33m\u001b[0m\u001b[1;33m\u001b[0m\u001b[0m\n\u001b[0;32m   2694\u001b[0m         \u001b[1;32mif\u001b[0m \u001b[0mself\u001b[0m\u001b[1;33m.\u001b[0m\u001b[0mcolumns\u001b[0m\u001b[1;33m.\u001b[0m\u001b[0mis_unique\u001b[0m\u001b[1;33m:\u001b[0m\u001b[1;33m\u001b[0m\u001b[0m\n\u001b[1;32m-> 2695\u001b[1;33m             \u001b[1;32mreturn\u001b[0m \u001b[0mself\u001b[0m\u001b[1;33m.\u001b[0m\u001b[0m_get_item_cache\u001b[0m\u001b[1;33m(\u001b[0m\u001b[0mkey\u001b[0m\u001b[1;33m)\u001b[0m\u001b[1;33m\u001b[0m\u001b[0m\n\u001b[0m\u001b[0;32m   2696\u001b[0m \u001b[1;33m\u001b[0m\u001b[0m\n\u001b[0;32m   2697\u001b[0m         \u001b[1;31m# duplicate columns & possible reduce dimensionality\u001b[0m\u001b[1;33m\u001b[0m\u001b[1;33m\u001b[0m\u001b[0m\n",
      "\u001b[1;32m~\\Miniconda3\\lib\\site-packages\\pandas\\core\\generic.py\u001b[0m in \u001b[0;36m_get_item_cache\u001b[1;34m(self, item)\u001b[0m\n\u001b[0;32m   2487\u001b[0m         \u001b[0mres\u001b[0m \u001b[1;33m=\u001b[0m \u001b[0mcache\u001b[0m\u001b[1;33m.\u001b[0m\u001b[0mget\u001b[0m\u001b[1;33m(\u001b[0m\u001b[0mitem\u001b[0m\u001b[1;33m)\u001b[0m\u001b[1;33m\u001b[0m\u001b[0m\n\u001b[0;32m   2488\u001b[0m         \u001b[1;32mif\u001b[0m \u001b[0mres\u001b[0m \u001b[1;32mis\u001b[0m \u001b[1;32mNone\u001b[0m\u001b[1;33m:\u001b[0m\u001b[1;33m\u001b[0m\u001b[0m\n\u001b[1;32m-> 2489\u001b[1;33m             \u001b[0mvalues\u001b[0m \u001b[1;33m=\u001b[0m \u001b[0mself\u001b[0m\u001b[1;33m.\u001b[0m\u001b[0m_data\u001b[0m\u001b[1;33m.\u001b[0m\u001b[0mget\u001b[0m\u001b[1;33m(\u001b[0m\u001b[0mitem\u001b[0m\u001b[1;33m)\u001b[0m\u001b[1;33m\u001b[0m\u001b[0m\n\u001b[0m\u001b[0;32m   2490\u001b[0m             \u001b[0mres\u001b[0m \u001b[1;33m=\u001b[0m \u001b[0mself\u001b[0m\u001b[1;33m.\u001b[0m\u001b[0m_box_item_values\u001b[0m\u001b[1;33m(\u001b[0m\u001b[0mitem\u001b[0m\u001b[1;33m,\u001b[0m \u001b[0mvalues\u001b[0m\u001b[1;33m)\u001b[0m\u001b[1;33m\u001b[0m\u001b[0m\n\u001b[0;32m   2491\u001b[0m             \u001b[0mcache\u001b[0m\u001b[1;33m[\u001b[0m\u001b[0mitem\u001b[0m\u001b[1;33m]\u001b[0m \u001b[1;33m=\u001b[0m \u001b[0mres\u001b[0m\u001b[1;33m\u001b[0m\u001b[0m\n",
      "\u001b[1;32m~\\Miniconda3\\lib\\site-packages\\pandas\\core\\internals.py\u001b[0m in \u001b[0;36mget\u001b[1;34m(self, item, fastpath)\u001b[0m\n\u001b[0;32m   4113\u001b[0m \u001b[1;33m\u001b[0m\u001b[0m\n\u001b[0;32m   4114\u001b[0m             \u001b[1;32mif\u001b[0m \u001b[1;32mnot\u001b[0m \u001b[0misna\u001b[0m\u001b[1;33m(\u001b[0m\u001b[0mitem\u001b[0m\u001b[1;33m)\u001b[0m\u001b[1;33m:\u001b[0m\u001b[1;33m\u001b[0m\u001b[0m\n\u001b[1;32m-> 4115\u001b[1;33m                 \u001b[0mloc\u001b[0m \u001b[1;33m=\u001b[0m \u001b[0mself\u001b[0m\u001b[1;33m.\u001b[0m\u001b[0mitems\u001b[0m\u001b[1;33m.\u001b[0m\u001b[0mget_loc\u001b[0m\u001b[1;33m(\u001b[0m\u001b[0mitem\u001b[0m\u001b[1;33m)\u001b[0m\u001b[1;33m\u001b[0m\u001b[0m\n\u001b[0m\u001b[0;32m   4116\u001b[0m             \u001b[1;32melse\u001b[0m\u001b[1;33m:\u001b[0m\u001b[1;33m\u001b[0m\u001b[0m\n\u001b[0;32m   4117\u001b[0m                 \u001b[0mindexer\u001b[0m \u001b[1;33m=\u001b[0m \u001b[0mnp\u001b[0m\u001b[1;33m.\u001b[0m\u001b[0marange\u001b[0m\u001b[1;33m(\u001b[0m\u001b[0mlen\u001b[0m\u001b[1;33m(\u001b[0m\u001b[0mself\u001b[0m\u001b[1;33m.\u001b[0m\u001b[0mitems\u001b[0m\u001b[1;33m)\u001b[0m\u001b[1;33m)\u001b[0m\u001b[1;33m[\u001b[0m\u001b[0misna\u001b[0m\u001b[1;33m(\u001b[0m\u001b[0mself\u001b[0m\u001b[1;33m.\u001b[0m\u001b[0mitems\u001b[0m\u001b[1;33m)\u001b[0m\u001b[1;33m]\u001b[0m\u001b[1;33m\u001b[0m\u001b[0m\n",
      "\u001b[1;32m~\\Miniconda3\\lib\\site-packages\\pandas\\core\\indexes\\base.py\u001b[0m in \u001b[0;36mget_loc\u001b[1;34m(self, key, method, tolerance)\u001b[0m\n\u001b[0;32m   3078\u001b[0m                 \u001b[1;32mreturn\u001b[0m \u001b[0mself\u001b[0m\u001b[1;33m.\u001b[0m\u001b[0m_engine\u001b[0m\u001b[1;33m.\u001b[0m\u001b[0mget_loc\u001b[0m\u001b[1;33m(\u001b[0m\u001b[0mkey\u001b[0m\u001b[1;33m)\u001b[0m\u001b[1;33m\u001b[0m\u001b[0m\n\u001b[0;32m   3079\u001b[0m             \u001b[1;32mexcept\u001b[0m \u001b[0mKeyError\u001b[0m\u001b[1;33m:\u001b[0m\u001b[1;33m\u001b[0m\u001b[0m\n\u001b[1;32m-> 3080\u001b[1;33m                 \u001b[1;32mreturn\u001b[0m \u001b[0mself\u001b[0m\u001b[1;33m.\u001b[0m\u001b[0m_engine\u001b[0m\u001b[1;33m.\u001b[0m\u001b[0mget_loc\u001b[0m\u001b[1;33m(\u001b[0m\u001b[0mself\u001b[0m\u001b[1;33m.\u001b[0m\u001b[0m_maybe_cast_indexer\u001b[0m\u001b[1;33m(\u001b[0m\u001b[0mkey\u001b[0m\u001b[1;33m)\u001b[0m\u001b[1;33m)\u001b[0m\u001b[1;33m\u001b[0m\u001b[0m\n\u001b[0m\u001b[0;32m   3081\u001b[0m \u001b[1;33m\u001b[0m\u001b[0m\n\u001b[0;32m   3082\u001b[0m         \u001b[0mindexer\u001b[0m \u001b[1;33m=\u001b[0m \u001b[0mself\u001b[0m\u001b[1;33m.\u001b[0m\u001b[0mget_indexer\u001b[0m\u001b[1;33m(\u001b[0m\u001b[1;33m[\u001b[0m\u001b[0mkey\u001b[0m\u001b[1;33m]\u001b[0m\u001b[1;33m,\u001b[0m \u001b[0mmethod\u001b[0m\u001b[1;33m=\u001b[0m\u001b[0mmethod\u001b[0m\u001b[1;33m,\u001b[0m \u001b[0mtolerance\u001b[0m\u001b[1;33m=\u001b[0m\u001b[0mtolerance\u001b[0m\u001b[1;33m)\u001b[0m\u001b[1;33m\u001b[0m\u001b[0m\n",
      "\u001b[1;32mpandas\\_libs\\index.pyx\u001b[0m in \u001b[0;36mpandas._libs.index.IndexEngine.get_loc\u001b[1;34m()\u001b[0m\n",
      "\u001b[1;32mpandas\\_libs\\index.pyx\u001b[0m in \u001b[0;36mpandas._libs.index.IndexEngine.get_loc\u001b[1;34m()\u001b[0m\n",
      "\u001b[1;32mpandas\\_libs\\hashtable_class_helper.pxi\u001b[0m in \u001b[0;36mpandas._libs.hashtable.PyObjectHashTable.get_item\u001b[1;34m()\u001b[0m\n",
      "\u001b[1;32mpandas\\_libs\\hashtable_class_helper.pxi\u001b[0m in \u001b[0;36mpandas._libs.hashtable.PyObjectHashTable.get_item\u001b[1;34m()\u001b[0m\n",
      "\u001b[1;31mKeyError\u001b[0m: 'time'"
     ]
    }
   ],
   "source": [
    "news_data = news_data.drop(news_data.columns[0], axis=1)\n",
    "news_data['time'] = pd.to_datetime(news_data['time'])\n",
    "news_data['sourceTimestamp'] = pd.to_datetime(news_data['sourceTimestamp'])\n",
    "news_data['firstCreated'] = pd.to_datetime(news_data['firstCreated'])\n",
    "news_data['provider'] = news_data['provider'].astype('category')\n",
    "news_data['subjects'] = news_data['subjects'].astype('category')\n",
    "news_data['audiences'] = news_data['audiences'].astype('category')\n",
    "news_data['assetCodes'] = news_data['assetCodes'].astype('category')\n",
    "news_data['assetName'] = news_data['assetName'].astype('category')"
   ]
  },
  {
   "cell_type": "markdown",
   "metadata": {},
   "source": [
    "### 2.1 Blank Headlines"
   ]
  },
  {
   "cell_type": "markdown",
   "metadata": {},
   "source": [
    "We remove rows with blank headlines from the news data"
   ]
  },
  {
   "cell_type": "code",
   "execution_count": 29,
   "metadata": {},
   "outputs": [
    {
     "name": "stdout",
     "output_type": "stream",
     "text": [
      "There were 73960 lines removed\n"
     ]
    }
   ],
   "source": [
    "orig_len = news_data.shape[0]\n",
    "news_data = news_data[pd.notnull(news_data['headline'])]\n",
    "new_len = news_data.shape[0]\n",
    "rmv_len = np.abs(orig_len-new_len)\n",
    "print('There were %i lines removed' %rmv_len)"
   ]
  },
  {
   "cell_type": "markdown",
   "metadata": {},
   "source": [
    "### 2.2 Delayed news items"
   ]
  },
  {
   "cell_type": "markdown",
   "metadata": {},
   "source": [
    "We remove rows where delay in news article is more than 1"
   ]
  },
  {
   "cell_type": "code",
   "execution_count": 34,
   "metadata": {},
   "outputs": [
    {
     "name": "stdout",
     "output_type": "stream",
     "text": [
      "There were 4 lines removed\n"
     ]
    }
   ],
   "source": [
    "orig_len = news_data.shape[0]\n",
    "news_data['news_delay'] = news_data['time'] - news_data['sourceTimestamp']\n",
    "news_data = news_data[news_data.news_delay < datetime.timedelta(days=1)]\n",
    "new_len = news_data.shape[0]\n",
    "rmv_len = np.abs(orig_len-new_len)\n",
    "print('There were %i lines removed' %rmv_len)"
   ]
  },
  {
   "cell_type": "markdown",
   "metadata": {},
   "source": [
    "### 2.3 Remove Outliers"
   ]
  },
  {
   "cell_type": "code",
   "execution_count": 36,
   "metadata": {},
   "outputs": [],
   "source": [
    "# Function to remove outliers\n",
    "def remove_outliers(data_frame, column_list, low=0.02, high=0.98):\n",
    "    temp_frame = data_frame\n",
    "    for column in column_list:\n",
    "        this_column = data_frame[column]\n",
    "        quant_df = this_column.quantile([low,high])\n",
    "        low_limit = quant_df[low]\n",
    "        high_limit = quant_df[high]\n",
    "        temp_frame[column] = data_frame[column].clip(lower=low_limit, upper=high_limit)\n",
    "    return temp_frame"
   ]
  },
  {
   "cell_type": "code",
   "execution_count": 37,
   "metadata": {},
   "outputs": [],
   "source": [
    "# Remove outlier\n",
    "columns_outlier = ['takeSequence', 'bodySize', 'sentenceCount', 'wordCount', 'sentimentWordCount', 'firstMentionSentence','noveltyCount12H',\\\n",
    "                  'noveltyCount24H', 'noveltyCount3D', 'noveltyCount5D', 'noveltyCount7D', 'volumeCounts12H', 'volumeCounts24H',\\\n",
    "                  'volumeCounts3D','volumeCounts5D','volumeCounts7D']\n",
    "news_data = remove_outliers(news_data, columns_outlier)"
   ]
  },
  {
   "cell_type": "markdown",
   "metadata": {},
   "source": [
    "# Part B: Feature Engineering"
   ]
  },
  {
   "cell_type": "markdown",
   "metadata": {},
   "source": [
    "## Data Sampling"
   ]
  },
  {
   "cell_type": "code",
   "execution_count": 75,
   "metadata": {},
   "outputs": [],
   "source": [
    "sampling = True"
   ]
  },
  {
   "cell_type": "code",
   "execution_count": 80,
   "metadata": {},
   "outputs": [],
   "source": [
    "if sampling:\n",
    "    market_train_df = market_data.tail(40_000)\n",
    "    news_train_df = news_data.tail(100_000)\n",
    "else:\n",
    "    market_train_df = market_data.tail(3_000_000)\n",
    "    news_train_df = news_data.tail(6_000_000)"
   ]
  },
  {
   "cell_type": "code",
   "execution_count": 77,
   "metadata": {},
   "outputs": [
    {
     "data": {
      "text/plain": [
       "(40000, 17)"
      ]
     },
     "execution_count": 77,
     "metadata": {},
     "output_type": "execute_result"
    }
   ],
   "source": [
    "market_train_df.shape"
   ]
  },
  {
   "cell_type": "markdown",
   "metadata": {},
   "source": [
    "## Data Pre-Processing Function"
   ]
  },
  {
   "cell_type": "code",
   "execution_count": 93,
   "metadata": {},
   "outputs": [],
   "source": [
    "# Data processing function\n",
    "head_line_tag_dict = {k: v for v, k in enumerate(news_train_df['headlineTag'].unique())}\n",
    "asset_code_dict = {k: v for v, k in enumerate(market_train_df['assetCode'].unique())}\n",
    "def data_prep(market_df,news_df, head_line_tag_dict, asset_code_dict):\n",
    "    market_df.loc['date'] = market_df.time.dt.date\n",
    "    market_df['close_to_open'] = market_df['close'] / market_df['open']\n",
    "    market_df.drop(['time'], axis=1, inplace=True)\n",
    "    \n",
    "    news_df['time'] = news_df.time.dt.hour\n",
    "    news_df['sourceTimestamp']= news_df.sourceTimestamp.dt.hour\n",
    "    news_df['firstCreated'] = news_df.firstCreated.dt.date\n",
    "    news_df['assetCodesLen'] = news_df['assetCodes'].map(lambda x: len(eval(x)))\n",
    "    news_df['assetCodes'] = news_df['assetCodes'].map(lambda x: list(eval(x))[0])\n",
    "    news_df['headlineLen'] = news_df['headline'].apply(lambda x: len(x))\n",
    "    news_df['asset_sentiment_count'] = news_df.groupby(['assetName', 'sentimentClass'])['time'].transform('count')\n",
    "    news_df['asset_sentence_mean'] = news_df.groupby(['assetName', 'sentenceCount'])['time'].transform('mean')\n",
    "    news_df['len_audiences'] = news_train_df['audiences'].map(lambda x: len(eval(x)))\n",
    "    kcol = ['firstCreated', 'assetCodes']\n",
    "    news_df = news_df.groupby(kcol, as_index=False).mean()\n",
    "\n",
    "    market_df = pd.merge(market_df, news_df, how='left', left_on=['date', 'assetCode'], \n",
    "                            right_on=['firstCreated', 'assetCodes'])\n",
    "    market_df['assetCodeT'] = market_df['assetCode'].map(asset_code_dict)\n",
    "    \n",
    "    market_df = market_df.dropna(axis=0)\n",
    "    \n",
    "    return market_df"
   ]
  },
  {
   "cell_type": "code",
   "execution_count": 94,
   "metadata": {},
   "outputs": [
    {
     "data": {
      "text/html": [
       "<div>\n",
       "<style scoped>\n",
       "    .dataframe tbody tr th:only-of-type {\n",
       "        vertical-align: middle;\n",
       "    }\n",
       "\n",
       "    .dataframe tbody tr th {\n",
       "        vertical-align: top;\n",
       "    }\n",
       "\n",
       "    .dataframe thead th {\n",
       "        text-align: right;\n",
       "    }\n",
       "</style>\n",
       "<table border=\"1\" class=\"dataframe\">\n",
       "  <thead>\n",
       "    <tr style=\"text-align: right;\">\n",
       "      <th></th>\n",
       "      <th>assetCode</th>\n",
       "      <th>assetName</th>\n",
       "      <th>volume</th>\n",
       "      <th>close</th>\n",
       "      <th>open</th>\n",
       "      <th>returnsClosePrevRaw1</th>\n",
       "      <th>returnsOpenPrevRaw1</th>\n",
       "      <th>returnsClosePrevMktres1</th>\n",
       "      <th>returnsOpenPrevMktres1</th>\n",
       "      <th>returnsClosePrevRaw10</th>\n",
       "      <th>...</th>\n",
       "      <th>volumeCounts24H</th>\n",
       "      <th>volumeCounts3D</th>\n",
       "      <th>volumeCounts5D</th>\n",
       "      <th>volumeCounts7D</th>\n",
       "      <th>assetCodesLen</th>\n",
       "      <th>headlineLen</th>\n",
       "      <th>asset_sentiment_count</th>\n",
       "      <th>asset_sentence_mean</th>\n",
       "      <th>len_audiences</th>\n",
       "      <th>assetCodeT</th>\n",
       "    </tr>\n",
       "  </thead>\n",
       "  <tbody>\n",
       "    <tr>\n",
       "      <th>1</th>\n",
       "      <td>BOX.N</td>\n",
       "      <td>Box Inc</td>\n",
       "      <td>1598145.0</td>\n",
       "      <td>15.22</td>\n",
       "      <td>15.36</td>\n",
       "      <td>-0.004578</td>\n",
       "      <td>-0.004537</td>\n",
       "      <td>-0.001788</td>\n",
       "      <td>-0.007651</td>\n",
       "      <td>0.017380</td>\n",
       "      <td>...</td>\n",
       "      <td>12.518519</td>\n",
       "      <td>13.518519</td>\n",
       "      <td>13.518519</td>\n",
       "      <td>13.518519</td>\n",
       "      <td>1.0</td>\n",
       "      <td>69.000000</td>\n",
       "      <td>12.148148</td>\n",
       "      <td>20.413580</td>\n",
       "      <td>3.037037</td>\n",
       "      <td>1</td>\n",
       "    </tr>\n",
       "    <tr>\n",
       "      <th>7</th>\n",
       "      <td>BR.N</td>\n",
       "      <td>Broadridge Financial Solutions Inc</td>\n",
       "      <td>859731.0</td>\n",
       "      <td>64.74</td>\n",
       "      <td>66.73</td>\n",
       "      <td>-0.032142</td>\n",
       "      <td>0.009073</td>\n",
       "      <td>-0.031675</td>\n",
       "      <td>0.008244</td>\n",
       "      <td>0.061311</td>\n",
       "      <td>...</td>\n",
       "      <td>4.166667</td>\n",
       "      <td>4.166667</td>\n",
       "      <td>4.166667</td>\n",
       "      <td>5.166667</td>\n",
       "      <td>1.0</td>\n",
       "      <td>72.666667</td>\n",
       "      <td>9.000000</td>\n",
       "      <td>9.166667</td>\n",
       "      <td>2.666667</td>\n",
       "      <td>7</td>\n",
       "    </tr>\n",
       "    <tr>\n",
       "      <th>14</th>\n",
       "      <td>BRX.N</td>\n",
       "      <td>Brixmor Property Group Inc</td>\n",
       "      <td>3730825.0</td>\n",
       "      <td>24.35</td>\n",
       "      <td>24.67</td>\n",
       "      <td>-0.028720</td>\n",
       "      <td>-0.004037</td>\n",
       "      <td>-0.026555</td>\n",
       "      <td>-0.005994</td>\n",
       "      <td>0.011633</td>\n",
       "      <td>...</td>\n",
       "      <td>0.000000</td>\n",
       "      <td>17.000000</td>\n",
       "      <td>17.000000</td>\n",
       "      <td>17.000000</td>\n",
       "      <td>1.0</td>\n",
       "      <td>102.000000</td>\n",
       "      <td>5.000000</td>\n",
       "      <td>22.000000</td>\n",
       "      <td>2.000000</td>\n",
       "      <td>14</td>\n",
       "    </tr>\n",
       "    <tr>\n",
       "      <th>32</th>\n",
       "      <td>BX.N</td>\n",
       "      <td>Blackstone Group LP</td>\n",
       "      <td>3374617.0</td>\n",
       "      <td>25.74</td>\n",
       "      <td>26.20</td>\n",
       "      <td>-0.009619</td>\n",
       "      <td>0.013932</td>\n",
       "      <td>-0.007289</td>\n",
       "      <td>0.013041</td>\n",
       "      <td>-0.006178</td>\n",
       "      <td>...</td>\n",
       "      <td>2.000000</td>\n",
       "      <td>5.000000</td>\n",
       "      <td>5.000000</td>\n",
       "      <td>8.000000</td>\n",
       "      <td>1.0</td>\n",
       "      <td>95.000000</td>\n",
       "      <td>64.000000</td>\n",
       "      <td>16.000000</td>\n",
       "      <td>2.000000</td>\n",
       "      <td>32</td>\n",
       "    </tr>\n",
       "    <tr>\n",
       "      <th>37</th>\n",
       "      <td>C.N</td>\n",
       "      <td>Citigroup Inc</td>\n",
       "      <td>24395062.0</td>\n",
       "      <td>56.39</td>\n",
       "      <td>56.23</td>\n",
       "      <td>0.015670</td>\n",
       "      <td>0.013153</td>\n",
       "      <td>0.019918</td>\n",
       "      <td>0.010756</td>\n",
       "      <td>0.016952</td>\n",
       "      <td>...</td>\n",
       "      <td>25.257143</td>\n",
       "      <td>72.457143</td>\n",
       "      <td>74.171429</td>\n",
       "      <td>79.085714</td>\n",
       "      <td>2.0</td>\n",
       "      <td>80.314286</td>\n",
       "      <td>181.142857</td>\n",
       "      <td>11.886831</td>\n",
       "      <td>3.028571</td>\n",
       "      <td>37</td>\n",
       "    </tr>\n",
       "  </tbody>\n",
       "</table>\n",
       "<p>5 rows × 52 columns</p>\n",
       "</div>"
      ],
      "text/plain": [
       "   assetCode                           assetName      volume  close   open  \\\n",
       "1      BOX.N                             Box Inc   1598145.0  15.22  15.36   \n",
       "7       BR.N  Broadridge Financial Solutions Inc    859731.0  64.74  66.73   \n",
       "14     BRX.N          Brixmor Property Group Inc   3730825.0  24.35  24.67   \n",
       "32      BX.N                 Blackstone Group LP   3374617.0  25.74  26.20   \n",
       "37       C.N                       Citigroup Inc  24395062.0  56.39  56.23   \n",
       "\n",
       "    returnsClosePrevRaw1  returnsOpenPrevRaw1  returnsClosePrevMktres1  \\\n",
       "1              -0.004578            -0.004537                -0.001788   \n",
       "7              -0.032142             0.009073                -0.031675   \n",
       "14             -0.028720            -0.004037                -0.026555   \n",
       "32             -0.009619             0.013932                -0.007289   \n",
       "37              0.015670             0.013153                 0.019918   \n",
       "\n",
       "    returnsOpenPrevMktres1  returnsClosePrevRaw10    ...      volumeCounts24H  \\\n",
       "1                -0.007651               0.017380    ...            12.518519   \n",
       "7                 0.008244               0.061311    ...             4.166667   \n",
       "14               -0.005994               0.011633    ...             0.000000   \n",
       "32                0.013041              -0.006178    ...             2.000000   \n",
       "37                0.010756               0.016952    ...            25.257143   \n",
       "\n",
       "    volumeCounts3D  volumeCounts5D  volumeCounts7D  assetCodesLen  \\\n",
       "1        13.518519       13.518519       13.518519            1.0   \n",
       "7         4.166667        4.166667        5.166667            1.0   \n",
       "14       17.000000       17.000000       17.000000            1.0   \n",
       "32        5.000000        5.000000        8.000000            1.0   \n",
       "37       72.457143       74.171429       79.085714            2.0   \n",
       "\n",
       "    headlineLen asset_sentiment_count  asset_sentence_mean len_audiences  \\\n",
       "1     69.000000             12.148148            20.413580      3.037037   \n",
       "7     72.666667              9.000000             9.166667      2.666667   \n",
       "14   102.000000              5.000000            22.000000      2.000000   \n",
       "32    95.000000             64.000000            16.000000      2.000000   \n",
       "37    80.314286            181.142857            11.886831      3.028571   \n",
       "\n",
       "   assetCodeT  \n",
       "1           1  \n",
       "7           7  \n",
       "14         14  \n",
       "32         32  \n",
       "37         37  \n",
       "\n",
       "[5 rows x 52 columns]"
      ]
     },
     "execution_count": 94,
     "metadata": {},
     "output_type": "execute_result"
    }
   ],
   "source": [
    "pd.options.mode.chained_assignment = None  # default='warn'\n",
    "train_data = data_prep(market_train_df, news_train_df, head_line_tag_dict, asset_code_dict)\n",
    "train_data.head()"
   ]
  },
  {
   "cell_type": "markdown",
   "metadata": {},
   "source": [
    "## Data Selection"
   ]
  },
  {
   "cell_type": "markdown",
   "metadata": {},
   "source": [
    "Looking at the statistics, most data behave homogeneously after 2009 (volume increase, price increase, etc.). However, before 2009, due to the burst of the housing bubble that leads to the financial crisis in 2008, the data behaves differently. So the question to make the right prediction for this problem is: Will there be a financial crisis in the next 6 months? If the answer is Yes, then we include data before 2009. If the answer is No, then we exclude them.\n",
    "\n",
    "In this notebook, I choose No as the answer and proceed from that."
   ]
  },
  {
   "cell_type": "code",
   "execution_count": 96,
   "metadata": {},
   "outputs": [],
   "source": [
    "train_data = train_data.loc[train_data['date']>=datetime.date(2009,1,1)]"
   ]
  },
  {
   "cell_type": "markdown",
   "metadata": {},
   "source": [
    "## Feature Selection"
   ]
  },
  {
   "cell_type": "markdown",
   "metadata": {},
   "source": [
    "We then perform feature selection . Feature scaling is not needed since we plan to use lightgbm - a tree-based model, which do not require standardization.\n",
    "\n",
    "We convert this problem into a classification problem: 0 for negative return and 1 for positive return"
   ]
  },
  {
   "cell_type": "code",
   "execution_count": 97,
   "metadata": {},
   "outputs": [
    {
     "name": "stdout",
     "output_type": "stream",
     "text": [
      "SELECTED FEATURES:  ['volume', 'close', 'open', 'returnsClosePrevRaw1', 'returnsOpenPrevRaw1', 'returnsClosePrevMktres1', 'returnsOpenPrevMktres1', 'returnsClosePrevRaw10', 'returnsOpenPrevRaw10', 'returnsClosePrevMktres10', 'returnsOpenPrevMktres10', 'close_open_ratio', 'close_to_open', 'sourceTimestamp', 'urgency', 'takeSequence', 'bodySize', 'companyCount', 'sentenceCount', 'wordCount', 'firstMentionSentence', 'relevance', 'sentimentClass', 'sentimentNegative', 'sentimentNeutral', 'sentimentPositive', 'sentimentWordCount', 'noveltyCount12H', 'noveltyCount24H', 'noveltyCount3D', 'noveltyCount5D', 'noveltyCount7D', 'volumeCounts12H', 'volumeCounts24H', 'volumeCounts3D', 'volumeCounts5D', 'volumeCounts7D', 'assetCodesLen', 'headlineLen', 'asset_sentiment_count', 'asset_sentence_mean', 'len_audiences', 'assetCodeT']\n",
      "Number of samples:  5952\n"
     ]
    }
   ],
   "source": [
    "feature_columns = [c for c in train_data if c not in ['assetCode', 'assetCodes', 'assetName', 'assetName', 'audiences', 'firstCreated', 'headline',\\\n",
    "                                                       'headlineTag','marketCommentary','provider','returnsOpenNextMktres10','sourceId','subjects',\\\n",
    "                                                       'time','universe', 'date']]\n",
    "print(\"SELECTED FEATURES: \", feature_columns)\n",
    "\n",
    "# Extract X and Y\n",
    "X = train_data[feature_columns].values\n",
    "up = train_data['returnsOpenNextMktres10'].map(lambda x: 0 if x<0 else 1).values\n",
    "r = train_data['returnsOpenNextMktres10'].values\n",
    "Y = up\n",
    "num_sample = Y.shape[0]\n",
    "print('Number of samples: ', num_sample)"
   ]
  },
  {
   "cell_type": "markdown",
   "metadata": {},
   "source": [
    "## Data Splitting"
   ]
  },
  {
   "cell_type": "markdown",
   "metadata": {},
   "source": [
    "To avoid leaking of data, we split training and validation set in chronological order instead of random splitting."
   ]
  },
  {
   "cell_type": "code",
   "execution_count": 99,
   "metadata": {},
   "outputs": [],
   "source": [
    "train_ratio = 0.9\n",
    "test_ratio = 0.1\n",
    "index_split = int(num_sample*train_ratio)\n",
    "X_train = X[:index_split,:]\n",
    "X_val = X[index_split:,:]\n",
    "Y_train = Y[:index_split]\n",
    "Y_val = Y[index_split:]"
   ]
  },
  {
   "cell_type": "markdown",
   "metadata": {},
   "source": [
    "# Building Model"
   ]
  },
  {
   "cell_type": "markdown",
   "metadata": {},
   "source": [
    "We will build lightGBM model as our first attempt"
   ]
  },
  {
   "cell_type": "code",
   "execution_count": 106,
   "metadata": {},
   "outputs": [
    {
     "name": "stderr",
     "output_type": "stream",
     "text": [
      "C:\\Users\\RaviSingh\\Miniconda3\\lib\\site-packages\\sklearn\\ensemble\\weight_boosting.py:29: DeprecationWarning: numpy.core.umath_tests is an internal NumPy module and should not be imported. It will be removed in a future NumPy release.\n",
      "  from numpy.core.umath_tests import inner1d\n"
     ]
    }
   ],
   "source": [
    "import random\n",
    "random.seed(1)\n",
    "import time\n",
    "\n",
    "import xgboost as xgb\n",
    "import lightgbm as lgb\n",
    "from sklearn.model_selection import train_test_split, GridSearchCV, RandomizedSearchCV\n",
    "from sklearn.metrics import get_scorer\n",
    "from sklearn.metrics import f1_score\n",
    "from sklearn.preprocessing import LabelEncoder\n",
    "from sklearn.metrics import accuracy_score\n",
    "from sklearn.ensemble import VotingClassifier\n",
    "import lightgbm as lgb\n",
    "from sklearn.externals.joblib import Parallel, delayed\n",
    "from sklearn.base import clone\n",
    "\n",
    "import warnings\n",
    "warnings.filterwarnings(\"ignore\",category=DeprecationWarning)"
   ]
  },
  {
   "cell_type": "markdown",
   "metadata": {},
   "source": [
    "### Prameter Tuning"
   ]
  },
  {
   "cell_type": "code",
   "execution_count": 107,
   "metadata": {},
   "outputs": [],
   "source": [
    "# Set up decay learning rate\n",
    "def learning_rate_power(current_round):\n",
    "    base_learning_rate = 0.1\n",
    "    min_learning_rate = 0.01\n",
    "    lr = base_learning_rate * np.power(0.995,current_round)\n",
    "    return max(lr, min_learning_rate)"
   ]
  },
  {
   "cell_type": "code",
   "execution_count": 108,
   "metadata": {},
   "outputs": [],
   "source": [
    "from scipy.stats import randint as sp_randint\n",
    "from scipy.stats import uniform as sp_uniform\n",
    "\n",
    "tune_params = {'n_estimators': [200,500,1000,2500,5000],\n",
    "              'max_depth': sp_randint(4,12),\n",
    "              'colsample_bytree':sp_uniform(loc=0.8, scale=0.15),\n",
    "              'min_child_samples':sp_randint(60,120),\n",
    "              'subsample': sp_uniform(loc=0.75, scale=0.25),\n",
    "              'reg_lambda':[1e-3, 1e-2, 1e-1, 1]}\n",
    "\n",
    "fit_params = {'early_stopping_rounds':800,\n",
    "              'eval_metric': 'accuracy',\n",
    "              'eval_set': [(X_train, Y_train), (X_val, Y_val)],\n",
    "              'verbose': 200,\n",
    "              'callbacks': [lgb.reset_parameter(learning_rate=learning_rate_power)]}"
   ]
  },
  {
   "cell_type": "code",
   "execution_count": 109,
   "metadata": {},
   "outputs": [],
   "source": [
    "lgb_clf = lgb.LGBMClassifier(n_jobs=4, objective='binary',random_state=1)\n",
    "gs = RandomizedSearchCV(estimator=lgb_clf, \n",
    "                        param_distributions=tune_params, \n",
    "                        n_iter=40,\n",
    "                        scoring='f1',\n",
    "                        cv=5,\n",
    "                        refit=True,\n",
    "                        random_state=1,\n",
    "                        verbose=True)"
   ]
  },
  {
   "cell_type": "code",
   "execution_count": 110,
   "metadata": {},
   "outputs": [
    {
     "data": {
      "text/plain": [
       "RandomizedSearchCV(cv=5, error_score='raise',\n",
       "          estimator=LGBMClassifier(boosting_type='gbdt', class_weight=None, colsample_bytree=1.0,\n",
       "        importance_type='split', learning_rate=0.1, max_depth=-1,\n",
       "        min_child_samples=20, min_child_weight=0.001, min_split_gain=0.0,\n",
       "        n_estimators=100, n_jobs=4, num_leaves=31, objective='binary',\n",
       "        random_state=1, reg_alpha=0.0, reg_lambda=0.0, silent=True,\n",
       "        subsample=1.0, subsample_for_bin=200000, subsample_freq=0),\n",
       "          fit_params=None, iid=True, n_iter=40, n_jobs=1,\n",
       "          param_distributions={'n_estimators': [200, 500, 1000, 2500, 5000], 'max_depth': <scipy.stats._distn_infrastructure.rv_frozen object at 0x0000022DEC8AC630>, 'colsample_bytree': <scipy.stats._distn_infrastructure.rv_frozen object at 0x0000022DEC8AC828>, 'min_child_samples': <scipy.stats._distn_infrastructure.rv_frozen object at 0x0000022DEC8ACD30>, 'subsample': <scipy.stats._distn_infrastructure.rv_frozen object at 0x0000022DEC8ACA58>, 'reg_lambda': [0.001, 0.01, 0.1, 1]},\n",
       "          pre_dispatch='2*n_jobs', random_state=1, refit=True,\n",
       "          return_train_score='warn', scoring='f1', verbose=True)"
      ]
     },
     "execution_count": 110,
     "metadata": {},
     "output_type": "execute_result"
    }
   ],
   "source": [
    "gs"
   ]
  },
  {
   "cell_type": "code",
   "execution_count": 111,
   "metadata": {},
   "outputs": [
    {
     "name": "stdout",
     "output_type": "stream",
     "text": [
      "Training until validation scores don't improve for 800 rounds.\n",
      "[200]\tvalid_0's binary_logloss: 0.458628\tvalid_1's binary_logloss: 0.754059\n",
      "[400]\tvalid_0's binary_logloss: 0.416922\tvalid_1's binary_logloss: 0.762417\n",
      "[600]\tvalid_0's binary_logloss: 0.399261\tvalid_1's binary_logloss: 0.764528\n",
      "[800]\tvalid_0's binary_logloss: 0.382859\tvalid_1's binary_logloss: 0.767677\n",
      "Early stopping, best iteration is:\n",
      "[1]\tvalid_0's binary_logloss: 0.684025\tvalid_1's binary_logloss: 0.700789\n"
     ]
    },
    {
     "data": {
      "text/plain": [
       "LGBMClassifier(boosting_type='gbdt', class_weight=None,\n",
       "        colsample_bytree=0.859, importance_type='split', learning_rate=0.1,\n",
       "        max_depth=6, min_child_samples=72, min_child_weight=0.001,\n",
       "        min_split_gain=0.0, n_estimators=2500, n_jobs=4, num_leaves=31,\n",
       "        objective='binary', random_state=300, reg_alpha=0.0,\n",
       "        reg_lambda=0.1, silent=True, subsample=0.876,\n",
       "        subsample_for_bin=200000, subsample_freq=0)"
      ]
     },
     "execution_count": 111,
     "metadata": {},
     "output_type": "execute_result"
    }
   ],
   "source": [
    "lgb_clf = lgb.LGBMClassifier(n_jobs=4,\n",
    "                             objective='binary',\n",
    "                            random_state=300)\n",
    "opt_params = {'n_estimators':2500,\n",
    "              'max_depth': 6,\n",
    "              'colsample_bytree':0.859,\n",
    "              'min_child_samples':72,\n",
    "              'subsample': 0.876,\n",
    "              'reg_lambda':0.1}\n",
    "lgb_clf.set_params(**opt_params)\n",
    "lgb_clf.fit(X_train, Y_train,**fit_params)"
   ]
  },
  {
   "cell_type": "code",
   "execution_count": 112,
   "metadata": {},
   "outputs": [
    {
     "name": "stdout",
     "output_type": "stream",
     "text": [
      "Training accuracy:  0.530806572068708\n",
      "Validation accuracy:  0.4664429530201342\n"
     ]
    }
   ],
   "source": [
    "print('Training accuracy: ', accuracy_score(Y_train, lgb_clf.predict(X_train)))\n",
    "print('Validation accuracy: ', accuracy_score(Y_val, lgb_clf.predict(X_val)))"
   ]
  },
  {
   "cell_type": "markdown",
   "metadata": {},
   "source": [
    "## Visualizing Result"
   ]
  },
  {
   "cell_type": "code",
   "execution_count": 115,
   "metadata": {},
   "outputs": [
    {
     "data": {
      "image/png": "[encoded data removed]",
      "text/plain": [
       "<Figure size 720x432 with 1 Axes>"
      ]
     },
     "metadata": {},
     "output_type": "display_data"
    }
   ],
   "source": [
    "features_imp = pd.DataFrame()\n",
    "features_imp['features'] = list(feature_columns)[:]\n",
    "features_imp['importance'] = lgb_clf.feature_importances_\n",
    "features_imp = features_imp.sort_values(by='importance', ascending=False).reset_index()\n",
    "\n",
    "y = -np.arange(15)\n",
    "plt.figure(figsize=(10,6))\n",
    "plt.barh(y, features_imp.loc[:14,'importance'].values)\n",
    "plt.yticks(y,(features_imp.loc[:14,'features']))\n",
    "plt.xlabel('Feature importance')\n",
    "plt.title('Features importance')\n",
    "plt.tight_layout()"
   ]
  },
  {
   "cell_type": "code",
   "execution_count": null,
   "metadata": {},
   "outputs": [],
   "source": []
  }
 ],
 "metadata": {
  "kernelspec": {
   "display_name": "Python 3",
   "language": "python",
   "name": "python3"
  },
  "language_info": {
   "codemirror_mode": {
    "name": "ipython",
    "version": 3
   },
   "file_extension": ".py",
   "mimetype": "text/x-python",
   "name": "python",
   "nbconvert_exporter": "python",
   "pygments_lexer": "ipython3",
   "version": "3.6.5"
  }
 },
 "nbformat": 4,
 "nbformat_minor": 2
}
