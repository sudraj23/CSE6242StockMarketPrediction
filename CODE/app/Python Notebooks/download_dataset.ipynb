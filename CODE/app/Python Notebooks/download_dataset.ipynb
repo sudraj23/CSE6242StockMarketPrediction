{
  "cells": [
    {
      "metadata": {
        "_uuid": "8f2839f25d086af736a60e9eeb907d3b93b6e0e5",
        "_cell_guid": "b1076dfc-b9ad-4769-8c92-a6c4dae69d19",
        "trusted": true
      },
      "cell_type": "code",
      "source": "# This Python 3 environment comes with many helpful analytics libraries installed\n# It is defined by the kaggle/python docker image: https://github.com/kaggle/docker-python\n# For example, here's several helpful packages to load in \n\nimport numpy as np # linear algebra\nimport pandas as pd # data processing, CSV file I/O (e.g. pd.read_csv)\n\n# Input data files are available in the \"../input/\" directory.\n# For example, running this (by clicking run or pressing Shift+Enter) will list the files in the input directory\n\nimport os\nprint(os.listdir(\"../input\"))\n\n# Any results you write to the current directory are saved as output.",
      "execution_count": null,
      "outputs": []
    },
    {
      "metadata": {
        "_cell_guid": "79c7e3d0-c299-4dcb-8224-4455121ee9b0",
        "_uuid": "d629ff2d2480ee46fbb7e2d37f6b5fab8052498a",
        "trusted": true
      },
      "cell_type": "code",
      "source": "from kaggle.competitions import twosigmanews\nenv = twosigmanews.make_env()",
      "execution_count": null,
      "outputs": []
    },
    {
      "metadata": {
        "trusted": true,
        "_uuid": "4440aed7c165df4bc8ffde10c6609a5dfec4ba46"
      },
      "cell_type": "code",
      "source": "import pickle\n",
      "execution_count": null,
      "outputs": []
    },
    {
      "metadata": {
        "trusted": true,
        "_uuid": "9e41a5d59c75fa7a3a0e0c0539ae950e0b2a4240"
      },
      "cell_type": "code",
      "source": "train = env.get_training_data()",
      "execution_count": null,
      "outputs": []
    },
    {
      "metadata": {
        "trusted": true,
        "_uuid": "4a7dfa1eaf3a1207e72a3683e65e1a11d88ac205"
      },
      "cell_type": "code",
      "source": "type(train[0])",
      "execution_count": null,
      "outputs": []
    },
    {
      "metadata": {
        "trusted": true,
        "_uuid": "f33333bd615dec8c771640ec70b165758cb5dabe"
      },
      "cell_type": "code",
      "source": "train[0].shape",
      "execution_count": null,
      "outputs": []
    },
    {
      "metadata": {
        "trusted": true,
        "_uuid": "5ac87744c99b8bf286a2092b624a024eb732834a"
      },
      "cell_type": "code",
      "source": "# train[0][0       : 1000000].to_csv(\"market_train1.csv\", sep=',', encoding='utf-8')\n# train[0][1000000 : 2000000].to_csv(\"market_train2.csv\", sep=',', encoding='utf-8')\n# train[0][2000000 : 3000000].to_csv(\"market_train3.csv\", sep=',', encoding='utf-8')\n# train[0][3000000 : 4000000].to_csv(\"market_train4.csv\", sep=',', encoding='utf-8')\n# train[0][4000000 : -1     ].to_csv(\"market_train5.csv\", sep=',', encoding='utf-8')",
      "execution_count": null,
      "outputs": []
    },
    {
      "metadata": {
        "trusted": true,
        "_uuid": "e15f4cf0860b0d1d7273ba3fc60b964d3e35bed8"
      },
      "cell_type": "code",
      "source": "# train[1][0       : 1000000].to_csv(\"news_train1.csv\", sep=',', encoding='utf-8')\n# train[1][1000000 : 2000000].to_csv(\"news_train2.csv\", sep=',', encoding='utf-8')\n# train[1][2000000 : 3000000].to_csv(\"news_train3.csv\", sep=',', encoding='utf-8')\n# train[1][3000000 : 4000000].to_csv(\"news_train4.csv\", sep=',', encoding='utf-8')\n",
      "execution_count": null,
      "outputs": []
    },
    {
      "metadata": {
        "trusted": true,
        "_uuid": "6f4c895fd4453b55240377385c0ad614bf0b0991"
      },
      "cell_type": "code",
      "source": "train[1][4000000 : 5000000].to_csv(\"news_train5.csv\", sep=',', encoding='utf-8')\ntrain[1][5000000 : 6000000].to_csv(\"news_train6.csv\", sep=',', encoding='utf-8')\ntrain[1][6000000 : 7000000].to_csv(\"news_train7.csv\", sep=',', encoding='utf-8')\ntrain[1][7000000 : 8000000].to_csv(\"news_train8.csv\", sep=',', encoding='utf-8')\ntrain[1][8000000 : 9000000].to_csv(\"news_train9.csv\", sep=',', encoding='utf-8')\ntrain[1][9000000 : -1     ].to_csv(\"news_train10.csv\", sep=',', encoding='utf-8')",
      "execution_count": null,
      "outputs": []
    },
    {
      "metadata": {
        "trusted": true,
        "_uuid": "b953a8017bb6501ff71297fd3ddc1d68c43e3ed3"
      },
      "cell_type": "code",
      "source": "#train[0:10000]",
      "execution_count": null,
      "outputs": []
    },
    {
      "metadata": {
        "trusted": true,
        "_uuid": "95f1ae2896594c4e1e640ef431393988997f2e43"
      },
      "cell_type": "code",
      "source": "# test = []\n# for (market_obs, news_obs, predictions_template) in env.get_prediction_days():\n#     test.append((market_obs, news_obs, predictions_template))\n#     predictions_template.confidenceValue = 0.0\n#     env.predict(predictions_template)\n\n# pickle.dump((train, test), open('data.p', 'wb'))",
      "execution_count": null,
      "outputs": []
    },
    {
      "metadata": {
        "trusted": true,
        "_uuid": "abf6d7bd3b8daf1b9cd90c57bfeb009d03c4e0df"
      },
      "cell_type": "code",
      "source": "",
      "execution_count": null,
      "outputs": []
    }
  ],
  "metadata": {
    "kernelspec": {
      "display_name": "Python 3",
      "language": "python",
      "name": "python3"
    },
    "language_info": {
      "name": "python",
      "version": "3.6.6",
      "mimetype": "text/x-python",
      "codemirror_mode": {
        "name": "ipython",
        "version": 3
      },
      "pygments_lexer": "ipython3",
      "nbconvert_exporter": "python",
      "file_extension": ".py"
    }
  },
  "nbformat": 4,
  "nbformat_minor": 1
}