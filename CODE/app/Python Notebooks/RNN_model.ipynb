{
 "cells": [
  {
   "cell_type": "code",
   "execution_count": 1,
   "metadata": {},
   "outputs": [],
   "source": [
    "import pandas as pd\n",
    "import matplotlib as plt\n",
    "import datetime\n",
    "import time\n",
    "import numpy as np"
   ]
  },
  {
   "cell_type": "code",
   "execution_count": 2,
   "metadata": {},
   "outputs": [],
   "source": [
    "#pd.set_option('display.height', 1000)\n",
    "pd.set_option('display.max_rows', 500)\n",
    "pd.set_option('display.max_columns', 500)\n",
    "#pd.set_option('display.width', 1000)"
   ]
  },
  {
   "cell_type": "markdown",
   "metadata": {},
   "source": [
    "## Preprocess News Data"
   ]
  },
  {
   "cell_type": "code",
   "execution_count": 3,
   "metadata": {},
   "outputs": [],
   "source": [
    "#Using 2010 to 2016 data\n",
    "def process_news_data(news_data):\n",
    "    print(\"Shape : {}\".format(news_data.shape))\n",
    "    news_data = news_data.drop(news_data.columns[0], axis=1)\n",
    "    news_data['time'] = pd.to_datetime(news_data['time'])\n",
    "    news_data['sourceTimestamp'] = pd.to_datetime(news_data['sourceTimestamp'])\n",
    "    news_data['firstCreated'] = pd.to_datetime(news_data['firstCreated'])\n",
    "    news_data['provider'] = news_data['provider'].astype('category')\n",
    "    news_data['subjects'] = news_data['subjects'].astype('category')\n",
    "    news_data['audiences'] = news_data['audiences'].astype('category')\n",
    "    news_data['assetCodes'] = news_data['assetCodes'].astype('category')\n",
    "    news_data['assetName'] = news_data['assetName'].astype('category')\n",
    "    news_data = news_data[news_data['time'].dt.year > 2009]\n",
    "    return news_data"
   ]
  },
  {
   "cell_type": "code",
   "execution_count": 4,
   "metadata": {},
   "outputs": [
    {
     "name": "stdout",
     "output_type": "stream",
     "text": [
      "Shape : (1000000, 36)\n",
      "Shape : (1000000, 36)\n",
      "Shape : (1000000, 36)\n",
      "Shape : (1000000, 36)\n",
      "Shape : (1000000, 36)\n",
      "Shape : (1000000, 36)\n",
      "Shape : (1000000, 36)\n",
      "Shape : (1000000, 36)\n",
      "Shape : (1000000, 36)\n",
      "Shape : (328749, 36)\n"
     ]
    }
   ],
   "source": [
    "df1 = pd.read_csv(\"train_news/news_train1.csv\")\n",
    "df1 = process_news_data(df1)\n",
    "df2 = pd.read_csv(\"train_news/news_train2.csv\")\n",
    "df2 = process_news_data(df2)\n",
    "df3 = pd.read_csv(\"train_news/news_train3.csv\")\n",
    "df3 = process_news_data(df3)\n",
    "df4 = pd.read_csv(\"train_news/news_train4.csv\")\n",
    "df4 = process_news_data(df4)\n",
    "df5 = pd.read_csv(\"train_news/news_train5.csv\")\n",
    "df5 = process_news_data(df5)\n",
    "df6 = pd.read_csv(\"train_news/news_train6.csv\")\n",
    "df6 = process_news_data(df6)\n",
    "df7 = pd.read_csv(\"train_news/news_train7.csv\")\n",
    "df7 = process_news_data(df7)\n",
    "df8 = pd.read_csv(\"train_news/news_train8.csv\")\n",
    "df8 = process_news_data(df8)\n",
    "df9 = pd.read_csv(\"train_news/news_train9.csv\")\n",
    "df9 = process_news_data(df9)\n",
    "df10 = pd.read_csv(\"train_news/news_train10.csv\")\n",
    "df10 = process_news_data(df10)\n",
    "news_data = pd.concat([df1,df2,df3,df4,df5,df6,df7,df8,df9,df10])"
   ]
  },
  {
   "cell_type": "code",
   "execution_count": 5,
   "metadata": {},
   "outputs": [
    {
     "data": {
      "text/plain": [
       "(7003399, 35)"
      ]
     },
     "execution_count": 5,
     "metadata": {},
     "output_type": "execute_result"
    }
   ],
   "source": [
    "news_data.shape"
   ]
  },
  {
   "cell_type": "code",
   "execution_count": 6,
   "metadata": {},
   "outputs": [
    {
     "data": {
      "text/plain": [
       "(6987566, 35)"
      ]
     },
     "execution_count": 6,
     "metadata": {},
     "output_type": "execute_result"
    }
   ],
   "source": [
    "news_data = news_data[pd.notnull(news_data['headline'])]\n",
    "news_data.shape"
   ]
  },
  {
   "cell_type": "code",
   "execution_count": 7,
   "metadata": {},
   "outputs": [
    {
     "data": {
      "text/plain": [
       "(6987562, 36)"
      ]
     },
     "execution_count": 7,
     "metadata": {},
     "output_type": "execute_result"
    }
   ],
   "source": [
    "## Removing late report of news\n",
    "news_data['news_delay'] = news_data['time'] - news_data['sourceTimestamp']\n",
    "news_data = news_data[news_data.news_delay < datetime.timedelta(days=1)]\n",
    "news_data.shape"
   ]
  },
  {
   "cell_type": "markdown",
   "metadata": {},
   "source": [
    "### Preprocess Market Data "
   ]
  },
  {
   "cell_type": "code",
   "execution_count": 8,
   "metadata": {},
   "outputs": [],
   "source": [
    "df1 = pd.read_csv(\"train_market/market_train1.csv\")\n",
    "df2 = pd.read_csv(\"train_market/market_train2.csv\")\n",
    "df3 = pd.read_csv(\"train_market/market_train3.csv\")\n",
    "df4 = pd.read_csv(\"train_market/market_train4.csv\")\n",
    "df5 = pd.read_csv(\"train_market/market_train5.csv\")\n",
    "market_data = pd.concat([df1,df2,df3,df4,df5])"
   ]
  },
  {
   "cell_type": "code",
   "execution_count": 9,
   "metadata": {},
   "outputs": [
    {
     "data": {
      "text/plain": [
       "Unnamed: 0                    int64\n",
       "time                         object\n",
       "assetCode                    object\n",
       "assetName                    object\n",
       "volume                      float64\n",
       "close                       float64\n",
       "open                        float64\n",
       "returnsClosePrevRaw1        float64\n",
       "returnsOpenPrevRaw1         float64\n",
       "returnsClosePrevMktres1     float64\n",
       "returnsOpenPrevMktres1      float64\n",
       "returnsClosePrevRaw10       float64\n",
       "returnsOpenPrevRaw10        float64\n",
       "returnsClosePrevMktres10    float64\n",
       "returnsOpenPrevMktres10     float64\n",
       "returnsOpenNextMktres10     float64\n",
       "universe                    float64\n",
       "dtype: object"
      ]
     },
     "execution_count": 9,
     "metadata": {},
     "output_type": "execute_result"
    }
   ],
   "source": [
    "market_data.dtypes"
   ]
  },
  {
   "cell_type": "code",
   "execution_count": 10,
   "metadata": {},
   "outputs": [],
   "source": [
    "market_data = market_data.drop(market_data.columns[0], axis=1)\n",
    "market_data['time'] = pd.to_datetime(market_data['time'])\n",
    "market_data['assetName'] = market_data['assetName'].astype('category')"
   ]
  },
  {
   "cell_type": "code",
   "execution_count": 11,
   "metadata": {},
   "outputs": [
    {
     "name": "stdout",
     "output_type": "stream",
     "text": [
      "Min timestamp : 2007-02-01 22:00:00, Max timestamp : 2016-12-30 22:00:00, Market data shape : (4072955, 16)\n"
     ]
    }
   ],
   "source": [
    "print(\"Min timestamp : {}, Max timestamp : {}, Market data shape : {}\".format(market_data['time'].min(), \n",
    "                                                                              market_data['time'].max(),\n",
    "                                                                              market_data.shape))"
   ]
  },
  {
   "cell_type": "code",
   "execution_count": 12,
   "metadata": {},
   "outputs": [
    {
     "data": {
      "text/plain": [
       "(2946738, 16)"
      ]
     },
     "execution_count": 12,
     "metadata": {},
     "output_type": "execute_result"
    }
   ],
   "source": [
    "market_data = market_data[market_data['time'].dt.year > 2009]\n",
    "market_data.shape"
   ]
  },
  {
   "cell_type": "code",
   "execution_count": null,
   "metadata": {},
   "outputs": [],
   "source": []
  },
  {
   "cell_type": "markdown",
   "metadata": {},
   "source": [
    "## Merging two dataframes"
   ]
  },
  {
   "cell_type": "code",
   "execution_count": 13,
   "metadata": {},
   "outputs": [],
   "source": [
    "def data_prep(market_df,news_df):\n",
    "    market_df['time'] = market_df.time.dt.date\n",
    "    market_df['returnsOpenPrevRaw1_to_volume'] = market_df['returnsOpenPrevRaw1'] / market_df['volume']\n",
    "    market_df['close_to_open'] = market_df['close'] / market_df['open']\n",
    "    market_df['volume_to_mean'] = market_df['volume'] / market_df['volume'].mean()\n",
    "    \n",
    "    news_df['time'] = news_df.time.dt.hour\n",
    "    news_df['sourceTimestamp']= news_df.sourceTimestamp.dt.hour\n",
    "    news_df['firstCreated'] = news_df.firstCreated.dt.date\n",
    "    news_df['headlineLen'] = news_df['headline'].apply(lambda x: len(x))\n",
    "    news_df['asset_sentiment_count'] = news_df.groupby(['assetName', 'sentimentClass'])['time'].transform('count')\n",
    "    news_df['asset_sentence_mean'] = news_df.groupby(['assetName', 'sentenceCount'])['time'].transform('mean')\n",
    "    \n",
    "    #news_df['assetCodesLen'] = news_df['assetCodes'].map(lambda x: len(eval(x)))\n",
    "    news_df['assetCodes'] = news_df['assetCodes'].map(lambda x: list(eval(x))[0])\n",
    "\n",
    "    #news_df['assetCodesLen'] = news_df['assetCodes'].apply(lambda x: len(x))\n",
    "    \n",
    "    \n",
    "    lbl = {k: v for v, k in enumerate(news_df['headlineTag'].unique())}\n",
    "    news_df['headlineTagT'] = news_df['headlineTag'].map(lbl)\n",
    "    kcol = ['firstCreated', 'assetCodes']\n",
    "    news_df = news_df.groupby(kcol, as_index=False).mean()\n",
    "\n",
    "    market_df = pd.merge(market_df, news_df, how='left', left_on=['time', 'assetCode'], \n",
    "                            right_on=['firstCreated', 'assetCodes'])\n",
    "\n",
    "    lbl = {k: v for v, k in enumerate(market_df['assetCode'].unique())}\n",
    "    market_df['assetCodeT'] = market_df['assetCode'].map(lbl)\n",
    "    \n",
    "    market_df = market_df.dropna(axis=0)\n",
    "    \n",
    "    return market_df\n"
   ]
  },
  {
   "cell_type": "code",
   "execution_count": 14,
   "metadata": {},
   "outputs": [],
   "source": [
    "market_news = data_prep(market_data, news_data)"
   ]
  },
  {
   "cell_type": "code",
   "execution_count": 15,
   "metadata": {},
   "outputs": [
    {
     "data": {
      "text/plain": [
       "(608595, 52)"
      ]
     },
     "execution_count": 15,
     "metadata": {},
     "output_type": "execute_result"
    }
   ],
   "source": [
    "market_news.shape"
   ]
  },
  {
   "cell_type": "code",
   "execution_count": 16,
   "metadata": {},
   "outputs": [],
   "source": [
    "market_news['time_x'] = pd.to_datetime(market_news['time_x'])"
   ]
  },
  {
   "cell_type": "code",
   "execution_count": 17,
   "metadata": {},
   "outputs": [],
   "source": [
    "#market_news = market_news[market_news[\"assetName\"].str.contains(\"aceboo\")]"
   ]
  },
  {
   "cell_type": "code",
   "execution_count": 18,
   "metadata": {},
   "outputs": [],
   "source": [
    "market_train = market_news[market_news['time_x'].dt.year < 2016]\n",
    "market_test = market_news[market_news['time_x'].dt.year >= 2016]"
   ]
  },
  {
   "cell_type": "code",
   "execution_count": 19,
   "metadata": {},
   "outputs": [],
   "source": [
    "market_train = market_train.sort_values(by=['assetName', 'time_x']).reset_index(drop=True)\n",
    "market_test = market_test.sort_values(by=['assetName', 'time_x']).reset_index(drop=True)"
   ]
  },
  {
   "cell_type": "code",
   "execution_count": null,
   "metadata": {},
   "outputs": [],
   "source": []
  },
  {
   "cell_type": "code",
   "execution_count": 20,
   "metadata": {},
   "outputs": [
    {
     "name": "stdout",
     "output_type": "stream",
     "text": [
      "SELECTED FEATURES:  ['volume', 'close', 'open', 'returnsClosePrevRaw1', 'returnsOpenPrevRaw1', 'returnsClosePrevMktres1', 'returnsOpenPrevMktres1', 'returnsClosePrevRaw10', 'returnsOpenPrevRaw10', 'returnsClosePrevMktres10', 'returnsOpenPrevMktres10', 'urgency', 'takeSequence', 'bodySize', 'sentenceCount', 'wordCount', 'firstMentionSentence', 'relevance', 'sentimentNegative', 'sentimentNeutral', 'sentimentPositive', 'sentimentWordCount', 'noveltyCount12H', 'volumeCounts12H', 'headlineLen']\n"
     ]
    }
   ],
   "source": [
    "feature_columns = [c for c in market_train if c not in ['assetCode', 'assetCodes', 'assetCodesLen', 'assetCodeT', 'volume_to_mean', 'sentence_word_count',\n",
    "                'firstCreated', 'headline', 'headlineTag', 'marketCommentary', 'provider', 'returnsOpenPrevRaw1_to_volume',\n",
    "                'sourceId', 'subjects', 'time', 'universe','sourceTimestamp','returnsOpenNextMktres10',\n",
    "                                                        \n",
    "                'close_to_open', 'time_y',\n",
    "                'assetCodesLen', 'sentimentClass', 'volumeCounts24H','volumeCounts3D', 'volumeCounts5D', 'volumeCounts7D',\n",
    "                'noveltyCount24H','noveltyCount3D','noveltyCount5D', 'noveltyCount7D', 'companyCount', 'asset_sentiment_count',\n",
    "                'asset_sentence_mean','headlineTagT', 'time_x', 'assetName']]\n",
    "\n",
    "# 'volume', 'close', 'open', 'returnsClosePrevRaw1', 'returnsOpenPrevRaw1', 'returnsClosePrevMktres1', \n",
    "#                 'returnsOpenPrevMktres1', 'returnsClosePrevRaw10', 'returnsOpenPrevRaw10', 'returnsClosePrevMktres10', \n",
    "#                 'returnsOpenPrevMktres10', \n",
    "print(\"SELECTED FEATURES: \", feature_columns)"
   ]
  },
  {
   "cell_type": "code",
   "execution_count": null,
   "metadata": {},
   "outputs": [],
   "source": []
  },
  {
   "cell_type": "code",
   "execution_count": null,
   "metadata": {},
   "outputs": [],
   "source": [
    "## Approach 2\n",
    "## Combining columns of previous days for data aggregation\n",
    "# def prepare_data(train_df, num_samples):\n",
    "#     res = pd.DataFrame()\n",
    "#     for k in range(num_samples):\n",
    "#         f1 = {}\n",
    "#         for i in feature_columns:\n",
    "#             f1.update({i : i+'_' + str(k)}) \n",
    "#         df1 = train_df.rename(columns=f1)[k:].reset_index(drop=True)\n",
    "#         res = pd.concat([res, df1], axis=1)\n",
    "#     return res\n",
    "# tmp = prepare_data(train_df, 3)"
   ]
  },
  {
   "cell_type": "code",
   "execution_count": null,
   "metadata": {},
   "outputs": [],
   "source": []
  },
  {
   "cell_type": "code",
   "execution_count": null,
   "metadata": {},
   "outputs": [],
   "source": []
  },
  {
   "cell_type": "code",
   "execution_count": 138,
   "metadata": {},
   "outputs": [
    {
     "name": "stdout",
     "output_type": "stream",
     "text": [
      "Number of training samples: 520610 , test samples : 87985\n"
     ]
    }
   ],
   "source": [
    "## Approach 1:\n",
    "X_train = market_train[feature_columns].values\n",
    "X_test = market_test[feature_columns].values\n",
    "## Using only those stocks for which we have more than 500 data points\n",
    "\n",
    "#market_train = market_train.groupby(\"assetName\").filter(lambda x: len(x) > 500)\n",
    "up_train = market_train['returnsOpenNextMktres10'].map(lambda x: 0 if x<0 else 1).values\n",
    "#r = market_train['returnsOpenNextMktres10'].values\n",
    "Y_train = up_train\n",
    "up_test = market_test['returnsOpenNextMktres10'].map(lambda x: 0 if x<0 else 1).values\n",
    "Y_test = up_test\n",
    "\n",
    "print('Number of training samples: {} , test samples : {}'.format(Y_train.shape[0], Y_test.shape[0]))"
   ]
  },
  {
   "cell_type": "code",
   "execution_count": null,
   "metadata": {},
   "outputs": [],
   "source": []
  },
  {
   "cell_type": "code",
   "execution_count": 139,
   "metadata": {},
   "outputs": [],
   "source": [
    "X_train_norm = (X_train - X_train.min(axis=0)) /X_train.ptp(axis=0)\n",
    "X_test_norm = (X_test - X_test.min(axis=0)) /X_test.ptp(axis=0)"
   ]
  },
  {
   "cell_type": "code",
   "execution_count": 140,
   "metadata": {},
   "outputs": [
    {
     "data": {
      "text/plain": [
       "(520610, 25)"
      ]
     },
     "execution_count": 140,
     "metadata": {},
     "output_type": "execute_result"
    }
   ],
   "source": [
    "X_train_norm.shape"
   ]
  },
  {
   "cell_type": "code",
   "execution_count": 24,
   "metadata": {},
   "outputs": [],
   "source": [
    "\n"
   ]
  },
  {
   "cell_type": "code",
   "execution_count": 25,
   "metadata": {},
   "outputs": [],
   "source": [
    "\n"
   ]
  },
  {
   "cell_type": "code",
   "execution_count": 141,
   "metadata": {},
   "outputs": [
    {
     "data": {
      "text/plain": [
       "(87985, 25)"
      ]
     },
     "execution_count": 141,
     "metadata": {},
     "output_type": "execute_result"
    }
   ],
   "source": [
    "X_test_norm.shape"
   ]
  },
  {
   "cell_type": "markdown",
   "metadata": {},
   "source": [
    "## RNN Model"
   ]
  },
  {
   "cell_type": "code",
   "execution_count": 26,
   "metadata": {},
   "outputs": [],
   "source": [
    "# from tf.keras.models import Sequential  # This does not work!\n",
    "from tensorflow.python.keras.models import Sequential\n",
    "from tensorflow.python.keras.layers import Dense, GRU, Embedding\n",
    "from tensorflow.python.keras.optimizers import Adam\n",
    "from tensorflow.python.keras.preprocessing.text import Tokenizer\n",
    "from tensorflow.python.keras.preprocessing.sequence import pad_sequences"
   ]
  },
  {
   "cell_type": "code",
   "execution_count": 27,
   "metadata": {},
   "outputs": [],
   "source": [
    "import tensorflow as tf"
   ]
  },
  {
   "cell_type": "code",
   "execution_count": 129,
   "metadata": {},
   "outputs": [
    {
     "data": {
      "text/plain": [
       "(104122, 5, 25)"
      ]
     },
     "execution_count": 129,
     "metadata": {},
     "output_type": "execute_result"
    }
   ],
   "source": [
    "X_train_norm.shape"
   ]
  },
  {
   "cell_type": "code",
   "execution_count": 142,
   "metadata": {},
   "outputs": [],
   "source": [
    "X_train_norm = np.reshape(X_train_norm, (int(X_train_norm.shape[0]/5), 5, X_train_norm.shape[1]))\n",
    "X_test_norm = np.reshape(X_test_norm, (int(X_test_norm.shape[0]/5), 5, X_test_norm.shape[1]))"
   ]
  },
  {
   "cell_type": "code",
   "execution_count": 143,
   "metadata": {},
   "outputs": [],
   "source": [
    "Y_train = np.reshape(Y_train, (int(Y_train.shape[0]/5), 5))\n",
    "Y_test = np.reshape(Y_test, (int(Y_test.shape[0]/5), 5))"
   ]
  },
  {
   "cell_type": "code",
   "execution_count": 144,
   "metadata": {},
   "outputs": [
    {
     "data": {
      "text/plain": [
       "(104122, 5)"
      ]
     },
     "execution_count": 144,
     "metadata": {},
     "output_type": "execute_result"
    }
   ],
   "source": [
    "Y_train.shape"
   ]
  },
  {
   "cell_type": "code",
   "execution_count": 145,
   "metadata": {},
   "outputs": [],
   "source": [
    "\n",
    "model = Sequential()\n",
    "model.add(GRU(units=20,\n",
    "              return_sequences=True,\n",
    "              input_shape=(X_train_norm.shape[1], X_train_norm.shape[2])))\n",
    "model.add(GRU(units=5))\n",
    "#model.add(GRU(units=5))\n",
    "model.add(Dense(10, activation='relu'))\n",
    "# model.add(Dense(5, activation='relu'))\n",
    "# model.add(Dense(2, activation='relu'))\n",
    "model.add(Dense(5, activation='sigmoid'))\n",
    "optimizer = Adam(lr=1e-3)\n",
    "model.compile(loss='binary_crossentropy',\n",
    "              optimizer=optimizer,\n",
    "              metrics=['accuracy'])"
   ]
  },
  {
   "cell_type": "code",
   "execution_count": 133,
   "metadata": {},
   "outputs": [],
   "source": [
    "## Neural Network\n",
    "\n",
    "model = Sequential()\n",
    "model.add(Dense(20, activation='relu', input_dim= X_test_norm.shape[1]))\n",
    "#model.add(GRU(units=5))\n",
    "model.add(Dense(20, activation='relu'))\n",
    "model.add(Dense(10, activation='relu'))\n",
    "model.add(Dense(5, activation='relu'))\n",
    "model.add(Dense(1, activation='sigmoid'))\n",
    "optimizer = Adam(lr=1e-3)\n",
    "model.compile(loss='binary_crossentropy',\n",
    "              optimizer=optimizer,\n",
    "              metrics=['accuracy'])"
   ]
  },
  {
   "cell_type": "code",
   "execution_count": 146,
   "metadata": {},
   "outputs": [
    {
     "name": "stdout",
     "output_type": "stream",
     "text": [
      "_________________________________________________________________\n",
      "Layer (type)                 Output Shape              Param #   \n",
      "=================================================================\n",
      "gru_35 (GRU)                 (None, 5, 20)             2760      \n",
      "_________________________________________________________________\n",
      "gru_36 (GRU)                 (None, 5)                 390       \n",
      "_________________________________________________________________\n",
      "dense_95 (Dense)             (None, 10)                60        \n",
      "_________________________________________________________________\n",
      "dense_96 (Dense)             (None, 5)                 55        \n",
      "=================================================================\n",
      "Total params: 3,265\n",
      "Trainable params: 3,265\n",
      "Non-trainable params: 0\n",
      "_________________________________________________________________\n"
     ]
    }
   ],
   "source": [
    "model.summary()"
   ]
  },
  {
   "cell_type": "code",
   "execution_count": 147,
   "metadata": {},
   "outputs": [
    {
     "name": "stdout",
     "output_type": "stream",
     "text": [
      "Train on 93709 samples, validate on 10413 samples\n",
      "Epoch 1/30\n",
      "93709/93709 [==============================] - 10s 103us/step - loss: 0.6931 - acc: 0.5039 - val_loss: 0.6926 - val_acc: 0.5153\n",
      "Epoch 2/30\n",
      "93709/93709 [==============================] - 4s 44us/step - loss: 0.6919 - acc: 0.5190 - val_loss: 0.6903 - val_acc: 0.5301\n",
      "Epoch 3/30\n",
      "93709/93709 [==============================] - 4s 43us/step - loss: 0.6894 - acc: 0.5337 - val_loss: 0.6873 - val_acc: 0.5419\n",
      "Epoch 4/30\n",
      "93709/93709 [==============================] - 4s 43us/step - loss: 0.6838 - acc: 0.5536 - val_loss: 0.6794 - val_acc: 0.5576\n",
      "Epoch 5/30\n",
      "93709/93709 [==============================] - 4s 43us/step - loss: 0.6736 - acc: 0.5764 - val_loss: 0.6812 - val_acc: 0.5547\n",
      "Epoch 6/30\n",
      "93709/93709 [==============================] - 4s 43us/step - loss: 0.6678 - acc: 0.5886 - val_loss: 0.6750 - val_acc: 0.5688\n",
      "Epoch 7/30\n",
      "93709/93709 [==============================] - 4s 44us/step - loss: 0.6649 - acc: 0.5951 - val_loss: 0.6734 - val_acc: 0.5734\n",
      "Epoch 8/30\n",
      "93709/93709 [==============================] - 4s 47us/step - loss: 0.6632 - acc: 0.5982 - val_loss: 0.6720 - val_acc: 0.5771\n",
      "Epoch 9/30\n",
      "93709/93709 [==============================] - 4s 47us/step - loss: 0.6620 - acc: 0.6000 - val_loss: 0.6707 - val_acc: 0.5812\n",
      "Epoch 10/30\n",
      "93709/93709 [==============================] - 4s 47us/step - loss: 0.6608 - acc: 0.6018 - val_loss: 0.6709 - val_acc: 0.5805\n",
      "Epoch 11/30\n",
      "93709/93709 [==============================] - 4s 47us/step - loss: 0.6597 - acc: 0.6033 - val_loss: 0.6707 - val_acc: 0.5800\n",
      "Epoch 12/30\n",
      "93709/93709 [==============================] - 4s 47us/step - loss: 0.6587 - acc: 0.6048 - val_loss: 0.6708 - val_acc: 0.5800\n",
      "Epoch 13/30\n",
      "93709/93709 [==============================] - 4s 48us/step - loss: 0.6577 - acc: 0.6062 - val_loss: 0.6694 - val_acc: 0.5821\n",
      "Epoch 14/30\n",
      "93709/93709 [==============================] - 4s 47us/step - loss: 0.6566 - acc: 0.6076 - val_loss: 0.6680 - val_acc: 0.5848\n",
      "Epoch 15/30\n",
      "93709/93709 [==============================] - 4s 47us/step - loss: 0.6553 - acc: 0.6094 - val_loss: 0.6672 - val_acc: 0.5866\n",
      "Epoch 16/30\n",
      "93709/93709 [==============================] - 4s 46us/step - loss: 0.6542 - acc: 0.6109 - val_loss: 0.6660 - val_acc: 0.5881\n",
      "Epoch 17/30\n",
      "93709/93709 [==============================] - 4s 47us/step - loss: 0.6532 - acc: 0.6122 - val_loss: 0.6645 - val_acc: 0.5907\n",
      "Epoch 18/30\n",
      "93709/93709 [==============================] - 4s 47us/step - loss: 0.6523 - acc: 0.6132 - val_loss: 0.6642 - val_acc: 0.5910\n",
      "Epoch 19/30\n",
      "93709/93709 [==============================] - 4s 47us/step - loss: 0.6515 - acc: 0.6140 - val_loss: 0.6625 - val_acc: 0.5931\n",
      "Epoch 20/30\n",
      "93709/93709 [==============================] - 4s 47us/step - loss: 0.6507 - acc: 0.6147 - val_loss: 0.6619 - val_acc: 0.5940\n",
      "Epoch 21/30\n",
      "93709/93709 [==============================] - 4s 46us/step - loss: 0.6499 - acc: 0.6159 - val_loss: 0.6612 - val_acc: 0.5956\n",
      "Epoch 22/30\n",
      "93709/93709 [==============================] - 4s 47us/step - loss: 0.6491 - acc: 0.6165 - val_loss: 0.6609 - val_acc: 0.5965\n",
      "Epoch 23/30\n",
      "93709/93709 [==============================] - 4s 47us/step - loss: 0.6483 - acc: 0.6173 - val_loss: 0.6607 - val_acc: 0.5967\n",
      "Epoch 24/30\n",
      "93709/93709 [==============================] - 4s 48us/step - loss: 0.6474 - acc: 0.6183 - val_loss: 0.6598 - val_acc: 0.5979\n",
      "Epoch 25/30\n",
      "93709/93709 [==============================] - 4s 47us/step - loss: 0.6465 - acc: 0.6195 - val_loss: 0.6587 - val_acc: 0.6002\n",
      "Epoch 26/30\n",
      "93709/93709 [==============================] - 4s 47us/step - loss: 0.6455 - acc: 0.6206 - val_loss: 0.6568 - val_acc: 0.6022\n",
      "Epoch 27/30\n",
      "93709/93709 [==============================] - 4s 46us/step - loss: 0.6447 - acc: 0.6216 - val_loss: 0.6558 - val_acc: 0.6039\n",
      "Epoch 28/30\n",
      "93709/93709 [==============================] - 4s 47us/step - loss: 0.6439 - acc: 0.6225 - val_loss: 0.6545 - val_acc: 0.6056\n",
      "Epoch 29/30\n",
      "93709/93709 [==============================] - 4s 47us/step - loss: 0.6434 - acc: 0.6231 - val_loss: 0.6546 - val_acc: 0.6055\n",
      "Epoch 30/30\n",
      "93709/93709 [==============================] - 4s 46us/step - loss: 0.6428 - acc: 0.6237 - val_loss: 0.6538 - val_acc: 0.6062\n",
      "Wall time: 2min 17s\n"
     ]
    },
    {
     "data": {
      "text/plain": [
       "<tensorflow.python.keras.callbacks.History at 0x1bdbd123208>"
      ]
     },
     "execution_count": 147,
     "metadata": {},
     "output_type": "execute_result"
    }
   ],
   "source": [
    "%%time\n",
    "model.fit(X_train_norm, Y_train,\n",
    "          validation_split=0.1, epochs=30, batch_size=256, shuffle=False)"
   ]
  },
  {
   "cell_type": "code",
   "execution_count": 148,
   "metadata": {},
   "outputs": [
    {
     "name": "stdout",
     "output_type": "stream",
     "text": [
      "17597/17597 [==============================] - 2s 96us/step\n"
     ]
    }
   ],
   "source": [
    "result = model.evaluate(X_test_norm, Y_test)"
   ]
  },
  {
   "cell_type": "code",
   "execution_count": 149,
   "metadata": {},
   "outputs": [
    {
     "name": "stdout",
     "output_type": "stream",
     "text": [
      "Accuracy: 58.22%\n"
     ]
    }
   ],
   "source": [
    "print(\"Accuracy: {0:.2%}\".format(result[1]))"
   ]
  },
  {
   "cell_type": "code",
   "execution_count": 165,
   "metadata": {},
   "outputs": [
    {
     "data": {
      "text/plain": [
       "[0.6896394010415814, 0.5821901573751124]"
      ]
     },
     "execution_count": 165,
     "metadata": {},
     "output_type": "execute_result"
    }
   ],
   "source": [
    "result"
   ]
  },
  {
   "cell_type": "code",
   "execution_count": null,
   "metadata": {},
   "outputs": [],
   "source": []
  },
  {
   "cell_type": "code",
   "execution_count": null,
   "metadata": {},
   "outputs": [],
   "source": []
  },
  {
   "cell_type": "code",
   "execution_count": 150,
   "metadata": {},
   "outputs": [],
   "source": [
    "pred= model.predict(X_test_norm)"
   ]
  },
  {
   "cell_type": "code",
   "execution_count": 151,
   "metadata": {},
   "outputs": [
    {
     "data": {
      "text/plain": [
       "array([[0.20065825, 0.16693737, 0.2765075 , 0.47080803, 0.43391868],\n",
       "       [0.82050043, 0.80740416, 0.6318036 , 0.52233875, 0.58121395],\n",
       "       [0.64143467, 0.58411163, 0.7064582 , 0.69228345, 0.5411065 ],\n",
       "       ...,\n",
       "       [0.7205214 , 0.6916066 , 0.7137251 , 0.6609484 , 0.5569162 ],\n",
       "       [0.83436376, 0.79181266, 0.7579857 , 0.6816145 , 0.5969599 ],\n",
       "       [0.8226792 , 0.7525606 , 0.6384215 , 0.57671684, 0.5915044 ]],\n",
       "      dtype=float32)"
      ]
     },
     "execution_count": 151,
     "metadata": {},
     "output_type": "execute_result"
    }
   ],
   "source": [
    "pred = "
   ]
  },
  {
   "cell_type": "code",
   "execution_count": 174,
   "metadata": {},
   "outputs": [],
   "source": [
    "val = (pred > 0.5).astype(int)"
   ]
  },
  {
   "cell_type": "code",
   "execution_count": 175,
   "metadata": {},
   "outputs": [
    {
     "data": {
      "text/plain": [
       "51224"
      ]
     },
     "execution_count": 175,
     "metadata": {},
     "output_type": "execute_result"
    }
   ],
   "source": [
    "np.sum((val == Y_test).astype(int))"
   ]
  },
  {
   "cell_type": "code",
   "execution_count": 176,
   "metadata": {},
   "outputs": [
    {
     "data": {
      "text/plain": [
       "(17597, 5)"
      ]
     },
     "execution_count": 176,
     "metadata": {},
     "output_type": "execute_result"
    }
   ],
   "source": [
    "Y_test.shape"
   ]
  },
  {
   "cell_type": "code",
   "execution_count": 177,
   "metadata": {},
   "outputs": [
    {
     "data": {
      "text/plain": [
       "0.5821901460476218"
      ]
     },
     "execution_count": 177,
     "metadata": {},
     "output_type": "execute_result"
    }
   ],
   "source": [
    "51224/87985"
   ]
  },
  {
   "cell_type": "code",
   "execution_count": 181,
   "metadata": {},
   "outputs": [],
   "source": [
    "one = np.ones((17597, 5))"
   ]
  },
  {
   "cell_type": "code",
   "execution_count": 187,
   "metadata": {},
   "outputs": [
    {
     "data": {
      "text/plain": [
       "40593"
      ]
     },
     "execution_count": 187,
     "metadata": {},
     "output_type": "execute_result"
    }
   ],
   "source": [
    "np.sum(((val == Y_test) & (val == one)).astype(int))"
   ]
  },
  {
   "cell_type": "code",
   "execution_count": 188,
   "metadata": {},
   "outputs": [
    {
     "data": {
      "text/plain": [
       "45665"
      ]
     },
     "execution_count": 188,
     "metadata": {},
     "output_type": "execute_result"
    }
   ],
   "source": [
    "np.sum(((Y_test == one)).astype(int))"
   ]
  },
  {
   "cell_type": "code",
   "execution_count": 192,
   "metadata": {},
   "outputs": [
    {
     "data": {
      "text/plain": [
       "0.888930252928939"
      ]
     },
     "execution_count": 192,
     "metadata": {},
     "output_type": "execute_result"
    }
   ],
   "source": [
    "40593/45665"
   ]
  },
  {
   "cell_type": "code",
   "execution_count": 189,
   "metadata": {},
   "outputs": [],
   "source": [
    "zero = np.zeros((17597, 5))"
   ]
  },
  {
   "cell_type": "code",
   "execution_count": 190,
   "metadata": {},
   "outputs": [
    {
     "data": {
      "text/plain": [
       "10631"
      ]
     },
     "execution_count": 190,
     "metadata": {},
     "output_type": "execute_result"
    }
   ],
   "source": [
    "np.sum(((val == Y_test) & (val == zero)).astype(int))"
   ]
  },
  {
   "cell_type": "code",
   "execution_count": 191,
   "metadata": {},
   "outputs": [
    {
     "data": {
      "text/plain": [
       "42320"
      ]
     },
     "execution_count": 191,
     "metadata": {},
     "output_type": "execute_result"
    }
   ],
   "source": [
    "np.sum(((Y_test == zero)).astype(int))"
   ]
  },
  {
   "cell_type": "code",
   "execution_count": 193,
   "metadata": {},
   "outputs": [
    {
     "data": {
      "text/plain": [
       "0.25120510396975426"
      ]
     },
     "execution_count": 193,
     "metadata": {},
     "output_type": "execute_result"
    }
   ],
   "source": [
    "10631/42320"
   ]
  },
  {
   "cell_type": "code",
   "execution_count": 170,
   "metadata": {},
   "outputs": [
    {
     "data": {
      "text/plain": [
       "317637"
      ]
     },
     "execution_count": 170,
     "metadata": {},
     "output_type": "execute_result"
    }
   ],
   "source": [
    "pred_train = model.predict(X_train_norm)\n",
    "val_train = (pred_train > 0.5).astype(int)\n",
    "np.sum((val_train == Y_train).astype(int))"
   ]
  },
  {
   "cell_type": "code",
   "execution_count": 171,
   "metadata": {},
   "outputs": [
    {
     "data": {
      "text/plain": [
       "(104122, 5)"
      ]
     },
     "execution_count": 171,
     "metadata": {},
     "output_type": "execute_result"
    }
   ],
   "source": [
    "Y_train.shape"
   ]
  },
  {
   "cell_type": "code",
   "execution_count": 172,
   "metadata": {},
   "outputs": [
    {
     "data": {
      "text/plain": [
       "0.6101246614548318"
      ]
     },
     "execution_count": 172,
     "metadata": {},
     "output_type": "execute_result"
    }
   ],
   "source": [
    "317637/520610"
   ]
  },
  {
   "cell_type": "code",
   "execution_count": null,
   "metadata": {},
   "outputs": [],
   "source": []
  },
  {
   "cell_type": "code",
   "execution_count": null,
   "metadata": {},
   "outputs": [],
   "source": []
  },
  {
   "cell_type": "code",
   "execution_count": null,
   "metadata": {},
   "outputs": [],
   "source": []
  },
  {
   "cell_type": "code",
   "execution_count": null,
   "metadata": {},
   "outputs": [],
   "source": []
  },
  {
   "cell_type": "code",
   "execution_count": null,
   "metadata": {},
   "outputs": [],
   "source": []
  },
  {
   "cell_type": "code",
   "execution_count": null,
   "metadata": {},
   "outputs": [],
   "source": []
  },
  {
   "cell_type": "code",
   "execution_count": null,
   "metadata": {},
   "outputs": [],
   "source": []
  },
  {
   "cell_type": "code",
   "execution_count": null,
   "metadata": {},
   "outputs": [],
   "source": []
  },
  {
   "cell_type": "code",
   "execution_count": null,
   "metadata": {},
   "outputs": [],
   "source": []
  },
  {
   "cell_type": "code",
   "execution_count": null,
   "metadata": {},
   "outputs": [],
   "source": []
  },
  {
   "cell_type": "code",
   "execution_count": null,
   "metadata": {},
   "outputs": [],
   "source": []
  },
  {
   "cell_type": "code",
   "execution_count": null,
   "metadata": {},
   "outputs": [],
   "source": []
  },
  {
   "cell_type": "code",
   "execution_count": null,
   "metadata": {},
   "outputs": [],
   "source": []
  },
  {
   "cell_type": "code",
   "execution_count": null,
   "metadata": {},
   "outputs": [],
   "source": []
  },
  {
   "cell_type": "code",
   "execution_count": null,
   "metadata": {},
   "outputs": [],
   "source": []
  },
  {
   "cell_type": "code",
   "execution_count": null,
   "metadata": {},
   "outputs": [],
   "source": []
  },
  {
   "cell_type": "code",
   "execution_count": null,
   "metadata": {},
   "outputs": [],
   "source": []
  },
  {
   "cell_type": "code",
   "execution_count": null,
   "metadata": {},
   "outputs": [],
   "source": []
  },
  {
   "cell_type": "code",
   "execution_count": null,
   "metadata": {},
   "outputs": [],
   "source": []
  },
  {
   "cell_type": "code",
   "execution_count": null,
   "metadata": {},
   "outputs": [],
   "source": []
  },
  {
   "cell_type": "code",
   "execution_count": null,
   "metadata": {},
   "outputs": [],
   "source": []
  },
  {
   "cell_type": "code",
   "execution_count": null,
   "metadata": {},
   "outputs": [],
   "source": []
  },
  {
   "cell_type": "code",
   "execution_count": null,
   "metadata": {},
   "outputs": [],
   "source": []
  },
  {
   "cell_type": "code",
   "execution_count": null,
   "metadata": {},
   "outputs": [],
   "source": []
  },
  {
   "cell_type": "code",
   "execution_count": null,
   "metadata": {},
   "outputs": [],
   "source": []
  },
  {
   "cell_type": "code",
   "execution_count": null,
   "metadata": {},
   "outputs": [],
   "source": []
  },
  {
   "cell_type": "code",
   "execution_count": null,
   "metadata": {},
   "outputs": [],
   "source": []
  },
  {
   "cell_type": "code",
   "execution_count": null,
   "metadata": {},
   "outputs": [],
   "source": []
  },
  {
   "cell_type": "code",
   "execution_count": null,
   "metadata": {},
   "outputs": [],
   "source": [
    "df1 = pd.DataFrame({\n",
    "    'A': [1,2,3,4,5],\n",
    "    'B': [1,2,3,4,5]\n",
    "})\n",
    "\n",
    "df2 = pd.DataFrame({\n",
    "    'C': [1,2,3,4,5],\n",
    "    'D': [1,2,3,4,5]\n",
    "})\n",
    "\n",
    "df_concat = pd.concat([df1, df2], axis=1)\n",
    "\n",
    "print(df_concat)"
   ]
  },
  {
   "cell_type": "code",
   "execution_count": null,
   "metadata": {},
   "outputs": [],
   "source": [
    "X = market_train[feature_columns].values\n",
    "## Using only those stocks for which we have more than 500 data points\n",
    "\n",
    "market_train = market_train.groupby(\"assetName\").filter(lambda x: len(x) > 500)\n",
    "up = market_train['returnsOpenNextMktres10'].map(lambda x: 0 if x<0 else 1).values\n",
    "r = market_train['returnsOpenNextMktres10'].values\n",
    "Y = up\n",
    "num_sample = Y.shape[0]\n",
    "print('Number of samples: {}'.format(num_sample))"
   ]
  },
  {
   "cell_type": "code",
   "execution_count": null,
   "metadata": {},
   "outputs": [],
   "source": [
    "X[0]"
   ]
  },
  {
   "cell_type": "code",
   "execution_count": null,
   "metadata": {},
   "outputs": [],
   "source": [
    "X.shape"
   ]
  },
  {
   "cell_type": "code",
   "execution_count": null,
   "metadata": {},
   "outputs": [],
   "source": [
    "market_train.head()"
   ]
  },
  {
   "cell_type": "code",
   "execution_count": null,
   "metadata": {},
   "outputs": [],
   "source": [
    "market_train['assetName'].unique()"
   ]
  },
  {
   "cell_type": "code",
   "execution_count": null,
   "metadata": {},
   "outputs": [],
   "source": [
    "market_train.groupby('assetName')"
   ]
  },
  {
   "cell_type": "code",
   "execution_count": null,
   "metadata": {},
   "outputs": [],
   "source": []
  },
  {
   "cell_type": "code",
   "execution_count": null,
   "metadata": {},
   "outputs": [],
   "source": []
  },
  {
   "cell_type": "code",
   "execution_count": null,
   "metadata": {},
   "outputs": [],
   "source": []
  },
  {
   "cell_type": "code",
   "execution_count": null,
   "metadata": {},
   "outputs": [],
   "source": []
  },
  {
   "cell_type": "code",
   "execution_count": null,
   "metadata": {},
   "outputs": [],
   "source": []
  },
  {
   "cell_type": "code",
   "execution_count": null,
   "metadata": {},
   "outputs": [],
   "source": []
  },
  {
   "cell_type": "code",
   "execution_count": null,
   "metadata": {},
   "outputs": [],
   "source": [
    "type(news_data['assetCodes'])"
   ]
  },
  {
   "cell_type": "code",
   "execution_count": null,
   "metadata": {},
   "outputs": [],
   "source": [
    "print(\"Minimum values : SourceTimestamp : {}, firstCreated : {}, time : {}\".format(news_data['sourceTimestamp'].min(), \n",
    "                                                                                   news_data['firstCreated'].min(), \n",
    "                                                                                   news_data['time'].min()))"
   ]
  },
  {
   "cell_type": "code",
   "execution_count": null,
   "metadata": {},
   "outputs": [],
   "source": [
    "print(\"Maximum values : SourceTimestamp : {}, firstCreated : {}, time : {}\".format(news_data['sourceTimestamp'].max(), \n",
    "                                                                                   news_data['firstCreated'].max(), \n",
    "                                                                                   news_data['time'].max()))"
   ]
  },
  {
   "cell_type": "code",
   "execution_count": null,
   "metadata": {},
   "outputs": [],
   "source": [
    "news_data.groupby(['assetName', 'sentimentClass'])['time'].transform('mean')"
   ]
  },
  {
   "cell_type": "code",
   "execution_count": null,
   "metadata": {},
   "outputs": [],
   "source": []
  },
  {
   "cell_type": "code",
   "execution_count": null,
   "metadata": {},
   "outputs": [],
   "source": []
  },
  {
   "cell_type": "code",
   "execution_count": null,
   "metadata": {},
   "outputs": [],
   "source": []
  },
  {
   "cell_type": "code",
   "execution_count": null,
   "metadata": {},
   "outputs": [],
   "source": []
  },
  {
   "cell_type": "code",
   "execution_count": null,
   "metadata": {},
   "outputs": [],
   "source": []
  },
  {
   "cell_type": "code",
   "execution_count": null,
   "metadata": {},
   "outputs": [],
   "source": []
  },
  {
   "cell_type": "code",
   "execution_count": null,
   "metadata": {},
   "outputs": [],
   "source": []
  },
  {
   "cell_type": "code",
   "execution_count": null,
   "metadata": {},
   "outputs": [],
   "source": []
  },
  {
   "cell_type": "code",
   "execution_count": null,
   "metadata": {},
   "outputs": [],
   "source": []
  },
  {
   "cell_type": "code",
   "execution_count": null,
   "metadata": {},
   "outputs": [],
   "source": []
  },
  {
   "cell_type": "code",
   "execution_count": null,
   "metadata": {},
   "outputs": [],
   "source": [
    "news_data.head()"
   ]
  },
  {
   "cell_type": "code",
   "execution_count": null,
   "metadata": {},
   "outputs": [],
   "source": []
  },
  {
   "cell_type": "code",
   "execution_count": null,
   "metadata": {},
   "outputs": [],
   "source": []
  },
  {
   "cell_type": "code",
   "execution_count": null,
   "metadata": {},
   "outputs": [],
   "source": []
  },
  {
   "cell_type": "code",
   "execution_count": null,
   "metadata": {},
   "outputs": [],
   "source": []
  },
  {
   "cell_type": "code",
   "execution_count": null,
   "metadata": {},
   "outputs": [],
   "source": []
  },
  {
   "cell_type": "code",
   "execution_count": null,
   "metadata": {},
   "outputs": [],
   "source": []
  },
  {
   "cell_type": "code",
   "execution_count": null,
   "metadata": {},
   "outputs": [],
   "source": []
  },
  {
   "cell_type": "markdown",
   "metadata": {},
   "source": [
    "## Facebook Stock analysis"
   ]
  },
  {
   "cell_type": "code",
   "execution_count": null,
   "metadata": {},
   "outputs": [],
   "source": [
    "fb_market = market_data[market_data[\"assetName\"].str.contains(\"aceboo\")]"
   ]
  },
  {
   "cell_type": "code",
   "execution_count": null,
   "metadata": {},
   "outputs": [],
   "source": [
    "fb_market.nunique()"
   ]
  },
  {
   "cell_type": "code",
   "execution_count": null,
   "metadata": {},
   "outputs": [],
   "source": [
    "news_data.columns"
   ]
  },
  {
   "cell_type": "code",
   "execution_count": null,
   "metadata": {},
   "outputs": [],
   "source": [
    "fb_news = df1[df1[\"assetName\"].str.contains(\"aceboo\")]"
   ]
  },
  {
   "cell_type": "code",
   "execution_count": null,
   "metadata": {},
   "outputs": [],
   "source": [
    "news_data.shape"
   ]
  },
  {
   "cell_type": "code",
   "execution_count": null,
   "metadata": {},
   "outputs": [],
   "source": [
    "fb_news = pd.concat([df1[df1[\"assetName\"].str.contains(\"aceboo\")],\n",
    "                     df2[df2[\"assetName\"].str.contains(\"aceboo\")],\n",
    "                     df3[df3[\"assetName\"].str.contains(\"aceboo\")],\n",
    "                     df4[df4[\"assetName\"].str.contains(\"aceboo\")],\n",
    "                     df5[df5[\"assetName\"].str.contains(\"aceboo\")],\n",
    "                     df6[df6[\"assetName\"].str.contains(\"aceboo\")],\n",
    "                     df7[df7[\"assetName\"].str.contains(\"aceboo\")],\n",
    "                     df8[df8[\"assetName\"].str.contains(\"aceboo\")],\n",
    "                     df9[df9[\"assetName\"].str.contains(\"aceboo\")],\n",
    "                    df10[df10[\"assetName\"].str.contains(\"aceboo\")]])"
   ]
  },
  {
   "cell_type": "code",
   "execution_count": null,
   "metadata": {},
   "outputs": [],
   "source": [
    "fb_news.shape"
   ]
  },
  {
   "cell_type": "code",
   "execution_count": null,
   "metadata": {},
   "outputs": [],
   "source": [
    "fb_market.shape"
   ]
  },
  {
   "cell_type": "code",
   "execution_count": null,
   "metadata": {},
   "outputs": [],
   "source": [
    "fb_market = fb_market.sort_values(by=\"time\", ascending=True)\n",
    "fb_news = fb_news.sort_values(by=\"time\", ascending=True)"
   ]
  },
  {
   "cell_type": "code",
   "execution_count": null,
   "metadata": {},
   "outputs": [],
   "source": [
    "fb_market['returnsOpenNextMktres10'].plot(grid=True)"
   ]
  },
  {
   "cell_type": "code",
   "execution_count": null,
   "metadata": {},
   "outputs": [],
   "source": [
    "fb_market.loc[fb_market['returnsOpenNextMktres10'] > 0.0,'x'] = 1"
   ]
  },
  {
   "cell_type": "code",
   "execution_count": null,
   "metadata": {},
   "outputs": [],
   "source": [
    "fb_market.loc[fb_market['returnsOpenNextMktres10'] < 0.0,'x'] = 0"
   ]
  },
  {
   "cell_type": "code",
   "execution_count": null,
   "metadata": {},
   "outputs": [],
   "source": [
    "def get_datetime(x):\n",
    "#     dt0 =  x.split('+')[0]\n",
    "#     dt1 = datetime.strptime(dt0, \"%Y-%m-%d %H:%M:%S\")\n",
    "    dt1 = pd.to_datetime(x)\n",
    "    return time.mktime(dt1.timetuple())"
   ]
  },
  {
   "cell_type": "code",
   "execution_count": null,
   "metadata": {},
   "outputs": [],
   "source": [
    "fb_market['timestamp'] = fb_market['time'].apply(get_datetime)"
   ]
  },
  {
   "cell_type": "code",
   "execution_count": null,
   "metadata": {},
   "outputs": [],
   "source": [
    "fb_market.iloc[:50].plot.scatter(x = 'timestamp', y = 'returnsOpenNextMktres10')"
   ]
  },
  {
   "cell_type": "code",
   "execution_count": null,
   "metadata": {},
   "outputs": [],
   "source": [
    "fb_news['timestamp'] = fb_news['time'].apply(get_datetime)"
   ]
  },
  {
   "cell_type": "code",
   "execution_count": null,
   "metadata": {},
   "outputs": [],
   "source": [
    "fb_news[:50].plot.scatter(x = 'timestamp', y = 'sentimentClass')"
   ]
  },
  {
   "cell_type": "code",
   "execution_count": null,
   "metadata": {},
   "outputs": [],
   "source": []
  },
  {
   "cell_type": "markdown",
   "metadata": {},
   "source": [
    "## Rough Work"
   ]
  },
  {
   "cell_type": "code",
   "execution_count": null,
   "metadata": {},
   "outputs": [],
   "source": []
  },
  {
   "cell_type": "code",
   "execution_count": null,
   "metadata": {
    "scrolled": true
   },
   "outputs": [],
   "source": [
    "asset_name = [col for col in tmp.columns if 'assetNam' in col]"
   ]
  },
  {
   "cell_type": "code",
   "execution_count": null,
   "metadata": {},
   "outputs": [],
   "source": [
    "tmp1 = tmp[(tmp['assetName_0'] == tmp['assetName_1']) & (tmp['assetName_1'] == tmp['assetName_2']) ]"
   ]
  },
  {
   "cell_type": "code",
   "execution_count": null,
   "metadata": {},
   "outputs": [],
   "source": [
    "tmp.shape"
   ]
  },
  {
   "cell_type": "code",
   "execution_count": null,
   "metadata": {},
   "outputs": [],
   "source": []
  },
  {
   "cell_type": "code",
   "execution_count": null,
   "metadata": {},
   "outputs": [],
   "source": [
    "for v, k in enumerate(market_data['assetCode'].unique()):\n",
    "    print (\"v : {} , k : {}\".format(v,k))"
   ]
  },
  {
   "cell_type": "code",
   "execution_count": null,
   "metadata": {},
   "outputs": [],
   "source": [
    "market_data.drop()"
   ]
  },
  {
   "cell_type": "code",
   "execution_count": null,
   "metadata": {},
   "outputs": [],
   "source": [
    "df = pd.DataFrame"
   ]
  },
  {
   "cell_type": "code",
   "execution_count": null,
   "metadata": {},
   "outputs": [],
   "source": [
    "df = market_train.groupby(by='assetName')"
   ]
  },
  {
   "cell_type": "code",
   "execution_count": null,
   "metadata": {},
   "outputs": [],
   "source": [
    "df.head()"
   ]
  },
  {
   "cell_type": "code",
   "execution_count": null,
   "metadata": {
    "scrolled": true
   },
   "outputs": [],
   "source": []
  },
  {
   "cell_type": "code",
   "execution_count": null,
   "metadata": {},
   "outputs": [],
   "source": [
    "market_train[market_train['assetName'].str.contains('Apple Inc')]"
   ]
  },
  {
   "cell_type": "code",
   "execution_count": null,
   "metadata": {
    "scrolled": true
   },
   "outputs": [],
   "source": [
    "market_train.groupby(['assetName']).transform('count')"
   ]
  },
  {
   "cell_type": "code",
   "execution_count": null,
   "metadata": {},
   "outputs": [],
   "source": [
    "src = market_train[feature_columns]\n"
   ]
  },
  {
   "cell_type": "code",
   "execution_count": null,
   "metadata": {},
   "outputs": [],
   "source": [
    "src1 = src.groupby(\"assetName\").filter(lambda x: len(x) > 500)"
   ]
  },
  {
   "cell_type": "code",
   "execution_count": null,
   "metadata": {},
   "outputs": [],
   "source": [
    "src1['assetName'].value_counts().sort_values(ascending=False)"
   ]
  },
  {
   "cell_type": "code",
   "execution_count": null,
   "metadata": {},
   "outputs": [],
   "source": []
  },
  {
   "cell_type": "code",
   "execution_count": null,
   "metadata": {},
   "outputs": [],
   "source": []
  },
  {
   "cell_type": "code",
   "execution_count": null,
   "metadata": {},
   "outputs": [],
   "source": []
  },
  {
   "cell_type": "code",
   "execution_count": null,
   "metadata": {},
   "outputs": [],
   "source": []
  }
 ],
 "metadata": {
  "kernelspec": {
   "display_name": "Python 3",
   "language": "python",
   "name": "python3"
  },
  "language_info": {
   "codemirror_mode": {
    "name": "ipython",
    "version": 3
   },
   "file_extension": ".py",
   "mimetype": "text/x-python",
   "name": "python",
   "nbconvert_exporter": "python",
   "pygments_lexer": "ipython3",
   "version": "3.6.7"
  }
 },
 "nbformat": 4,
 "nbformat_minor": 2
}
