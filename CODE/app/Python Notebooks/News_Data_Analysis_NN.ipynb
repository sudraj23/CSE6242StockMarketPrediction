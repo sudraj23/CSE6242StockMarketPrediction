{
 "cells": [
  {
   "cell_type": "code",
   "execution_count": 1,
   "metadata": {},
   "outputs": [],
   "source": [
    "import pandas as pd\n",
    "import matplotlib.pyplot as plt\n",
    "#import matplotlib as plt\n",
    "import datetime\n",
    "import time\n",
    "import numpy as np\n",
    "import gc"
   ]
  },
  {
   "cell_type": "code",
   "execution_count": 2,
   "metadata": {},
   "outputs": [],
   "source": [
    "#pd.set_option('display.height', 1000)\n",
    "pd.set_option('display.max_rows', 500)\n",
    "pd.set_option('display.max_columns', 500)\n",
    "#pd.set_option('display.width', 1000)"
   ]
  },
  {
   "cell_type": "markdown",
   "metadata": {},
   "source": [
    "# Preprocess News Data"
   ]
  },
  {
   "cell_type": "code",
   "execution_count": 4,
   "metadata": {},
   "outputs": [],
   "source": [
    "#Using 2010 to 2016 data\n",
    "def process_news_data(news_data):\n",
    "    print(\"Shape : {}\".format(news_data.shape))\n",
    "    news_data = news_data.drop(news_data.columns[0], axis=1)\n",
    "    news_data['time'] = pd.to_datetime(news_data['time'])\n",
    "    news_data['sourceTimestamp'] = pd.to_datetime(news_data['sourceTimestamp'])\n",
    "    news_data['firstCreated'] = pd.to_datetime(news_data['firstCreated'])\n",
    "    news_data['provider'] = news_data['provider'].astype('category')\n",
    "    news_data['subjects'] = news_data['subjects'].astype('category')\n",
    "    news_data['audiences'] = news_data['audiences'].astype('category')\n",
    "    news_data['assetCodes'] = news_data['assetCodes'].astype('category')\n",
    "    news_data['assetName'] = news_data['assetName'].astype('category')\n",
    "    news_data = news_data[news_data['time'].dt.year > 2009]\n",
    "    \n",
    "    news_data['rel_firstMention'] = 1.0*news_data['firstMentionSentence']/news_data['sentenceCount']\n",
    "    news_data['rel_SentCount'] = 1.0*news_data['sentimentWordCount']/news_data['wordCount']\n",
    "    \n",
    "    return news_data"
   ]
  },
  {
   "cell_type": "code",
   "execution_count": 5,
   "metadata": {
    "scrolled": false
   },
   "outputs": [
    {
     "name": "stdout",
     "output_type": "stream",
     "text": [
      "Shape : (1000000, 36)\n",
      "Shape : (1000000, 36)\n",
      "Shape : (1000000, 36)\n",
      "Shape : (1000000, 36)\n",
      "Shape : (1000000, 36)\n",
      "Shape : (1000000, 36)\n",
      "Shape : (1000000, 36)\n",
      "Shape : (1000000, 36)\n",
      "Shape : (1000000, 36)\n",
      "Shape : (328749, 36)\n"
     ]
    }
   ],
   "source": [
    "df1 = pd.read_csv(\"../../DataSet/news_train1.csv\")\n",
    "df1 = process_news_data(df1)\n",
    "df2 = pd.read_csv(\"../../DataSet/news_train2.csv\")\n",
    "df2 = process_news_data(df2)\n",
    "df3 = pd.read_csv(\"../../DataSet/news_train3.csv\")\n",
    "df3 = process_news_data(df3)\n",
    "df4 = pd.read_csv(\"../../DataSet/news_train4.csv\")\n",
    "df4 = process_news_data(df4)\n",
    "df5 = pd.read_csv(\"../../DataSet/news_train5.csv\")\n",
    "df5 = process_news_data(df5)\n",
    "df6 = pd.read_csv(\"../../DataSet/news_train6.csv\")\n",
    "df6 = process_news_data(df6)\n",
    "df7 = pd.read_csv(\"../../DataSet/news_train7.csv\")\n",
    "df7 = process_news_data(df7)\n",
    "df8 = pd.read_csv(\"../../DataSet/news_train8.csv\")\n",
    "df8 = process_news_data(df8)\n",
    "df9 = pd.read_csv(\"../../DataSet/news_train9.csv\")\n",
    "df9 = process_news_data(df9)\n",
    "df10 = pd.read_csv(\"../../DataSet/news_train10.csv\")\n",
    "df10 = process_news_data(df10)\n",
    "news_data = pd.concat([df1,df2,df3,df4,df5,df6,df7,df8,df9,df10])\n",
    "del df1,df2,df3,df4,df5,df6,df7,df8,df9,df10\n",
    "# news_data = pd.concat([df1,df2,df3,df4])"
   ]
  },
  {
   "cell_type": "code",
   "execution_count": 6,
   "metadata": {},
   "outputs": [
    {
     "data": {
      "text/plain": [
       "(7003399, 37)"
      ]
     },
     "execution_count": 6,
     "metadata": {},
     "output_type": "execute_result"
    }
   ],
   "source": [
    "news_data.shape"
   ]
  },
  {
   "cell_type": "code",
   "execution_count": 7,
   "metadata": {
    "scrolled": true
   },
   "outputs": [
    {
     "data": {
      "text/plain": [
       "(6987566, 37)"
      ]
     },
     "execution_count": 7,
     "metadata": {},
     "output_type": "execute_result"
    }
   ],
   "source": [
    "news_data = news_data[pd.notnull(news_data['headline'])]\n",
    "news_data.shape"
   ]
  },
  {
   "cell_type": "code",
   "execution_count": 8,
   "metadata": {},
   "outputs": [
    {
     "data": {
      "text/plain": [
       "(6987562, 38)"
      ]
     },
     "execution_count": 8,
     "metadata": {},
     "output_type": "execute_result"
    }
   ],
   "source": [
    "## Removing late report of news\n",
    "news_data['news_delay'] = news_data['time'] - news_data['sourceTimestamp']\n",
    "news_data = news_data[news_data.news_delay < datetime.timedelta(days=1)]\n",
    "news_data['time'] = news_data['time'].dt.date\n",
    "news_data.shape"
   ]
  },
  {
   "cell_type": "markdown",
   "metadata": {},
   "source": [
    "# Analysis"
   ]
  },
  {
   "cell_type": "code",
   "execution_count": 9,
   "metadata": {},
   "outputs": [
    {
     "data": {
      "text/plain": [
       "7"
      ]
     },
     "execution_count": 9,
     "metadata": {},
     "output_type": "execute_result"
    }
   ],
   "source": [
    "news_columns = ['time','urgency', 'assetCodes', 'assetName', 'relevance', 'sentimentClass','rel_firstMention', \n",
    "                'firstMentionSentence', 'sentenceCount','rel_SentCount', 'sentimentWordCount', 'wordCount']\n",
    "news_data = news_data[news_columns]\n",
    "gc.collect()"
   ]
  },
  {
   "cell_type": "code",
   "execution_count": 10,
   "metadata": {},
   "outputs": [
    {
     "name": "stdout",
     "output_type": "stream",
     "text": [
      "Combination of days and assets : 1602799\n",
      "Total sentiment counts for these combinations : 2480771\n"
     ]
    }
   ],
   "source": [
    "tmp = news_data.groupby(['time', 'assetName'])['sentimentClass'].nunique()\n",
    "print(\"Combination of days and assets : {}\".format(tmp.count()))\n",
    "print(\"Total sentiment counts for these combinations : {}\".format(tmp.sum()))"
   ]
  },
  {
   "cell_type": "markdown",
   "metadata": {},
   "source": [
    "There are total 2480771 sentiment counts, spanning 1602799 combination of days and assets.\n",
    "Taking average will change the actual sentiment of the aggregated news.\n",
    "Need to find a way of weighted aggregating the news data."
   ]
  },
  {
   "cell_type": "markdown",
   "metadata": {},
   "source": [
    "# Preparing news data"
   ]
  },
  {
   "cell_type": "code",
   "execution_count": 11,
   "metadata": {},
   "outputs": [
    {
     "name": "stdout",
     "output_type": "stream",
     "text": [
      "Index(['time', 'urgency', 'assetCodes', 'assetName', 'relevance',\n",
      "       'sentimentClass', 'rel_firstMention', 'firstMentionSentence',\n",
      "       'sentenceCount', 'rel_SentCount', 'sentimentWordCount', 'wordCount'],\n",
      "      dtype='object')\n"
     ]
    },
    {
     "data": {
      "text/html": [
       "<div>\n",
       "<style scoped>\n",
       "    .dataframe tbody tr th:only-of-type {\n",
       "        vertical-align: middle;\n",
       "    }\n",
       "\n",
       "    .dataframe tbody tr th {\n",
       "        vertical-align: top;\n",
       "    }\n",
       "\n",
       "    .dataframe thead tr th {\n",
       "        text-align: left;\n",
       "    }\n",
       "\n",
       "    .dataframe thead tr:last-of-type th {\n",
       "        text-align: right;\n",
       "    }\n",
       "</style>\n",
       "<table border=\"1\" class=\"dataframe\">\n",
       "  <thead>\n",
       "    <tr>\n",
       "      <th></th>\n",
       "      <th colspan=\"8\" halign=\"left\">firstMentionSentence</th>\n",
       "      <th colspan=\"8\" halign=\"left\">rel_SentCount</th>\n",
       "      <th colspan=\"8\" halign=\"left\">rel_firstMention</th>\n",
       "      <th colspan=\"8\" halign=\"left\">relevance</th>\n",
       "      <th colspan=\"8\" halign=\"left\">sentenceCount</th>\n",
       "      <th colspan=\"8\" halign=\"left\">sentimentClass</th>\n",
       "      <th colspan=\"8\" halign=\"left\">sentimentWordCount</th>\n",
       "      <th colspan=\"8\" halign=\"left\">wordCount</th>\n",
       "    </tr>\n",
       "    <tr>\n",
       "      <th></th>\n",
       "      <th>count</th>\n",
       "      <th>mean</th>\n",
       "      <th>std</th>\n",
       "      <th>min</th>\n",
       "      <th>25%</th>\n",
       "      <th>50%</th>\n",
       "      <th>75%</th>\n",
       "      <th>max</th>\n",
       "      <th>count</th>\n",
       "      <th>mean</th>\n",
       "      <th>std</th>\n",
       "      <th>min</th>\n",
       "      <th>25%</th>\n",
       "      <th>50%</th>\n",
       "      <th>75%</th>\n",
       "      <th>max</th>\n",
       "      <th>count</th>\n",
       "      <th>mean</th>\n",
       "      <th>std</th>\n",
       "      <th>min</th>\n",
       "      <th>25%</th>\n",
       "      <th>50%</th>\n",
       "      <th>75%</th>\n",
       "      <th>max</th>\n",
       "      <th>count</th>\n",
       "      <th>mean</th>\n",
       "      <th>std</th>\n",
       "      <th>min</th>\n",
       "      <th>25%</th>\n",
       "      <th>50%</th>\n",
       "      <th>75%</th>\n",
       "      <th>max</th>\n",
       "      <th>count</th>\n",
       "      <th>mean</th>\n",
       "      <th>std</th>\n",
       "      <th>min</th>\n",
       "      <th>25%</th>\n",
       "      <th>50%</th>\n",
       "      <th>75%</th>\n",
       "      <th>max</th>\n",
       "      <th>count</th>\n",
       "      <th>mean</th>\n",
       "      <th>std</th>\n",
       "      <th>min</th>\n",
       "      <th>25%</th>\n",
       "      <th>50%</th>\n",
       "      <th>75%</th>\n",
       "      <th>max</th>\n",
       "      <th>count</th>\n",
       "      <th>mean</th>\n",
       "      <th>std</th>\n",
       "      <th>min</th>\n",
       "      <th>25%</th>\n",
       "      <th>50%</th>\n",
       "      <th>75%</th>\n",
       "      <th>max</th>\n",
       "      <th>count</th>\n",
       "      <th>mean</th>\n",
       "      <th>std</th>\n",
       "      <th>min</th>\n",
       "      <th>25%</th>\n",
       "      <th>50%</th>\n",
       "      <th>75%</th>\n",
       "      <th>max</th>\n",
       "    </tr>\n",
       "    <tr>\n",
       "      <th>urgency</th>\n",
       "      <th></th>\n",
       "      <th></th>\n",
       "      <th></th>\n",
       "      <th></th>\n",
       "      <th></th>\n",
       "      <th></th>\n",
       "      <th></th>\n",
       "      <th></th>\n",
       "      <th></th>\n",
       "      <th></th>\n",
       "      <th></th>\n",
       "      <th></th>\n",
       "      <th></th>\n",
       "      <th></th>\n",
       "      <th></th>\n",
       "      <th></th>\n",
       "      <th></th>\n",
       "      <th></th>\n",
       "      <th></th>\n",
       "      <th></th>\n",
       "      <th></th>\n",
       "      <th></th>\n",
       "      <th></th>\n",
       "      <th></th>\n",
       "      <th></th>\n",
       "      <th></th>\n",
       "      <th></th>\n",
       "      <th></th>\n",
       "      <th></th>\n",
       "      <th></th>\n",
       "      <th></th>\n",
       "      <th></th>\n",
       "      <th></th>\n",
       "      <th></th>\n",
       "      <th></th>\n",
       "      <th></th>\n",
       "      <th></th>\n",
       "      <th></th>\n",
       "      <th></th>\n",
       "      <th></th>\n",
       "      <th></th>\n",
       "      <th></th>\n",
       "      <th></th>\n",
       "      <th></th>\n",
       "      <th></th>\n",
       "      <th></th>\n",
       "      <th></th>\n",
       "      <th></th>\n",
       "      <th></th>\n",
       "      <th></th>\n",
       "      <th></th>\n",
       "      <th></th>\n",
       "      <th></th>\n",
       "      <th></th>\n",
       "      <th></th>\n",
       "      <th></th>\n",
       "      <th></th>\n",
       "      <th></th>\n",
       "      <th></th>\n",
       "      <th></th>\n",
       "      <th></th>\n",
       "      <th></th>\n",
       "      <th></th>\n",
       "      <th></th>\n",
       "    </tr>\n",
       "  </thead>\n",
       "  <tbody>\n",
       "    <tr>\n",
       "      <th>1</th>\n",
       "      <td>2547603.0</td>\n",
       "      <td>0.775600</td>\n",
       "      <td>0.417187</td>\n",
       "      <td>0.0</td>\n",
       "      <td>1.0</td>\n",
       "      <td>1.0</td>\n",
       "      <td>1.0</td>\n",
       "      <td>1.0</td>\n",
       "      <td>2547603.0</td>\n",
       "      <td>0.999350</td>\n",
       "      <td>0.017242</td>\n",
       "      <td>0.071429</td>\n",
       "      <td>1.000000</td>\n",
       "      <td>1.000000</td>\n",
       "      <td>1.000000</td>\n",
       "      <td>1.0</td>\n",
       "      <td>2547603.0</td>\n",
       "      <td>0.762665</td>\n",
       "      <td>0.418052</td>\n",
       "      <td>0.0</td>\n",
       "      <td>1.000000</td>\n",
       "      <td>1.000000</td>\n",
       "      <td>1.000000</td>\n",
       "      <td>1.000000</td>\n",
       "      <td>2547603.0</td>\n",
       "      <td>0.980980</td>\n",
       "      <td>0.076657</td>\n",
       "      <td>0.200000</td>\n",
       "      <td>1.000000</td>\n",
       "      <td>1.0</td>\n",
       "      <td>1.0</td>\n",
       "      <td>1.0</td>\n",
       "      <td>2547603.0</td>\n",
       "      <td>1.084559</td>\n",
       "      <td>0.288991</td>\n",
       "      <td>1.0</td>\n",
       "      <td>1.0</td>\n",
       "      <td>1.0</td>\n",
       "      <td>1.0</td>\n",
       "      <td>8.0</td>\n",
       "      <td>2547603.0</td>\n",
       "      <td>0.043532</td>\n",
       "      <td>0.740681</td>\n",
       "      <td>-1.0</td>\n",
       "      <td>-1.0</td>\n",
       "      <td>0.0</td>\n",
       "      <td>1.0</td>\n",
       "      <td>1.0</td>\n",
       "      <td>2547603.0</td>\n",
       "      <td>16.992980</td>\n",
       "      <td>5.785137</td>\n",
       "      <td>1.0</td>\n",
       "      <td>13.0</td>\n",
       "      <td>16.0</td>\n",
       "      <td>21.0</td>\n",
       "      <td>71.0</td>\n",
       "      <td>2547603.0</td>\n",
       "      <td>17.008057</td>\n",
       "      <td>5.793574</td>\n",
       "      <td>1.0</td>\n",
       "      <td>13.0</td>\n",
       "      <td>16.0</td>\n",
       "      <td>21.0</td>\n",
       "      <td>71.0</td>\n",
       "    </tr>\n",
       "    <tr>\n",
       "      <th>2</th>\n",
       "      <td>25.0</td>\n",
       "      <td>1.600000</td>\n",
       "      <td>2.449490</td>\n",
       "      <td>0.0</td>\n",
       "      <td>1.0</td>\n",
       "      <td>1.0</td>\n",
       "      <td>1.0</td>\n",
       "      <td>12.0</td>\n",
       "      <td>25.0</td>\n",
       "      <td>0.842614</td>\n",
       "      <td>0.198373</td>\n",
       "      <td>0.214612</td>\n",
       "      <td>0.781250</td>\n",
       "      <td>0.869565</td>\n",
       "      <td>1.000000</td>\n",
       "      <td>1.0</td>\n",
       "      <td>25.0</td>\n",
       "      <td>0.247311</td>\n",
       "      <td>0.213494</td>\n",
       "      <td>0.0</td>\n",
       "      <td>0.142857</td>\n",
       "      <td>0.200000</td>\n",
       "      <td>0.400000</td>\n",
       "      <td>0.666667</td>\n",
       "      <td>25.0</td>\n",
       "      <td>0.731033</td>\n",
       "      <td>0.348767</td>\n",
       "      <td>0.123091</td>\n",
       "      <td>0.316228</td>\n",
       "      <td>1.0</td>\n",
       "      <td>1.0</td>\n",
       "      <td>1.0</td>\n",
       "      <td>25.0</td>\n",
       "      <td>5.800000</td>\n",
       "      <td>3.109126</td>\n",
       "      <td>2.0</td>\n",
       "      <td>4.0</td>\n",
       "      <td>5.0</td>\n",
       "      <td>6.0</td>\n",
       "      <td>19.0</td>\n",
       "      <td>25.0</td>\n",
       "      <td>0.480000</td>\n",
       "      <td>0.822598</td>\n",
       "      <td>-1.0</td>\n",
       "      <td>0.0</td>\n",
       "      <td>1.0</td>\n",
       "      <td>1.0</td>\n",
       "      <td>1.0</td>\n",
       "      <td>25.0</td>\n",
       "      <td>136.720000</td>\n",
       "      <td>74.778852</td>\n",
       "      <td>47.0</td>\n",
       "      <td>91.0</td>\n",
       "      <td>105.0</td>\n",
       "      <td>163.0</td>\n",
       "      <td>302.0</td>\n",
       "      <td>25.0</td>\n",
       "      <td>167.120000</td>\n",
       "      <td>91.954391</td>\n",
       "      <td>75.0</td>\n",
       "      <td>115.0</td>\n",
       "      <td>136.0</td>\n",
       "      <td>180.0</td>\n",
       "      <td>477.0</td>\n",
       "    </tr>\n",
       "    <tr>\n",
       "      <th>3</th>\n",
       "      <td>4439934.0</td>\n",
       "      <td>7.509035</td>\n",
       "      <td>16.082603</td>\n",
       "      <td>0.0</td>\n",
       "      <td>1.0</td>\n",
       "      <td>1.0</td>\n",
       "      <td>7.0</td>\n",
       "      <td>989.0</td>\n",
       "      <td>4439934.0</td>\n",
       "      <td>0.540777</td>\n",
       "      <td>0.372102</td>\n",
       "      <td>0.000667</td>\n",
       "      <td>0.148387</td>\n",
       "      <td>0.562269</td>\n",
       "      <td>0.935728</td>\n",
       "      <td>1.0</td>\n",
       "      <td>4439934.0</td>\n",
       "      <td>0.217514</td>\n",
       "      <td>0.261948</td>\n",
       "      <td>0.0</td>\n",
       "      <td>0.027778</td>\n",
       "      <td>0.090909</td>\n",
       "      <td>0.333333</td>\n",
       "      <td>1.000000</td>\n",
       "      <td>4439934.0</td>\n",
       "      <td>0.633924</td>\n",
       "      <td>0.411307</td>\n",
       "      <td>0.002409</td>\n",
       "      <td>0.174078</td>\n",
       "      <td>1.0</td>\n",
       "      <td>1.0</td>\n",
       "      <td>1.0</td>\n",
       "      <td>4439934.0</td>\n",
       "      <td>35.562190</td>\n",
       "      <td>42.933997</td>\n",
       "      <td>1.0</td>\n",
       "      <td>10.0</td>\n",
       "      <td>24.0</td>\n",
       "      <td>43.0</td>\n",
       "      <td>1205.0</td>\n",
       "      <td>4439934.0</td>\n",
       "      <td>0.130331</td>\n",
       "      <td>0.873516</td>\n",
       "      <td>-1.0</td>\n",
       "      <td>-1.0</td>\n",
       "      <td>0.0</td>\n",
       "      <td>1.0</td>\n",
       "      <td>1.0</td>\n",
       "      <td>4439934.0</td>\n",
       "      <td>322.322732</td>\n",
       "      <td>449.252874</td>\n",
       "      <td>2.0</td>\n",
       "      <td>86.0</td>\n",
       "      <td>163.0</td>\n",
       "      <td>389.0</td>\n",
       "      <td>13087.0</td>\n",
       "      <td>4439934.0</td>\n",
       "      <td>937.925816</td>\n",
       "      <td>1146.343967</td>\n",
       "      <td>2.0</td>\n",
       "      <td>263.0</td>\n",
       "      <td>615.0</td>\n",
       "      <td>1116.0</td>\n",
       "      <td>20263.0</td>\n",
       "    </tr>\n",
       "  </tbody>\n",
       "</table>\n",
       "</div>"
      ],
      "text/plain": [
       "        firstMentionSentence                                                  \\\n",
       "                       count      mean        std  min  25%  50%  75%    max   \n",
       "urgency                                                                        \n",
       "1                  2547603.0  0.775600   0.417187  0.0  1.0  1.0  1.0    1.0   \n",
       "2                       25.0  1.600000   2.449490  0.0  1.0  1.0  1.0   12.0   \n",
       "3                  4439934.0  7.509035  16.082603  0.0  1.0  1.0  7.0  989.0   \n",
       "\n",
       "        rel_SentCount                                                    \\\n",
       "                count      mean       std       min       25%       50%   \n",
       "urgency                                                                   \n",
       "1           2547603.0  0.999350  0.017242  0.071429  1.000000  1.000000   \n",
       "2                25.0  0.842614  0.198373  0.214612  0.781250  0.869565   \n",
       "3           4439934.0  0.540777  0.372102  0.000667  0.148387  0.562269   \n",
       "\n",
       "                       rel_firstMention                                     \\\n",
       "              75%  max            count      mean       std  min       25%   \n",
       "urgency                                                                      \n",
       "1        1.000000  1.0        2547603.0  0.762665  0.418052  0.0  1.000000   \n",
       "2        1.000000  1.0             25.0  0.247311  0.213494  0.0  0.142857   \n",
       "3        0.935728  1.0        4439934.0  0.217514  0.261948  0.0  0.027778   \n",
       "\n",
       "                                       relevance                      \\\n",
       "              50%       75%       max      count      mean       std   \n",
       "urgency                                                                \n",
       "1        1.000000  1.000000  1.000000  2547603.0  0.980980  0.076657   \n",
       "2        0.200000  0.400000  0.666667       25.0  0.731033  0.348767   \n",
       "3        0.090909  0.333333  1.000000  4439934.0  0.633924  0.411307   \n",
       "\n",
       "                                           sentenceCount             \\\n",
       "              min       25%  50%  75%  max         count       mean   \n",
       "urgency                                                               \n",
       "1        0.200000  1.000000  1.0  1.0  1.0     2547603.0   1.084559   \n",
       "2        0.123091  0.316228  1.0  1.0  1.0          25.0   5.800000   \n",
       "3        0.002409  0.174078  1.0  1.0  1.0     4439934.0  35.562190   \n",
       "\n",
       "                                                  sentimentClass            \\\n",
       "               std  min   25%   50%   75%     max          count      mean   \n",
       "urgency                                                                      \n",
       "1         0.288991  1.0   1.0   1.0   1.0     8.0      2547603.0  0.043532   \n",
       "2         3.109126  2.0   4.0   5.0   6.0    19.0           25.0  0.480000   \n",
       "3        42.933997  1.0  10.0  24.0  43.0  1205.0      4439934.0  0.130331   \n",
       "\n",
       "                                           sentimentWordCount              \\\n",
       "              std  min  25%  50%  75%  max              count        mean   \n",
       "urgency                                                                     \n",
       "1        0.740681 -1.0 -1.0  0.0  1.0  1.0          2547603.0   16.992980   \n",
       "2        0.822598 -1.0  0.0  1.0  1.0  1.0               25.0  136.720000   \n",
       "3        0.873516 -1.0 -1.0  0.0  1.0  1.0          4439934.0  322.322732   \n",
       "\n",
       "                                                        wordCount              \\\n",
       "                std   min   25%    50%    75%      max      count        mean   \n",
       "urgency                                                                         \n",
       "1          5.785137   1.0  13.0   16.0   21.0     71.0  2547603.0   17.008057   \n",
       "2         74.778852  47.0  91.0  105.0  163.0    302.0       25.0  167.120000   \n",
       "3        449.252874   2.0  86.0  163.0  389.0  13087.0  4439934.0  937.925816   \n",
       "\n",
       "                                                           \n",
       "                 std   min    25%    50%     75%      max  \n",
       "urgency                                                    \n",
       "1           5.793574   1.0   13.0   16.0    21.0     71.0  \n",
       "2          91.954391  75.0  115.0  136.0   180.0    477.0  \n",
       "3        1146.343967   2.0  263.0  615.0  1116.0  20263.0  "
      ]
     },
     "execution_count": 11,
     "metadata": {},
     "output_type": "execute_result"
    }
   ],
   "source": [
    "print(news_data.columns)\n",
    "news_data.groupby('urgency').describe()"
   ]
  },
  {
   "cell_type": "code",
   "execution_count": 12,
   "metadata": {},
   "outputs": [
    {
     "data": {
      "text/html": [
       "<div>\n",
       "<style scoped>\n",
       "    .dataframe tbody tr th:only-of-type {\n",
       "        vertical-align: middle;\n",
       "    }\n",
       "\n",
       "    .dataframe tbody tr th {\n",
       "        vertical-align: top;\n",
       "    }\n",
       "\n",
       "    .dataframe thead tr th {\n",
       "        text-align: left;\n",
       "    }\n",
       "\n",
       "    .dataframe thead tr:last-of-type th {\n",
       "        text-align: right;\n",
       "    }\n",
       "</style>\n",
       "<table border=\"1\" class=\"dataframe\">\n",
       "  <thead>\n",
       "    <tr>\n",
       "      <th></th>\n",
       "      <th colspan=\"8\" halign=\"left\">firstMentionSentence</th>\n",
       "      <th colspan=\"8\" halign=\"left\">rel_SentCount</th>\n",
       "      <th colspan=\"8\" halign=\"left\">rel_firstMention</th>\n",
       "      <th colspan=\"8\" halign=\"left\">relevance</th>\n",
       "      <th colspan=\"8\" halign=\"left\">sentenceCount</th>\n",
       "      <th colspan=\"8\" halign=\"left\">sentimentClass</th>\n",
       "      <th colspan=\"8\" halign=\"left\">sentimentWordCount</th>\n",
       "      <th colspan=\"8\" halign=\"left\">wordCount</th>\n",
       "    </tr>\n",
       "    <tr>\n",
       "      <th></th>\n",
       "      <th>count</th>\n",
       "      <th>mean</th>\n",
       "      <th>std</th>\n",
       "      <th>min</th>\n",
       "      <th>25%</th>\n",
       "      <th>50%</th>\n",
       "      <th>75%</th>\n",
       "      <th>max</th>\n",
       "      <th>count</th>\n",
       "      <th>mean</th>\n",
       "      <th>std</th>\n",
       "      <th>min</th>\n",
       "      <th>25%</th>\n",
       "      <th>50%</th>\n",
       "      <th>75%</th>\n",
       "      <th>max</th>\n",
       "      <th>count</th>\n",
       "      <th>mean</th>\n",
       "      <th>std</th>\n",
       "      <th>min</th>\n",
       "      <th>25%</th>\n",
       "      <th>50%</th>\n",
       "      <th>75%</th>\n",
       "      <th>max</th>\n",
       "      <th>count</th>\n",
       "      <th>mean</th>\n",
       "      <th>std</th>\n",
       "      <th>min</th>\n",
       "      <th>25%</th>\n",
       "      <th>50%</th>\n",
       "      <th>75%</th>\n",
       "      <th>max</th>\n",
       "      <th>count</th>\n",
       "      <th>mean</th>\n",
       "      <th>std</th>\n",
       "      <th>min</th>\n",
       "      <th>25%</th>\n",
       "      <th>50%</th>\n",
       "      <th>75%</th>\n",
       "      <th>max</th>\n",
       "      <th>count</th>\n",
       "      <th>mean</th>\n",
       "      <th>std</th>\n",
       "      <th>min</th>\n",
       "      <th>25%</th>\n",
       "      <th>50%</th>\n",
       "      <th>75%</th>\n",
       "      <th>max</th>\n",
       "      <th>count</th>\n",
       "      <th>mean</th>\n",
       "      <th>std</th>\n",
       "      <th>min</th>\n",
       "      <th>25%</th>\n",
       "      <th>50%</th>\n",
       "      <th>75%</th>\n",
       "      <th>max</th>\n",
       "      <th>count</th>\n",
       "      <th>mean</th>\n",
       "      <th>std</th>\n",
       "      <th>min</th>\n",
       "      <th>25%</th>\n",
       "      <th>50%</th>\n",
       "      <th>75%</th>\n",
       "      <th>max</th>\n",
       "    </tr>\n",
       "    <tr>\n",
       "      <th>urgency</th>\n",
       "      <th></th>\n",
       "      <th></th>\n",
       "      <th></th>\n",
       "      <th></th>\n",
       "      <th></th>\n",
       "      <th></th>\n",
       "      <th></th>\n",
       "      <th></th>\n",
       "      <th></th>\n",
       "      <th></th>\n",
       "      <th></th>\n",
       "      <th></th>\n",
       "      <th></th>\n",
       "      <th></th>\n",
       "      <th></th>\n",
       "      <th></th>\n",
       "      <th></th>\n",
       "      <th></th>\n",
       "      <th></th>\n",
       "      <th></th>\n",
       "      <th></th>\n",
       "      <th></th>\n",
       "      <th></th>\n",
       "      <th></th>\n",
       "      <th></th>\n",
       "      <th></th>\n",
       "      <th></th>\n",
       "      <th></th>\n",
       "      <th></th>\n",
       "      <th></th>\n",
       "      <th></th>\n",
       "      <th></th>\n",
       "      <th></th>\n",
       "      <th></th>\n",
       "      <th></th>\n",
       "      <th></th>\n",
       "      <th></th>\n",
       "      <th></th>\n",
       "      <th></th>\n",
       "      <th></th>\n",
       "      <th></th>\n",
       "      <th></th>\n",
       "      <th></th>\n",
       "      <th></th>\n",
       "      <th></th>\n",
       "      <th></th>\n",
       "      <th></th>\n",
       "      <th></th>\n",
       "      <th></th>\n",
       "      <th></th>\n",
       "      <th></th>\n",
       "      <th></th>\n",
       "      <th></th>\n",
       "      <th></th>\n",
       "      <th></th>\n",
       "      <th></th>\n",
       "      <th></th>\n",
       "      <th></th>\n",
       "      <th></th>\n",
       "      <th></th>\n",
       "      <th></th>\n",
       "      <th></th>\n",
       "      <th></th>\n",
       "      <th></th>\n",
       "    </tr>\n",
       "  </thead>\n",
       "  <tbody>\n",
       "    <tr>\n",
       "      <th>1</th>\n",
       "      <td>2547603.0</td>\n",
       "      <td>0.775600</td>\n",
       "      <td>0.417187</td>\n",
       "      <td>0.0</td>\n",
       "      <td>1.0</td>\n",
       "      <td>1.0</td>\n",
       "      <td>1.0</td>\n",
       "      <td>1.0</td>\n",
       "      <td>2547603.0</td>\n",
       "      <td>0.999350</td>\n",
       "      <td>0.017242</td>\n",
       "      <td>0.071429</td>\n",
       "      <td>1.000000</td>\n",
       "      <td>1.000000</td>\n",
       "      <td>1.000000</td>\n",
       "      <td>1.0</td>\n",
       "      <td>2547603.0</td>\n",
       "      <td>0.762665</td>\n",
       "      <td>0.418052</td>\n",
       "      <td>0.0</td>\n",
       "      <td>1.000000</td>\n",
       "      <td>1.000000</td>\n",
       "      <td>1.000000</td>\n",
       "      <td>1.0</td>\n",
       "      <td>2547603.0</td>\n",
       "      <td>0.980980</td>\n",
       "      <td>0.076657</td>\n",
       "      <td>0.200000</td>\n",
       "      <td>1.000000</td>\n",
       "      <td>1.0</td>\n",
       "      <td>1.0</td>\n",
       "      <td>1.0</td>\n",
       "      <td>2547603.0</td>\n",
       "      <td>1.084559</td>\n",
       "      <td>0.288991</td>\n",
       "      <td>1.0</td>\n",
       "      <td>1.0</td>\n",
       "      <td>1.0</td>\n",
       "      <td>1.0</td>\n",
       "      <td>8.0</td>\n",
       "      <td>2547603.0</td>\n",
       "      <td>0.043532</td>\n",
       "      <td>0.740681</td>\n",
       "      <td>-1.0</td>\n",
       "      <td>-1.0</td>\n",
       "      <td>0.0</td>\n",
       "      <td>1.0</td>\n",
       "      <td>1.0</td>\n",
       "      <td>2547603.0</td>\n",
       "      <td>16.992980</td>\n",
       "      <td>5.785137</td>\n",
       "      <td>1.0</td>\n",
       "      <td>13.0</td>\n",
       "      <td>16.0</td>\n",
       "      <td>21.0</td>\n",
       "      <td>71.0</td>\n",
       "      <td>2547603.0</td>\n",
       "      <td>17.008057</td>\n",
       "      <td>5.793574</td>\n",
       "      <td>1.0</td>\n",
       "      <td>13.0</td>\n",
       "      <td>16.0</td>\n",
       "      <td>21.0</td>\n",
       "      <td>71.0</td>\n",
       "    </tr>\n",
       "    <tr>\n",
       "      <th>3</th>\n",
       "      <td>4439934.0</td>\n",
       "      <td>7.509035</td>\n",
       "      <td>16.082603</td>\n",
       "      <td>0.0</td>\n",
       "      <td>1.0</td>\n",
       "      <td>1.0</td>\n",
       "      <td>7.0</td>\n",
       "      <td>989.0</td>\n",
       "      <td>4439934.0</td>\n",
       "      <td>0.540777</td>\n",
       "      <td>0.372102</td>\n",
       "      <td>0.000667</td>\n",
       "      <td>0.148387</td>\n",
       "      <td>0.562269</td>\n",
       "      <td>0.935728</td>\n",
       "      <td>1.0</td>\n",
       "      <td>4439934.0</td>\n",
       "      <td>0.217514</td>\n",
       "      <td>0.261948</td>\n",
       "      <td>0.0</td>\n",
       "      <td>0.027778</td>\n",
       "      <td>0.090909</td>\n",
       "      <td>0.333333</td>\n",
       "      <td>1.0</td>\n",
       "      <td>4439934.0</td>\n",
       "      <td>0.633924</td>\n",
       "      <td>0.411307</td>\n",
       "      <td>0.002409</td>\n",
       "      <td>0.174078</td>\n",
       "      <td>1.0</td>\n",
       "      <td>1.0</td>\n",
       "      <td>1.0</td>\n",
       "      <td>4439934.0</td>\n",
       "      <td>35.562190</td>\n",
       "      <td>42.933997</td>\n",
       "      <td>1.0</td>\n",
       "      <td>10.0</td>\n",
       "      <td>24.0</td>\n",
       "      <td>43.0</td>\n",
       "      <td>1205.0</td>\n",
       "      <td>4439934.0</td>\n",
       "      <td>0.130331</td>\n",
       "      <td>0.873516</td>\n",
       "      <td>-1.0</td>\n",
       "      <td>-1.0</td>\n",
       "      <td>0.0</td>\n",
       "      <td>1.0</td>\n",
       "      <td>1.0</td>\n",
       "      <td>4439934.0</td>\n",
       "      <td>322.322732</td>\n",
       "      <td>449.252874</td>\n",
       "      <td>2.0</td>\n",
       "      <td>86.0</td>\n",
       "      <td>163.0</td>\n",
       "      <td>389.0</td>\n",
       "      <td>13087.0</td>\n",
       "      <td>4439934.0</td>\n",
       "      <td>937.925816</td>\n",
       "      <td>1146.343967</td>\n",
       "      <td>2.0</td>\n",
       "      <td>263.0</td>\n",
       "      <td>615.0</td>\n",
       "      <td>1116.0</td>\n",
       "      <td>20263.0</td>\n",
       "    </tr>\n",
       "  </tbody>\n",
       "</table>\n",
       "</div>"
      ],
      "text/plain": [
       "        firstMentionSentence                                                  \\\n",
       "                       count      mean        std  min  25%  50%  75%    max   \n",
       "urgency                                                                        \n",
       "1                  2547603.0  0.775600   0.417187  0.0  1.0  1.0  1.0    1.0   \n",
       "3                  4439934.0  7.509035  16.082603  0.0  1.0  1.0  7.0  989.0   \n",
       "\n",
       "        rel_SentCount                                                    \\\n",
       "                count      mean       std       min       25%       50%   \n",
       "urgency                                                                   \n",
       "1           2547603.0  0.999350  0.017242  0.071429  1.000000  1.000000   \n",
       "3           4439934.0  0.540777  0.372102  0.000667  0.148387  0.562269   \n",
       "\n",
       "                       rel_firstMention                                     \\\n",
       "              75%  max            count      mean       std  min       25%   \n",
       "urgency                                                                      \n",
       "1        1.000000  1.0        2547603.0  0.762665  0.418052  0.0  1.000000   \n",
       "3        0.935728  1.0        4439934.0  0.217514  0.261948  0.0  0.027778   \n",
       "\n",
       "                                  relevance                                \\\n",
       "              50%       75%  max      count      mean       std       min   \n",
       "urgency                                                                     \n",
       "1        1.000000  1.000000  1.0  2547603.0  0.980980  0.076657  0.200000   \n",
       "3        0.090909  0.333333  1.0  4439934.0  0.633924  0.411307  0.002409   \n",
       "\n",
       "                                 sentenceCount                             \\\n",
       "              25%  50%  75%  max         count       mean        std  min   \n",
       "urgency                                                                     \n",
       "1        1.000000  1.0  1.0  1.0     2547603.0   1.084559   0.288991  1.0   \n",
       "3        0.174078  1.0  1.0  1.0     4439934.0  35.562190  42.933997  1.0   \n",
       "\n",
       "                                  sentimentClass                           \\\n",
       "          25%   50%   75%     max          count      mean       std  min   \n",
       "urgency                                                                     \n",
       "1         1.0   1.0   1.0     8.0      2547603.0  0.043532  0.740681 -1.0   \n",
       "3        10.0  24.0  43.0  1205.0      4439934.0  0.130331  0.873516 -1.0   \n",
       "\n",
       "                            sentimentWordCount                               \\\n",
       "         25%  50%  75%  max              count        mean         std  min   \n",
       "urgency                                                                       \n",
       "1       -1.0  0.0  1.0  1.0          2547603.0   16.992980    5.785137  1.0   \n",
       "3       -1.0  0.0  1.0  1.0          4439934.0  322.322732  449.252874  2.0   \n",
       "\n",
       "                                      wordCount                                \\\n",
       "          25%    50%    75%      max      count        mean          std  min   \n",
       "urgency                                                                         \n",
       "1        13.0   16.0   21.0     71.0  2547603.0   17.008057     5.793574  1.0   \n",
       "3        86.0  163.0  389.0  13087.0  4439934.0  937.925816  1146.343967  2.0   \n",
       "\n",
       "                                        \n",
       "           25%    50%     75%      max  \n",
       "urgency                                 \n",
       "1         13.0   16.0    21.0     71.0  \n",
       "3        263.0  615.0  1116.0  20263.0  "
      ]
     },
     "execution_count": 12,
     "metadata": {},
     "output_type": "execute_result"
    }
   ],
   "source": [
    "news_data = news_data[(news_data['urgency'] != 2)]\n",
    "news_data.groupby('urgency').describe()"
   ]
  },
  {
   "cell_type": "code",
   "execution_count": 13,
   "metadata": {},
   "outputs": [
    {
     "name": "stdout",
     "output_type": "stream",
     "text": [
      "Unique Sentiment Values : [ 1  0 -1]\n",
      "Unique Urgency Values:  [1 3]\n",
      "News data Shape : (6987537, 45)\n"
     ]
    }
   ],
   "source": [
    "range_sent = news_data['sentimentClass'].unique()\n",
    "range_urg = news_data['urgency'].unique()\n",
    "print(\"Unique Sentiment Values : {}\".format(range_sent))\n",
    "print(\"Unique Urgency Values:  {}\".format(range_urg))\n",
    "\n",
    "columns = ['rel_firstMention', 'rel_SentCount', 'relevance', 'firstMentionSentence', \n",
    "           'sentenceCount', 'sentimentWordCount', 'wordCount']\n",
    "for i in range_sent:\n",
    "    for j in range_urg:\n",
    "        for col in columns:\n",
    "            new_col = col + \"_\" + str(j) + '_' + str(i)\n",
    "            news_data[new_col] = 0.0\n",
    "            news_data.loc[((news_data['sentimentClass'] == i)  & (news_data['urgency'] == j)),new_col] = \\\n",
    "                news_data.loc[((news_data['sentimentClass'] == i)  & (news_data['urgency'] == j)),col]\n",
    "news_data.drop(labels=columns + ['urgency','sentimentClass'], axis=1, inplace=True)\n",
    "gc.collect()\n",
    "print(\"News data Shape : {}\".format(news_data.shape))\n",
    "\n",
    "# Removed 'columns'\n",
    "# "
   ]
  },
  {
   "cell_type": "code",
   "execution_count": 197,
   "metadata": {},
   "outputs": [
    {
     "data": {
      "text/plain": [
       "Index(['time', 'assetCodes', 'assetName', 'rel_firstMention_1_1',\n",
       "       'rel_SentCount_1_1', 'relevance_1_1', 'firstMentionSentence_1_1',\n",
       "       'sentenceCount_1_1', 'sentimentWordCount_1_1', 'wordCount_1_1',\n",
       "       'rel_firstMention_3_1', 'rel_SentCount_3_1', 'relevance_3_1',\n",
       "       'firstMentionSentence_3_1', 'sentenceCount_3_1',\n",
       "       'sentimentWordCount_3_1', 'wordCount_3_1', 'rel_firstMention_1_0',\n",
       "       'rel_SentCount_1_0', 'relevance_1_0', 'firstMentionSentence_1_0',\n",
       "       'sentenceCount_1_0', 'sentimentWordCount_1_0', 'wordCount_1_0',\n",
       "       'rel_firstMention_3_0', 'rel_SentCount_3_0', 'relevance_3_0',\n",
       "       'firstMentionSentence_3_0', 'sentenceCount_3_0',\n",
       "       'sentimentWordCount_3_0', 'wordCount_3_0', 'rel_firstMention_1_-1',\n",
       "       'rel_SentCount_1_-1', 'relevance_1_-1', 'firstMentionSentence_1_-1',\n",
       "       'sentenceCount_1_-1', 'sentimentWordCount_1_-1', 'wordCount_1_-1',\n",
       "       'rel_firstMention_3_-1', 'rel_SentCount_3_-1', 'relevance_3_-1',\n",
       "       'firstMentionSentence_3_-1', 'sentenceCount_3_-1',\n",
       "       'sentimentWordCount_3_-1', 'wordCount_3_-1'],\n",
       "      dtype='object')"
      ]
     },
     "execution_count": 197,
     "metadata": {},
     "output_type": "execute_result"
    }
   ],
   "source": [
    "news_data.columns"
   ]
  },
  {
   "cell_type": "markdown",
   "metadata": {},
   "source": [
    "### Preprocess Market Data "
   ]
  },
  {
   "cell_type": "code",
   "execution_count": 14,
   "metadata": {},
   "outputs": [],
   "source": [
    "df1 = pd.read_csv(\"../../DataSet/market_train1.csv\")\n",
    "df2 = pd.read_csv(\"../../DataSet/market_train2.csv\")\n",
    "df3 = pd.read_csv(\"../../DataSet/market_train3.csv\")\n",
    "df4 = pd.read_csv(\"../../DataSet/market_train4.csv\")\n",
    "df5 = pd.read_csv(\"../../DataSet/market_train5.csv\")\n",
    "market_data = pd.concat([df1,df2,df3,df4,df5])\n",
    "del df1,df2,df3,df4,df5"
   ]
  },
  {
   "cell_type": "code",
   "execution_count": 15,
   "metadata": {},
   "outputs": [
    {
     "data": {
      "text/plain": [
       "0"
      ]
     },
     "execution_count": 15,
     "metadata": {},
     "output_type": "execute_result"
    }
   ],
   "source": [
    "gc.collect()"
   ]
  },
  {
   "cell_type": "code",
   "execution_count": 16,
   "metadata": {},
   "outputs": [
    {
     "name": "stdout",
     "output_type": "stream",
     "text": [
      "Min timestamp : 2007-02-01 22:00:00, Max timestamp : 2016-12-30 22:00:00, Market data shape : (4072955, 25)\n",
      "Shape of market data after time filtering : (2946738, 25)\n"
     ]
    }
   ],
   "source": [
    "market_data = market_data.drop(market_data.columns[0], axis=1)\n",
    "market_data['time'] = pd.to_datetime(market_data['time'])\n",
    "market_data['assetName'] = market_data['assetName'].astype('category')\n",
    "market_data.sort_values(['assetCode', 'time'], inplace=True)\n",
    "market_data['returnsOpenNextMktres1'] = market_data.groupby('assetCode')['returnsOpenNextMktres10'].shift(9)\n",
    "market_data['returnsOpenNextMktres2'] = market_data.groupby('assetCode')['returnsOpenNextMktres10'].shift(8)\n",
    "market_data['returnsOpenNextMktres3'] = market_data.groupby('assetCode')['returnsOpenNextMktres10'].shift(7)\n",
    "market_data['returnsOpenNextMktres4'] = market_data.groupby('assetCode')['returnsOpenNextMktres10'].shift(6)\n",
    "market_data['returnsOpenNextMktres5'] = market_data.groupby('assetCode')['returnsOpenNextMktres10'].shift(5)\n",
    "market_data['returnsOpenNextMktres6'] = market_data.groupby('assetCode')['returnsOpenNextMktres10'].shift(4)\n",
    "market_data['returnsOpenNextMktres7'] = market_data.groupby('assetCode')['returnsOpenNextMktres10'].shift(3)\n",
    "market_data['returnsOpenNextMktres8'] = market_data.groupby('assetCode')['returnsOpenNextMktres10'].shift(2)\n",
    "market_data['returnsOpenNextMktres9'] = market_data.groupby('assetCode')['returnsOpenNextMktres10'].shift(1)\n",
    "\n",
    "print(\"Min timestamp : {}, Max timestamp : {}, Market data shape : {}\".format(market_data['time'].min(), \n",
    "                                                                              market_data['time'].max(),\n",
    "                                                                              market_data.shape))\n",
    "market_data = market_data[market_data['time'].dt.year > 2009]\n",
    "print(\"Shape of market data after time filtering : {}\".format(market_data.shape))"
   ]
  },
  {
   "cell_type": "code",
   "execution_count": 16,
   "metadata": {},
   "outputs": [],
   "source": [
    "# Rough Triage\n",
    "#market_data[market_data.isnull().any(axis=1)]\n",
    "#market_data['time'] = market_data.time.dt.date\n",
    "\n",
    "#mm1 = market_data.copy()\n",
    "#mm1['prevopen'] = mm1.groupby(['assetCode'])['open'].shift(0)\n",
    "# market_data.describe()\n",
    "# market_data[market_data.isnull().any(axis=1)].shape\n",
    "# market_data[(market_data['returnsOpenPrevMktres1'].isnull()) & ~(market_data['returnsOpenPrevRaw1'].isnull())].shape\n",
    "# market_data[(market_data['returnsOpenPrevMktres1'].isnull()) & ~(market_data['returns'].isnull())].shape\n",
    "# market_data.columns"
   ]
  },
  {
   "cell_type": "markdown",
   "metadata": {},
   "source": [
    "## Merging Dataframes"
   ]
  },
  {
   "cell_type": "code",
   "execution_count": 17,
   "metadata": {},
   "outputs": [],
   "source": [
    "def data_prep(market_df,news_df):\n",
    "    market_df['time'] = market_df.time.dt.date\n",
    "    #market_df['returnsOpenPrevRaw1_to_volume'] = market_df['returnsOpenPrevRaw1'] / market_df['volume']\n",
    "    #market_df['close_to_open'] = market_df['close'] / market_df['open']\n",
    "    #market_df['volume_to_mean'] = market_df['volume'] / market_df['volume'].mean()\n",
    "    \n",
    "    #news_df['time'] = news_df.time.dt.hour\n",
    "    #news_df['sourceTimestamp']= news_df.sourceTimestamp.dt.hour\n",
    "    #news_df['firstCreated'] = news_df.firstCreated.dt.date\n",
    "    #news_df['headlineLen'] = news_df['headline'].apply(lambda x: len(x))\n",
    "    #news_df['asset_sentiment_count'] = news_df.groupby(['assetName', 'sentimentClass'])['time'].transform('count')\n",
    "    #news_df['asset_sentence_mean'] = news_df.groupby(['assetName', 'sentenceCount'])['time'].transform('mean')\n",
    "    \n",
    "    #news_df['assetCodesLen'] = news_df['assetCodes'].map(lambda x: len(eval(x)))\n",
    "    news_df['assetCodes'] = news_df['assetCodes'].map(lambda x: list(eval(x))[0])\n",
    "\n",
    "    #news_df['assetCodesLen'] = news_df['assetCodes'].apply(lambda x: len(x))\n",
    "    \n",
    "    \n",
    "    #lbl = {k: v for v, k in enumerate(news_df['headlineTag'].unique())}\n",
    "    #news_df['headlineTagT'] = news_df['headlineTag'].map(lbl)\n",
    "    kcol = ['time', 'assetCodes']\n",
    "    news_df = news_df.groupby(kcol, as_index=False).mean()\n",
    "\n",
    "    market_df = pd.merge(market_df, news_df, how='left', left_on=['time', 'assetCode'], \n",
    "                            right_on=['time', 'assetCodes'])\n",
    "\n",
    "    lbl = {k: v for v, k in enumerate(market_df['assetCode'].unique())}\n",
    "    market_df['assetCodeT'] = market_df['assetCode'].map(lbl)\n",
    "    \n",
    "    market_df = market_df.dropna(axis=0)\n",
    "    \n",
    "    return market_df\n"
   ]
  },
  {
   "cell_type": "code",
   "execution_count": 18,
   "metadata": {},
   "outputs": [],
   "source": [
    "market_news = data_prep(market_data, news_data)"
   ]
  },
  {
   "cell_type": "code",
   "execution_count": 19,
   "metadata": {},
   "outputs": [
    {
     "data": {
      "text/plain": [
       "(620006, 73)"
      ]
     },
     "execution_count": 19,
     "metadata": {},
     "output_type": "execute_result"
    }
   ],
   "source": [
    "market_news['datetime'] = pd.to_datetime(market_news['time'])\n",
    "market_news['avgprice'] = (market_news['close'] + market_news['open'])/2.0\n",
    "market_news['returnsOpenPrevMktres1_dir'] = market_news['returnsOpenPrevMktres1'].apply(lambda x: 0 if x<0 else 1)\n",
    "market_news['returnsOpenPrevMktres10_dir'] = market_news['returnsOpenPrevMktres10'].apply(lambda x: 0 if x<0 else 1)\n",
    "market_news.shape"
   ]
  },
  {
   "cell_type": "code",
   "execution_count": 20,
   "metadata": {},
   "outputs": [
    {
     "data": {
      "text/html": [
       "<div>\n",
       "<style scoped>\n",
       "    .dataframe tbody tr th:only-of-type {\n",
       "        vertical-align: middle;\n",
       "    }\n",
       "\n",
       "    .dataframe tbody tr th {\n",
       "        vertical-align: top;\n",
       "    }\n",
       "\n",
       "    .dataframe thead th {\n",
       "        text-align: right;\n",
       "    }\n",
       "</style>\n",
       "<table border=\"1\" class=\"dataframe\">\n",
       "  <thead>\n",
       "    <tr style=\"text-align: right;\">\n",
       "      <th></th>\n",
       "      <th>time</th>\n",
       "      <th>assetCode</th>\n",
       "      <th>assetName</th>\n",
       "      <th>volume</th>\n",
       "      <th>close</th>\n",
       "      <th>open</th>\n",
       "      <th>returnsClosePrevRaw1</th>\n",
       "      <th>returnsOpenPrevRaw1</th>\n",
       "      <th>returnsClosePrevMktres1</th>\n",
       "      <th>returnsOpenPrevMktres1</th>\n",
       "      <th>returnsClosePrevRaw10</th>\n",
       "      <th>returnsOpenPrevRaw10</th>\n",
       "      <th>returnsClosePrevMktres10</th>\n",
       "      <th>returnsOpenPrevMktres10</th>\n",
       "      <th>returnsOpenNextMktres10</th>\n",
       "      <th>universe</th>\n",
       "      <th>returnsOpenNextMktres1</th>\n",
       "      <th>returnsOpenNextMktres2</th>\n",
       "      <th>returnsOpenNextMktres3</th>\n",
       "      <th>returnsOpenNextMktres4</th>\n",
       "      <th>returnsOpenNextMktres5</th>\n",
       "      <th>returnsOpenNextMktres6</th>\n",
       "      <th>returnsOpenNextMktres7</th>\n",
       "      <th>returnsOpenNextMktres8</th>\n",
       "      <th>returnsOpenNextMktres9</th>\n",
       "      <th>assetCodes</th>\n",
       "      <th>rel_firstMention_1_1</th>\n",
       "      <th>rel_SentCount_1_1</th>\n",
       "      <th>relevance_1_1</th>\n",
       "      <th>firstMentionSentence_1_1</th>\n",
       "      <th>sentenceCount_1_1</th>\n",
       "      <th>sentimentWordCount_1_1</th>\n",
       "      <th>wordCount_1_1</th>\n",
       "      <th>rel_firstMention_3_1</th>\n",
       "      <th>rel_SentCount_3_1</th>\n",
       "      <th>relevance_3_1</th>\n",
       "      <th>firstMentionSentence_3_1</th>\n",
       "      <th>sentenceCount_3_1</th>\n",
       "      <th>sentimentWordCount_3_1</th>\n",
       "      <th>wordCount_3_1</th>\n",
       "      <th>rel_firstMention_1_0</th>\n",
       "      <th>rel_SentCount_1_0</th>\n",
       "      <th>relevance_1_0</th>\n",
       "      <th>firstMentionSentence_1_0</th>\n",
       "      <th>sentenceCount_1_0</th>\n",
       "      <th>sentimentWordCount_1_0</th>\n",
       "      <th>wordCount_1_0</th>\n",
       "      <th>rel_firstMention_3_0</th>\n",
       "      <th>rel_SentCount_3_0</th>\n",
       "      <th>relevance_3_0</th>\n",
       "      <th>firstMentionSentence_3_0</th>\n",
       "      <th>sentenceCount_3_0</th>\n",
       "      <th>sentimentWordCount_3_0</th>\n",
       "      <th>wordCount_3_0</th>\n",
       "      <th>rel_firstMention_1_-1</th>\n",
       "      <th>rel_SentCount_1_-1</th>\n",
       "      <th>relevance_1_-1</th>\n",
       "      <th>firstMentionSentence_1_-1</th>\n",
       "      <th>sentenceCount_1_-1</th>\n",
       "      <th>sentimentWordCount_1_-1</th>\n",
       "      <th>wordCount_1_-1</th>\n",
       "      <th>rel_firstMention_3_-1</th>\n",
       "      <th>rel_SentCount_3_-1</th>\n",
       "      <th>relevance_3_-1</th>\n",
       "      <th>firstMentionSentence_3_-1</th>\n",
       "      <th>sentenceCount_3_-1</th>\n",
       "      <th>sentimentWordCount_3_-1</th>\n",
       "      <th>wordCount_3_-1</th>\n",
       "      <th>assetCodeT</th>\n",
       "      <th>datetime</th>\n",
       "      <th>avgprice</th>\n",
       "      <th>returnsOpenPrevMktres1_dir</th>\n",
       "      <th>returnsOpenPrevMktres10_dir</th>\n",
       "    </tr>\n",
       "  </thead>\n",
       "  <tbody>\n",
       "    <tr>\n",
       "      <th>0</th>\n",
       "      <td>2010-01-04</td>\n",
       "      <td>A.N</td>\n",
       "      <td>Agilent Technologies Inc</td>\n",
       "      <td>2729240.0</td>\n",
       "      <td>31.30</td>\n",
       "      <td>31.39</td>\n",
       "      <td>0.007403</td>\n",
       "      <td>0.011276</td>\n",
       "      <td>-0.002344</td>\n",
       "      <td>0.010532</td>\n",
       "      <td>0.063179</td>\n",
       "      <td>0.065874</td>\n",
       "      <td>0.027270</td>\n",
       "      <td>0.060092</td>\n",
       "      <td>-0.040197</td>\n",
       "      <td>1.0</td>\n",
       "      <td>0.017095</td>\n",
       "      <td>0.011334</td>\n",
       "      <td>-0.001966</td>\n",
       "      <td>0.000907</td>\n",
       "      <td>-0.005205</td>\n",
       "      <td>-0.007491</td>\n",
       "      <td>-0.005439</td>\n",
       "      <td>-0.015842</td>\n",
       "      <td>-0.054127</td>\n",
       "      <td>A.N</td>\n",
       "      <td>0.0</td>\n",
       "      <td>0.0</td>\n",
       "      <td>0.0</td>\n",
       "      <td>0.0</td>\n",
       "      <td>0.0</td>\n",
       "      <td>0.0</td>\n",
       "      <td>0.0</td>\n",
       "      <td>0.000000</td>\n",
       "      <td>0.500000</td>\n",
       "      <td>0.024056</td>\n",
       "      <td>0.0</td>\n",
       "      <td>9.0</td>\n",
       "      <td>249.5</td>\n",
       "      <td>249.5</td>\n",
       "      <td>0.0</td>\n",
       "      <td>0.0</td>\n",
       "      <td>0.0</td>\n",
       "      <td>0.0</td>\n",
       "      <td>0.0</td>\n",
       "      <td>0.0</td>\n",
       "      <td>0.0</td>\n",
       "      <td>0.022727</td>\n",
       "      <td>0.131466</td>\n",
       "      <td>0.5</td>\n",
       "      <td>0.5</td>\n",
       "      <td>11.0</td>\n",
       "      <td>61.0</td>\n",
       "      <td>232.0</td>\n",
       "      <td>0.0</td>\n",
       "      <td>0.0</td>\n",
       "      <td>0.0</td>\n",
       "      <td>0.0</td>\n",
       "      <td>0.0</td>\n",
       "      <td>0.0</td>\n",
       "      <td>0.0</td>\n",
       "      <td>0.0</td>\n",
       "      <td>0.0</td>\n",
       "      <td>0.000000</td>\n",
       "      <td>0.0</td>\n",
       "      <td>0.0</td>\n",
       "      <td>0.0</td>\n",
       "      <td>0.0</td>\n",
       "      <td>0</td>\n",
       "      <td>2010-01-04</td>\n",
       "      <td>31.345</td>\n",
       "      <td>1</td>\n",
       "      <td>1</td>\n",
       "    </tr>\n",
       "    <tr>\n",
       "      <th>1</th>\n",
       "      <td>2010-01-05</td>\n",
       "      <td>A.N</td>\n",
       "      <td>Agilent Technologies Inc</td>\n",
       "      <td>2994237.0</td>\n",
       "      <td>30.96</td>\n",
       "      <td>31.21</td>\n",
       "      <td>-0.010863</td>\n",
       "      <td>-0.005734</td>\n",
       "      <td>-0.013011</td>\n",
       "      <td>-0.002875</td>\n",
       "      <td>0.053061</td>\n",
       "      <td>0.056534</td>\n",
       "      <td>0.017275</td>\n",
       "      <td>0.032079</td>\n",
       "      <td>0.001755</td>\n",
       "      <td>1.0</td>\n",
       "      <td>0.011334</td>\n",
       "      <td>-0.001966</td>\n",
       "      <td>0.000907</td>\n",
       "      <td>-0.005205</td>\n",
       "      <td>-0.007491</td>\n",
       "      <td>-0.005439</td>\n",
       "      <td>-0.015842</td>\n",
       "      <td>-0.054127</td>\n",
       "      <td>-0.040197</td>\n",
       "      <td>A.N</td>\n",
       "      <td>0.0</td>\n",
       "      <td>0.0</td>\n",
       "      <td>0.0</td>\n",
       "      <td>0.0</td>\n",
       "      <td>0.0</td>\n",
       "      <td>0.0</td>\n",
       "      <td>0.0</td>\n",
       "      <td>0.013158</td>\n",
       "      <td>0.428180</td>\n",
       "      <td>0.500000</td>\n",
       "      <td>0.5</td>\n",
       "      <td>19.0</td>\n",
       "      <td>390.5</td>\n",
       "      <td>456.0</td>\n",
       "      <td>0.0</td>\n",
       "      <td>0.0</td>\n",
       "      <td>0.0</td>\n",
       "      <td>0.0</td>\n",
       "      <td>0.0</td>\n",
       "      <td>0.0</td>\n",
       "      <td>0.0</td>\n",
       "      <td>0.014706</td>\n",
       "      <td>0.317029</td>\n",
       "      <td>0.5</td>\n",
       "      <td>0.5</td>\n",
       "      <td>17.0</td>\n",
       "      <td>262.5</td>\n",
       "      <td>414.0</td>\n",
       "      <td>0.0</td>\n",
       "      <td>0.0</td>\n",
       "      <td>0.0</td>\n",
       "      <td>0.0</td>\n",
       "      <td>0.0</td>\n",
       "      <td>0.0</td>\n",
       "      <td>0.0</td>\n",
       "      <td>0.0</td>\n",
       "      <td>0.0</td>\n",
       "      <td>0.000000</td>\n",
       "      <td>0.0</td>\n",
       "      <td>0.0</td>\n",
       "      <td>0.0</td>\n",
       "      <td>0.0</td>\n",
       "      <td>0</td>\n",
       "      <td>2010-01-05</td>\n",
       "      <td>31.085</td>\n",
       "      <td>0</td>\n",
       "      <td>1</td>\n",
       "    </tr>\n",
       "    <tr>\n",
       "      <th>2</th>\n",
       "      <td>2010-01-06</td>\n",
       "      <td>A.N</td>\n",
       "      <td>Agilent Technologies Inc</td>\n",
       "      <td>2320299.0</td>\n",
       "      <td>30.85</td>\n",
       "      <td>30.85</td>\n",
       "      <td>-0.003553</td>\n",
       "      <td>-0.011535</td>\n",
       "      <td>-0.003930</td>\n",
       "      <td>-0.011399</td>\n",
       "      <td>0.031428</td>\n",
       "      <td>0.042230</td>\n",
       "      <td>0.007567</td>\n",
       "      <td>0.017095</td>\n",
       "      <td>0.004760</td>\n",
       "      <td>1.0</td>\n",
       "      <td>-0.001966</td>\n",
       "      <td>0.000907</td>\n",
       "      <td>-0.005205</td>\n",
       "      <td>-0.007491</td>\n",
       "      <td>-0.005439</td>\n",
       "      <td>-0.015842</td>\n",
       "      <td>-0.054127</td>\n",
       "      <td>-0.040197</td>\n",
       "      <td>0.001755</td>\n",
       "      <td>A.N</td>\n",
       "      <td>0.0</td>\n",
       "      <td>0.0</td>\n",
       "      <td>0.0</td>\n",
       "      <td>0.0</td>\n",
       "      <td>0.0</td>\n",
       "      <td>0.0</td>\n",
       "      <td>0.0</td>\n",
       "      <td>0.000000</td>\n",
       "      <td>0.000000</td>\n",
       "      <td>0.000000</td>\n",
       "      <td>0.0</td>\n",
       "      <td>0.0</td>\n",
       "      <td>0.0</td>\n",
       "      <td>0.0</td>\n",
       "      <td>0.0</td>\n",
       "      <td>0.0</td>\n",
       "      <td>0.0</td>\n",
       "      <td>0.0</td>\n",
       "      <td>0.0</td>\n",
       "      <td>0.0</td>\n",
       "      <td>0.0</td>\n",
       "      <td>0.125000</td>\n",
       "      <td>1.000000</td>\n",
       "      <td>1.0</td>\n",
       "      <td>1.0</td>\n",
       "      <td>8.0</td>\n",
       "      <td>196.0</td>\n",
       "      <td>196.0</td>\n",
       "      <td>0.0</td>\n",
       "      <td>0.0</td>\n",
       "      <td>0.0</td>\n",
       "      <td>0.0</td>\n",
       "      <td>0.0</td>\n",
       "      <td>0.0</td>\n",
       "      <td>0.0</td>\n",
       "      <td>0.0</td>\n",
       "      <td>0.0</td>\n",
       "      <td>0.000000</td>\n",
       "      <td>0.0</td>\n",
       "      <td>0.0</td>\n",
       "      <td>0.0</td>\n",
       "      <td>0.0</td>\n",
       "      <td>0</td>\n",
       "      <td>2010-01-06</td>\n",
       "      <td>30.850</td>\n",
       "      <td>0</td>\n",
       "      <td>1</td>\n",
       "    </tr>\n",
       "    <tr>\n",
       "      <th>3</th>\n",
       "      <td>2010-01-07</td>\n",
       "      <td>A.N</td>\n",
       "      <td>Agilent Technologies Inc</td>\n",
       "      <td>2213927.0</td>\n",
       "      <td>30.81</td>\n",
       "      <td>30.78</td>\n",
       "      <td>-0.001297</td>\n",
       "      <td>-0.002269</td>\n",
       "      <td>-0.004043</td>\n",
       "      <td>-0.002272</td>\n",
       "      <td>0.020875</td>\n",
       "      <td>0.029087</td>\n",
       "      <td>-0.002718</td>\n",
       "      <td>0.011334</td>\n",
       "      <td>0.002065</td>\n",
       "      <td>1.0</td>\n",
       "      <td>0.000907</td>\n",
       "      <td>-0.005205</td>\n",
       "      <td>-0.007491</td>\n",
       "      <td>-0.005439</td>\n",
       "      <td>-0.015842</td>\n",
       "      <td>-0.054127</td>\n",
       "      <td>-0.040197</td>\n",
       "      <td>0.001755</td>\n",
       "      <td>0.004760</td>\n",
       "      <td>A.N</td>\n",
       "      <td>0.0</td>\n",
       "      <td>0.0</td>\n",
       "      <td>0.0</td>\n",
       "      <td>0.0</td>\n",
       "      <td>0.0</td>\n",
       "      <td>0.0</td>\n",
       "      <td>0.0</td>\n",
       "      <td>0.000000</td>\n",
       "      <td>0.000000</td>\n",
       "      <td>0.000000</td>\n",
       "      <td>0.0</td>\n",
       "      <td>0.0</td>\n",
       "      <td>0.0</td>\n",
       "      <td>0.0</td>\n",
       "      <td>0.0</td>\n",
       "      <td>0.0</td>\n",
       "      <td>0.0</td>\n",
       "      <td>0.0</td>\n",
       "      <td>0.0</td>\n",
       "      <td>0.0</td>\n",
       "      <td>0.0</td>\n",
       "      <td>0.000000</td>\n",
       "      <td>0.000000</td>\n",
       "      <td>0.0</td>\n",
       "      <td>0.0</td>\n",
       "      <td>0.0</td>\n",
       "      <td>0.0</td>\n",
       "      <td>0.0</td>\n",
       "      <td>0.0</td>\n",
       "      <td>0.0</td>\n",
       "      <td>0.0</td>\n",
       "      <td>0.0</td>\n",
       "      <td>0.0</td>\n",
       "      <td>0.0</td>\n",
       "      <td>0.0</td>\n",
       "      <td>0.0</td>\n",
       "      <td>1.0</td>\n",
       "      <td>0.028606</td>\n",
       "      <td>0.0</td>\n",
       "      <td>50.0</td>\n",
       "      <td>2081.0</td>\n",
       "      <td>2081.0</td>\n",
       "      <td>0</td>\n",
       "      <td>2010-01-07</td>\n",
       "      <td>30.795</td>\n",
       "      <td>0</td>\n",
       "      <td>1</td>\n",
       "    </tr>\n",
       "    <tr>\n",
       "      <th>5</th>\n",
       "      <td>2010-01-11</td>\n",
       "      <td>A.N</td>\n",
       "      <td>Agilent Technologies Inc</td>\n",
       "      <td>3420258.0</td>\n",
       "      <td>30.82</td>\n",
       "      <td>30.88</td>\n",
       "      <td>0.000649</td>\n",
       "      <td>0.007833</td>\n",
       "      <td>-0.000508</td>\n",
       "      <td>0.008229</td>\n",
       "      <td>0.016156</td>\n",
       "      <td>0.020152</td>\n",
       "      <td>-0.005858</td>\n",
       "      <td>0.000907</td>\n",
       "      <td>0.001812</td>\n",
       "      <td>1.0</td>\n",
       "      <td>-0.007491</td>\n",
       "      <td>-0.005439</td>\n",
       "      <td>-0.015842</td>\n",
       "      <td>-0.054127</td>\n",
       "      <td>-0.040197</td>\n",
       "      <td>0.001755</td>\n",
       "      <td>0.004760</td>\n",
       "      <td>0.002065</td>\n",
       "      <td>-0.003326</td>\n",
       "      <td>A.N</td>\n",
       "      <td>0.0</td>\n",
       "      <td>0.0</td>\n",
       "      <td>0.0</td>\n",
       "      <td>0.0</td>\n",
       "      <td>0.0</td>\n",
       "      <td>0.0</td>\n",
       "      <td>0.0</td>\n",
       "      <td>0.031250</td>\n",
       "      <td>0.596154</td>\n",
       "      <td>1.000000</td>\n",
       "      <td>1.0</td>\n",
       "      <td>32.0</td>\n",
       "      <td>527.0</td>\n",
       "      <td>884.0</td>\n",
       "      <td>0.0</td>\n",
       "      <td>0.0</td>\n",
       "      <td>0.0</td>\n",
       "      <td>0.0</td>\n",
       "      <td>0.0</td>\n",
       "      <td>0.0</td>\n",
       "      <td>0.0</td>\n",
       "      <td>0.000000</td>\n",
       "      <td>0.000000</td>\n",
       "      <td>0.0</td>\n",
       "      <td>0.0</td>\n",
       "      <td>0.0</td>\n",
       "      <td>0.0</td>\n",
       "      <td>0.0</td>\n",
       "      <td>0.0</td>\n",
       "      <td>0.0</td>\n",
       "      <td>0.0</td>\n",
       "      <td>0.0</td>\n",
       "      <td>0.0</td>\n",
       "      <td>0.0</td>\n",
       "      <td>0.0</td>\n",
       "      <td>0.0</td>\n",
       "      <td>0.0</td>\n",
       "      <td>0.000000</td>\n",
       "      <td>0.0</td>\n",
       "      <td>0.0</td>\n",
       "      <td>0.0</td>\n",
       "      <td>0.0</td>\n",
       "      <td>0</td>\n",
       "      <td>2010-01-11</td>\n",
       "      <td>30.850</td>\n",
       "      <td>1</td>\n",
       "      <td>1</td>\n",
       "    </tr>\n",
       "  </tbody>\n",
       "</table>\n",
       "</div>"
      ],
      "text/plain": [
       "         time assetCode                 assetName     volume  close   open  \\\n",
       "0  2010-01-04       A.N  Agilent Technologies Inc  2729240.0  31.30  31.39   \n",
       "1  2010-01-05       A.N  Agilent Technologies Inc  2994237.0  30.96  31.21   \n",
       "2  2010-01-06       A.N  Agilent Technologies Inc  2320299.0  30.85  30.85   \n",
       "3  2010-01-07       A.N  Agilent Technologies Inc  2213927.0  30.81  30.78   \n",
       "5  2010-01-11       A.N  Agilent Technologies Inc  3420258.0  30.82  30.88   \n",
       "\n",
       "   returnsClosePrevRaw1  returnsOpenPrevRaw1  returnsClosePrevMktres1  \\\n",
       "0              0.007403             0.011276                -0.002344   \n",
       "1             -0.010863            -0.005734                -0.013011   \n",
       "2             -0.003553            -0.011535                -0.003930   \n",
       "3             -0.001297            -0.002269                -0.004043   \n",
       "5              0.000649             0.007833                -0.000508   \n",
       "\n",
       "   returnsOpenPrevMktres1  returnsClosePrevRaw10  returnsOpenPrevRaw10  \\\n",
       "0                0.010532               0.063179              0.065874   \n",
       "1               -0.002875               0.053061              0.056534   \n",
       "2               -0.011399               0.031428              0.042230   \n",
       "3               -0.002272               0.020875              0.029087   \n",
       "5                0.008229               0.016156              0.020152   \n",
       "\n",
       "   returnsClosePrevMktres10  returnsOpenPrevMktres10  returnsOpenNextMktres10  \\\n",
       "0                  0.027270                 0.060092                -0.040197   \n",
       "1                  0.017275                 0.032079                 0.001755   \n",
       "2                  0.007567                 0.017095                 0.004760   \n",
       "3                 -0.002718                 0.011334                 0.002065   \n",
       "5                 -0.005858                 0.000907                 0.001812   \n",
       "\n",
       "   universe  returnsOpenNextMktres1  returnsOpenNextMktres2  \\\n",
       "0       1.0                0.017095                0.011334   \n",
       "1       1.0                0.011334               -0.001966   \n",
       "2       1.0               -0.001966                0.000907   \n",
       "3       1.0                0.000907               -0.005205   \n",
       "5       1.0               -0.007491               -0.005439   \n",
       "\n",
       "   returnsOpenNextMktres3  returnsOpenNextMktres4  returnsOpenNextMktres5  \\\n",
       "0               -0.001966                0.000907               -0.005205   \n",
       "1                0.000907               -0.005205               -0.007491   \n",
       "2               -0.005205               -0.007491               -0.005439   \n",
       "3               -0.007491               -0.005439               -0.015842   \n",
       "5               -0.015842               -0.054127               -0.040197   \n",
       "\n",
       "   returnsOpenNextMktres6  returnsOpenNextMktres7  returnsOpenNextMktres8  \\\n",
       "0               -0.007491               -0.005439               -0.015842   \n",
       "1               -0.005439               -0.015842               -0.054127   \n",
       "2               -0.015842               -0.054127               -0.040197   \n",
       "3               -0.054127               -0.040197                0.001755   \n",
       "5                0.001755                0.004760                0.002065   \n",
       "\n",
       "   returnsOpenNextMktres9 assetCodes  rel_firstMention_1_1  rel_SentCount_1_1  \\\n",
       "0               -0.054127        A.N                   0.0                0.0   \n",
       "1               -0.040197        A.N                   0.0                0.0   \n",
       "2                0.001755        A.N                   0.0                0.0   \n",
       "3                0.004760        A.N                   0.0                0.0   \n",
       "5               -0.003326        A.N                   0.0                0.0   \n",
       "\n",
       "   relevance_1_1  firstMentionSentence_1_1  sentenceCount_1_1  \\\n",
       "0            0.0                       0.0                0.0   \n",
       "1            0.0                       0.0                0.0   \n",
       "2            0.0                       0.0                0.0   \n",
       "3            0.0                       0.0                0.0   \n",
       "5            0.0                       0.0                0.0   \n",
       "\n",
       "   sentimentWordCount_1_1  wordCount_1_1  rel_firstMention_3_1  \\\n",
       "0                     0.0            0.0              0.000000   \n",
       "1                     0.0            0.0              0.013158   \n",
       "2                     0.0            0.0              0.000000   \n",
       "3                     0.0            0.0              0.000000   \n",
       "5                     0.0            0.0              0.031250   \n",
       "\n",
       "   rel_SentCount_3_1  relevance_3_1  firstMentionSentence_3_1  \\\n",
       "0           0.500000       0.024056                       0.0   \n",
       "1           0.428180       0.500000                       0.5   \n",
       "2           0.000000       0.000000                       0.0   \n",
       "3           0.000000       0.000000                       0.0   \n",
       "5           0.596154       1.000000                       1.0   \n",
       "\n",
       "   sentenceCount_3_1  sentimentWordCount_3_1  wordCount_3_1  \\\n",
       "0                9.0                   249.5          249.5   \n",
       "1               19.0                   390.5          456.0   \n",
       "2                0.0                     0.0            0.0   \n",
       "3                0.0                     0.0            0.0   \n",
       "5               32.0                   527.0          884.0   \n",
       "\n",
       "   rel_firstMention_1_0  rel_SentCount_1_0  relevance_1_0  \\\n",
       "0                   0.0                0.0            0.0   \n",
       "1                   0.0                0.0            0.0   \n",
       "2                   0.0                0.0            0.0   \n",
       "3                   0.0                0.0            0.0   \n",
       "5                   0.0                0.0            0.0   \n",
       "\n",
       "   firstMentionSentence_1_0  sentenceCount_1_0  sentimentWordCount_1_0  \\\n",
       "0                       0.0                0.0                     0.0   \n",
       "1                       0.0                0.0                     0.0   \n",
       "2                       0.0                0.0                     0.0   \n",
       "3                       0.0                0.0                     0.0   \n",
       "5                       0.0                0.0                     0.0   \n",
       "\n",
       "   wordCount_1_0  rel_firstMention_3_0  rel_SentCount_3_0  relevance_3_0  \\\n",
       "0            0.0              0.022727           0.131466            0.5   \n",
       "1            0.0              0.014706           0.317029            0.5   \n",
       "2            0.0              0.125000           1.000000            1.0   \n",
       "3            0.0              0.000000           0.000000            0.0   \n",
       "5            0.0              0.000000           0.000000            0.0   \n",
       "\n",
       "   firstMentionSentence_3_0  sentenceCount_3_0  sentimentWordCount_3_0  \\\n",
       "0                       0.5               11.0                    61.0   \n",
       "1                       0.5               17.0                   262.5   \n",
       "2                       1.0                8.0                   196.0   \n",
       "3                       0.0                0.0                     0.0   \n",
       "5                       0.0                0.0                     0.0   \n",
       "\n",
       "   wordCount_3_0  rel_firstMention_1_-1  rel_SentCount_1_-1  relevance_1_-1  \\\n",
       "0          232.0                    0.0                 0.0             0.0   \n",
       "1          414.0                    0.0                 0.0             0.0   \n",
       "2          196.0                    0.0                 0.0             0.0   \n",
       "3            0.0                    0.0                 0.0             0.0   \n",
       "5            0.0                    0.0                 0.0             0.0   \n",
       "\n",
       "   firstMentionSentence_1_-1  sentenceCount_1_-1  sentimentWordCount_1_-1  \\\n",
       "0                        0.0                 0.0                      0.0   \n",
       "1                        0.0                 0.0                      0.0   \n",
       "2                        0.0                 0.0                      0.0   \n",
       "3                        0.0                 0.0                      0.0   \n",
       "5                        0.0                 0.0                      0.0   \n",
       "\n",
       "   wordCount_1_-1  rel_firstMention_3_-1  rel_SentCount_3_-1  relevance_3_-1  \\\n",
       "0             0.0                    0.0                 0.0        0.000000   \n",
       "1             0.0                    0.0                 0.0        0.000000   \n",
       "2             0.0                    0.0                 0.0        0.000000   \n",
       "3             0.0                    0.0                 1.0        0.028606   \n",
       "5             0.0                    0.0                 0.0        0.000000   \n",
       "\n",
       "   firstMentionSentence_3_-1  sentenceCount_3_-1  sentimentWordCount_3_-1  \\\n",
       "0                        0.0                 0.0                      0.0   \n",
       "1                        0.0                 0.0                      0.0   \n",
       "2                        0.0                 0.0                      0.0   \n",
       "3                        0.0                50.0                   2081.0   \n",
       "5                        0.0                 0.0                      0.0   \n",
       "\n",
       "   wordCount_3_-1  assetCodeT   datetime  avgprice  \\\n",
       "0             0.0           0 2010-01-04    31.345   \n",
       "1             0.0           0 2010-01-05    31.085   \n",
       "2             0.0           0 2010-01-06    30.850   \n",
       "3          2081.0           0 2010-01-07    30.795   \n",
       "5             0.0           0 2010-01-11    30.850   \n",
       "\n",
       "   returnsOpenPrevMktres1_dir  returnsOpenPrevMktres10_dir  \n",
       "0                           1                            1  \n",
       "1                           0                            1  \n",
       "2                           0                            1  \n",
       "3                           0                            1  \n",
       "5                           1                            1  "
      ]
     },
     "execution_count": 20,
     "metadata": {},
     "output_type": "execute_result"
    }
   ],
   "source": [
    "gc.collect()\n",
    "market_news.head()"
   ]
  },
  {
   "cell_type": "code",
   "execution_count": 21,
   "metadata": {},
   "outputs": [],
   "source": [
    "feature_columns = [ 'returnsOpenPrevMktres1_dir', 'returnsOpenPrevMktres10_dir', \n",
    "                   'relevance_1_1', 'firstMentionSentence_1_1', \n",
    "        'sentimentWordCount_1_1', \n",
    "       'relevance_3_1', 'firstMentionSentence_3_1', 'sentimentWordCount_3_1',\n",
    "       'relevance_1_0', 'firstMentionSentence_1_0', \n",
    "       'sentimentWordCount_1_0', 'relevance_3_0',\n",
    "       'firstMentionSentence_3_0', 'sentimentWordCount_3_0', \n",
    "       'relevance_1_-1', 'firstMentionSentence_1_-1',\n",
    "       'sentimentWordCount_1_-1',\n",
    "       'relevance_3_-1', \n",
    "       'firstMentionSentence_3_-1', \n",
    "       'sentimentWordCount_3_-1', \n",
    "        'rel_SentCount_1_1', 'rel_SentCount_3_1', 'rel_firstMention_1_1', 'rel_firstMention_3_1', \n",
    "        'rel_firstMention_1_0', 'rel_SentCount_1_0', 'rel_firstMention_3_0', 'rel_firstMention_1_-1', \n",
    "        'rel_SentCount_3_0', 'rel_SentCount_1_-1', 'rel_firstMention_3_-1', 'rel_SentCount_3_-1']\n",
    "                   \n",
    "target_columns =['returnsOpenNextMktres10', 'returnsOpenNextMktres1','returnsOpenNextMktres2', 'returnsOpenNextMktres3',\n",
    "                 'returnsOpenNextMktres4', 'returnsOpenNextMktres5', 'returnsOpenNextMktres6', 'returnsOpenNextMktres7',\n",
    "                'returnsOpenNextMktres8', 'returnsOpenNextMktres9']\n",
    "\n",
    "#         returnsOpenPrevRaw1_to_volume\n",
    "#        'wordCount_1_1', 'wordCount_3_1', 'wordCount_1_0', 'wordCount_3_0', 'wordCount_1_-1', 'wordCount_3_-1', \n",
    "#        'sentenceCount_1_1', 'sentenceCount_3_1', 'sentenceCount_1_0', \n",
    "#        'sentenceCount_3_0', 'sentenceCount_3_-1', 'sentenceCount_1_-1', \n",
    "#        avgprice, 'volume', 'close', 'open','returnsClosePrevMktres1', 'returnsOpenPrevMktres1',\n",
    "#        'returnsClosePrevMktres10', 'returnsOpenPrevMktres10', \n",
    " \n",
    "#        'volume', 'close', 'open',\n",
    "#        'returnsClosePrevRaw1', 'returnsOpenPrevRaw1',\n",
    "#        'returnsClosePrevMktres1', 'returnsOpenPrevMktres1',\n",
    "#        'returnsClosePrevRaw10', 'returnsOpenPrevRaw10',\n",
    "#        'returnsClosePrevMktres10', 'returnsOpenPrevMktres10',\n",
    "\n",
    "# Target_var = returnsOpenNextMktres10"
   ]
  },
  {
   "cell_type": "code",
   "execution_count": 22,
   "metadata": {},
   "outputs": [],
   "source": [
    "market_train = market_news[market_news['datetime'].dt.year < 2016]\n",
    "market_test = market_news[market_news['datetime'].dt.year >= 2016]"
   ]
  },
  {
   "cell_type": "code",
   "execution_count": null,
   "metadata": {},
   "outputs": [],
   "source": []
  },
  {
   "cell_type": "code",
   "execution_count": 198,
   "metadata": {},
   "outputs": [],
   "source": []
  },
  {
   "cell_type": "code",
   "execution_count": 208,
   "metadata": {},
   "outputs": [],
   "source": [
    "# mm1 = news_data[(news_data['assetName'].str.contains(\"Facebook\")) & (news_data['time'] == datetime.date(2012,5,15))]\n",
    "# mm1.groupby(['time','assetName'], as_index=False).mean()\n",
    "# mm1['assetCodes'].map(lambda x: list(eval(x))[0])\n",
    "# market_news[(market_news['rel_firstMention_3_1'] > 0) & (market_news['rel_firstMention_3_1'] < 1)]"
   ]
  },
  {
   "cell_type": "code",
   "execution_count": 23,
   "metadata": {},
   "outputs": [],
   "source": [
    "market_train = market_train[feature_columns + target_columns] .fillna(0)\n",
    "market_test = market_test[feature_columns + target_columns] .fillna(0)"
   ]
  },
  {
   "cell_type": "code",
   "execution_count": 24,
   "metadata": {},
   "outputs": [],
   "source": [
    "# market_news[market_news.columns].fillna(value=0, inplace=True)\n",
    "# market_train[feature_columns] = market_train[feature_columns].fillna(0)\n",
    "# market_test[feature_columns] = market_test[feature_columns].fillna(0)"
   ]
  },
  {
   "cell_type": "code",
   "execution_count": 159,
   "metadata": {},
   "outputs": [],
   "source": [
    "X_train = market_train[feature_columns].values\n",
    "X_test = market_test[feature_columns].values\n",
    "up_train = market_train['returnsOpenNextMktres10'].map(lambda x: 0 if x<0 else 1).values\n",
    "up_test = market_test['returnsOpenNextMktres10'].map(lambda x: 0 if x<0 else 1).values\n",
    "Y_train = up_train\n",
    "Y_test = up_test\n"
   ]
  },
  {
   "cell_type": "markdown",
   "metadata": {},
   "source": [
    "### XG Boost "
   ]
  },
  {
   "cell_type": "code",
   "execution_count": 26,
   "metadata": {},
   "outputs": [],
   "source": [
    "import random\n",
    "random.seed(1)\n",
    "import time\n",
    "\n",
    "import xgboost as xgb\n",
    "# import lightgbm as lgb\n",
    "from sklearn.model_selection import train_test_split, GridSearchCV, RandomizedSearchCV\n",
    "from sklearn.model_selection import TimeSeriesSplit\n",
    "from sklearn.model_selection import StratifiedKFold\n",
    "from sklearn.metrics import roc_auc_score\n",
    "from sklearn.metrics import get_scorer\n",
    "from sklearn.metrics import f1_score\n",
    "from sklearn.preprocessing import LabelEncoder\n",
    "from sklearn.metrics import accuracy_score\n",
    "from sklearn.ensemble import VotingClassifier\n",
    "from sklearn.externals.joblib import Parallel, delayed\n",
    "from sklearn.base import clone\n",
    "\n",
    "import warnings\n",
    "warnings.filterwarnings(\"ignore\",category=DeprecationWarning)"
   ]
  },
  {
   "cell_type": "code",
   "execution_count": 27,
   "metadata": {},
   "outputs": [],
   "source": [
    "# # Set up decay learning rate\n",
    "# def learning_rate_power(current_round):\n",
    "#     base_learning_rate = 0.1\n",
    "#     min_learning_rate = 0.01\n",
    "#     lr = base_learning_rate * np.power(0.995,current_round)\n",
    "#     return max(lr, min_learning_rate)"
   ]
  },
  {
   "cell_type": "code",
   "execution_count": 166,
   "metadata": {},
   "outputs": [],
   "source": [
    "from scipy.stats import randint as sp_randint\n",
    "from scipy.stats import uniform as sp_uniform\n",
    "\n",
    "tune_params = {'n_estimators': [500,1000],\n",
    "              'max_depth': [5,10],\n",
    "              'colsample_bytree':[0.6,0.8],\n",
    "              'min_child_weight': [5, 10],\n",
    "              'gamma': [0.5,1.5],\n",
    "              'reg_lambda':[1e-3,1e-1],\n",
    "               'reg_alpha':[1e-3, 1e-1],\n",
    "              'learning_rate':[0.1,0.01]}\n",
    "\n",
    "fit_params = {'early_stopping_rounds':100,\n",
    "              'eval_metric': 'auc',\n",
    "              'eval_set': [(X_train, Y_train), (X_test, Y_test)],\n",
    "              'verbose': 200\n",
    "              }"
   ]
  },
  {
   "cell_type": "code",
   "execution_count": 29,
   "metadata": {},
   "outputs": [],
   "source": [
    "# xgb_clf = xgb.XGBClassifier(objective='binary:logistic',silent=True, nthread=1)\n",
    "\n",
    "# folds = 5\n",
    "# param_comb = 40\n",
    "\n",
    "# #skf = StratifiedKFold(n_splits=folds, shuffle = True, random_state = 1001)\n",
    "\n",
    "# rs = RandomizedSearchCV(xgb_clf, param_distributions=tune_params, n_iter=param_comb, scoring='roc_auc', n_jobs=4, cv = tscv.split(X_train), verbose=3, random_state=1001 )\n"
   ]
  },
  {
   "cell_type": "code",
   "execution_count": 30,
   "metadata": {},
   "outputs": [],
   "source": [
    "#rs.fit(X_train, Y_train, **fit_params)"
   ]
  },
  {
   "cell_type": "code",
   "execution_count": 31,
   "metadata": {},
   "outputs": [],
   "source": [
    "# rs.best_estimator_"
   ]
  },
  {
   "cell_type": "markdown",
   "metadata": {},
   "source": [
    "### Building Model on best estimated parameters"
   ]
  },
  {
   "cell_type": "code",
   "execution_count": 28,
   "metadata": {},
   "outputs": [
    {
     "name": "stdout",
     "output_type": "stream",
     "text": [
      "[0]\tvalidation_0-auc:0.516142\tvalidation_1-auc:0.505962\n",
      "Multiple eval metrics have been passed: 'validation_1-auc' will be used for early stopping.\n",
      "\n",
      "Will train until validation_1-auc hasn't improved in 100 rounds.\n",
      "Stopping. Best iteration:\n",
      "[9]\tvalidation_0-auc:0.55851\tvalidation_1-auc:0.53849\n",
      "\n"
     ]
    },
    {
     "data": {
      "text/plain": [
       "XGBClassifier(base_score=0.5, booster='gbtree', colsample_bylevel=1,\n",
       "       colsample_bytree=0.8, gamma=2, learning_rate=0.01, max_delta_step=0,\n",
       "       max_depth=8, min_child_weight=10, missing=None, n_estimators=5000,\n",
       "       n_jobs=4, nthread=None, objective='binary:logistic',\n",
       "       random_state=300, reg_alpha=2, reg_lambda=1, scale_pos_weight=1,\n",
       "       seed=None, silent=True, subsample=0.7)"
      ]
     },
     "execution_count": 28,
     "metadata": {},
     "output_type": "execute_result"
    }
   ],
   "source": [
    "xgb_clf = xgb.XGBClassifier(n_jobs=4,\n",
    "                             objective='binary:logistic',\n",
    "                            random_state=300)\n",
    "opt_params = {'n_estimators': 5000,\n",
    "              'max_depth': 8,\n",
    "              'subsample':0.7,\n",
    "              'colsample_bytree':0.8,\n",
    "              'min_child_weight': 10,\n",
    "              'gamma': 2,\n",
    "              'reg_lambda':1,\n",
    "               'reg_alpha':2,\n",
    "              'learning_rate':0.01}\n",
    "xgb_clf.set_params(**opt_params)\n",
    "xgb_clf.fit(X_train, Y_train,**fit_params)"
   ]
  },
  {
   "cell_type": "markdown",
   "metadata": {},
   "source": [
    "### Accuracies on Training and Validation set"
   ]
  },
  {
   "cell_type": "code",
   "execution_count": 161,
   "metadata": {},
   "outputs": [
    {
     "name": "stdout",
     "output_type": "stream",
     "text": [
      "Training accuracy:  0.5437285092112137\n",
      "Validation accuracy:  0.5340115987844652\n"
     ]
    }
   ],
   "source": [
    "print('Training accuracy: ', accuracy_score(Y_train, xgb_clf.predict(X_train)))\n",
    "print('Validation accuracy: ', accuracy_score(Y_test, xgb_clf.predict(X_test)))"
   ]
  },
  {
   "cell_type": "code",
   "execution_count": 30,
   "metadata": {},
   "outputs": [],
   "source": [
    "def perf_measure(y_actual, y_hat):\n",
    "    TP = 0\n",
    "    FP = 0\n",
    "    TN = 0\n",
    "    FN = 0\n",
    "\n",
    "    for i in range(len(y_hat)): \n",
    "        if y_actual[i]==y_hat[i]==1:\n",
    "            TP += 1\n",
    "        if y_hat[i]==1 and y_actual[i]!=y_hat[i]:\n",
    "            FP += 1\n",
    "        if y_actual[i]==y_hat[i]==0:\n",
    "            TN += 1\n",
    "        if y_hat[i]==0 and y_actual[i]!=y_hat[i]:\n",
    "            FN += 1\n",
    "    return(TP, FP, TN, FN)"
   ]
  },
  {
   "cell_type": "code",
   "execution_count": 31,
   "metadata": {},
   "outputs": [
    {
     "name": "stdout",
     "output_type": "stream",
     "text": [
      "54.86625077327848\n",
      "53.86718914108719\n"
     ]
    }
   ],
   "source": [
    "(TP,FP,TN,FN) = perf_measure(Y_train, xgb_clf.predict(X_train))\n",
    "#confusion_matrix(Y_train, lgb_clf.predict(X_train))\n",
    "TNR = TN/(TN+FP)\n",
    "TPR = TP/(TP+FN)\n",
    "print(TPR*100)\n",
    "print(TNR*100)"
   ]
  },
  {
   "cell_type": "code",
   "execution_count": 36,
   "metadata": {},
   "outputs": [
    {
     "data": {
      "text/plain": [
       "(146193, 119566, 136018, 117468)"
      ]
     },
     "execution_count": 36,
     "metadata": {},
     "output_type": "execute_result"
    }
   ],
   "source": [
    "(TP,FP,TN,FN)"
   ]
  },
  {
   "cell_type": "code",
   "execution_count": 162,
   "metadata": {},
   "outputs": [],
   "source": [
    "# save the model to disk\n",
    "import pickle\n",
    "filename = 'finalized_model.sav'\n",
    "pickle.dump(xgb_clf, open(filename, 'wb'))"
   ]
  },
  {
   "cell_type": "code",
   "execution_count": null,
   "metadata": {},
   "outputs": [],
   "source": []
  },
  {
   "cell_type": "code",
   "execution_count": 163,
   "metadata": {},
   "outputs": [],
   "source": [
    "## importing external model\n",
    "loaded_model = pickle.load(open('finalized_model.sav', 'rb'))"
   ]
  },
  {
   "cell_type": "code",
   "execution_count": 164,
   "metadata": {},
   "outputs": [
    {
     "name": "stdout",
     "output_type": "stream",
     "text": [
      "Training accuracy:  0.5437285092112137\n",
      "Validation accuracy:  0.5340115987844652\n"
     ]
    }
   ],
   "source": [
    "# checking if the imported model is working fine\n",
    "print('Training accuracy: ', accuracy_score(Y_train, loaded_model.predict(X_train)))\n",
    "print('Validation accuracy: ', accuracy_score(Y_test, loaded_model.predict(X_test)))"
   ]
  },
  {
   "cell_type": "markdown",
   "metadata": {},
   "source": [
    "## Visualizing Result"
   ]
  },
  {
   "cell_type": "code",
   "execution_count": 48,
   "metadata": {},
   "outputs": [
    {
     "data": {
      "image/png": "[encoded data removed]",
      "text/plain": [
       "<Figure size 720x432 with 1 Axes>"
      ]
     },
     "metadata": {},
     "output_type": "display_data"
    }
   ],
   "source": [
    "features_imp = pd.DataFrame()\n",
    "features_imp['features'] = list(feature_columns)[:]\n",
    "features_imp['importance'] = xgb_clf.feature_importances_\n",
    "features_imp = features_imp.sort_values(by='importance', ascending=False).reset_index()\n",
    "\n",
    "y = -np.arange(16)\n",
    "plt.figure(figsize=(10,6))\n",
    "plt.barh(y, features_imp.loc[:15,'importance'].values)\n",
    "plt.yticks(y,(features_imp.loc[:15,'features']))\n",
    "plt.xlabel('Feature importance')\n",
    "plt.title('Features importance')\n",
    "plt.tight_layout()\n",
    "plt.savefig('features_importance.png')"
   ]
  },
  {
   "cell_type": "code",
   "execution_count": 50,
   "metadata": {},
   "outputs": [
    {
     "data": {
      "image/png": "[encoded data removed]",
      "text/plain": [
       "<Figure size 1800x720 with 2 Axes>"
      ]
     },
     "metadata": {},
     "output_type": "display_data"
    }
   ],
   "source": [
    "import matplotlib.pyplot as plt\n",
    "import seaborn as sns; sns.set()\n",
    "\n",
    "# columns_corr = ['takeSequence', 'companyCount','marketCommentary','sentenceCount',\\\n",
    "#            'firstMentionSentence','relevance','sentimentClass','sentimentWordCount','noveltyCount24H',\\\n",
    "#            'noveltyCount3D', 'noveltyCount5D', 'noveltyCount7D','volumeCounts24H','volumeCounts3D','volumeCounts5D','volumeCounts7D','returnsOpenNextMktres10']\n",
    "columns_corr = list(features_imp.loc[:15,'features'])\n",
    "colormap = plt.cm.RdBu\n",
    "plt.figure(figsize=(25,10))\n",
    "sns.heatmap(market_news[columns_corr].astype(float).corr(), linewidths=0.1, vmax=1.0, vmin=-1., square=True, cmap=colormap, linecolor='white', annot=True)\n",
    "plt.title('Pair-wise correlation')\n",
    "plt.savefig('correlation_matrix.png')"
   ]
  },
  {
   "cell_type": "code",
   "execution_count": 47,
   "metadata": {},
   "outputs": [
    {
     "data": {
      "text/plain": [
       "(31,)"
      ]
     },
     "execution_count": 47,
     "metadata": {},
     "output_type": "execute_result"
    }
   ],
   "source": []
  },
  {
   "cell_type": "markdown",
   "metadata": {},
   "source": [
    "### Saving the Prediction Accuracy for 1st to 10th day"
   ]
  },
  {
   "cell_type": "code",
   "execution_count": 167,
   "metadata": {},
   "outputs": [],
   "source": [
    "accuracy = {}\n",
    "X_train = market_train[feature_columns].values\n",
    "X_test = market_test[feature_columns].values\n"
   ]
  },
  {
   "cell_type": "code",
   "execution_count": 168,
   "metadata": {},
   "outputs": [
    {
     "name": "stdout",
     "output_type": "stream",
     "text": [
      "[0]\tvalidation_0-auc:0.605193\tvalidation_1-auc:0.606959\n",
      "Multiple eval metrics have been passed: 'validation_1-auc' will be used for early stopping.\n",
      "\n",
      "Will train until validation_1-auc hasn't improved in 100 rounds.\n",
      "Stopping. Best iteration:\n",
      "[96]\tvalidation_0-auc:0.788453\tvalidation_1-auc:0.791602\n",
      "\n",
      "Training accuracy:  0.7619004506110316\n",
      "Validation accuracy:  0.7701281209301291\n",
      "76.66902701865416\n",
      "75.68864540986708\n",
      "[0]\tvalidation_0-auc:0.602464\tvalidation_1-auc:0.602933\n",
      "Multiple eval metrics have been passed: 'validation_1-auc' will be used for early stopping.\n",
      "\n",
      "Will train until validation_1-auc hasn't improved in 100 rounds.\n",
      "Stopping. Best iteration:\n",
      "[29]\tvalidation_0-auc:0.746909\tvalidation_1-auc:0.752793\n",
      "\n",
      "Training accuracy:  0.7185237160226268\n",
      "Validation accuracy:  0.7273172523570467\n",
      "72.3615401364762\n",
      "71.32010833082568\n",
      "[0]\tvalidation_0-auc:0.598682\tvalidation_1-auc:0.592884\n",
      "Multiple eval metrics have been passed: 'validation_1-auc' will be used for early stopping.\n",
      "\n",
      "Will train until validation_1-auc hasn't improved in 100 rounds.\n",
      "[200]\tvalidation_0-auc:0.72037\tvalidation_1-auc:0.714362\n",
      "Stopping. Best iteration:\n",
      "[230]\tvalidation_0-auc:0.721218\tvalidation_1-auc:0.714463\n",
      "\n",
      "Training accuracy:  0.6846326360085181\n",
      "Validation accuracy:  0.6901610694925253\n",
      "69.05870598341647\n",
      "67.83954336206631\n",
      "[0]\tvalidation_0-auc:0.595726\tvalidation_1-auc:0.594321\n",
      "Multiple eval metrics have been passed: 'validation_1-auc' will be used for early stopping.\n",
      "\n",
      "Will train until validation_1-auc hasn't improved in 100 rounds.\n",
      "Stopping. Best iteration:\n",
      "[26]\tvalidation_0-auc:0.690826\tvalidation_1-auc:0.690955\n",
      "\n",
      "Training accuracy:  0.6576450150800971\n",
      "Validation accuracy:  0.66261117356991\n",
      "66.25116974097403\n",
      "65.25807320734383\n",
      "[0]\tvalidation_0-auc:0.595493\tvalidation_1-auc:0.596525\n",
      "Multiple eval metrics have been passed: 'validation_1-auc' will be used for early stopping.\n",
      "\n",
      "Will train until validation_1-auc hasn't improved in 100 rounds.\n",
      "[200]\tvalidation_0-auc:0.674178\tvalidation_1-auc:0.670262\n",
      "Stopping. Best iteration:\n",
      "[284]\tvalidation_0-auc:0.676445\tvalidation_1-auc:0.670384\n",
      "\n",
      "Training accuracy:  0.6336073968866531\n",
      "Validation accuracy:  0.6375212885559403\n",
      "63.922344457797905\n",
      "62.77604102500924\n",
      "[0]\tvalidation_0-auc:0.595072\tvalidation_1-auc:0.598258\n",
      "Multiple eval metrics have been passed: 'validation_1-auc' will be used for early stopping.\n",
      "\n",
      "Will train until validation_1-auc hasn't improved in 100 rounds.\n",
      "[200]\tvalidation_0-auc:0.652678\tvalidation_1-auc:0.652767\n",
      "Stopping. Best iteration:\n",
      "[273]\tvalidation_0-auc:0.654629\tvalidation_1-auc:0.65284\n",
      "\n",
      "Training accuracy:  0.6136458374593762\n",
      "Validation accuracy:  0.6162049044380378\n",
      "62.11565574892778\n",
      "60.58375907915795\n",
      "[0]\tvalidation_0-auc:0.595242\tvalidation_1-auc:0.595712\n",
      "Multiple eval metrics have been passed: 'validation_1-auc' will be used for early stopping.\n",
      "\n",
      "Will train until validation_1-auc hasn't improved in 100 rounds.\n",
      "[200]\tvalidation_0-auc:0.63638\tvalidation_1-auc:0.630866\n",
      "Stopping. Best iteration:\n",
      "[274]\tvalidation_0-auc:0.638806\tvalidation_1-auc:0.63092\n",
      "\n",
      "Training accuracy:  0.6013648478126786\n",
      "Validation accuracy:  0.5965693422531919\n",
      "66.26930994195426\n",
      "53.79038510251234\n",
      "[0]\tvalidation_0-auc:0.608221\tvalidation_1-auc:0.6076\n",
      "Multiple eval metrics have been passed: 'validation_1-auc' will be used for early stopping.\n",
      "\n",
      "Will train until validation_1-auc hasn't improved in 100 rounds.\n",
      "Stopping. Best iteration:\n",
      "[98]\tvalidation_0-auc:0.629326\tvalidation_1-auc:0.627265\n",
      "\n",
      "Training accuracy:  0.5955912171401949\n",
      "Validation accuracy:  0.5985507085054043\n",
      "59.399249247021466\n",
      "59.72453017004832\n",
      "[0]\tvalidation_0-auc:0.53702\tvalidation_1-auc:0.51851\n",
      "Multiple eval metrics have been passed: 'validation_1-auc' will be used for early stopping.\n",
      "\n",
      "Will train until validation_1-auc hasn't improved in 100 rounds.\n",
      "Stopping. Best iteration:\n",
      "[70]\tvalidation_0-auc:0.564597\tvalidation_1-auc:0.539047\n",
      "\n",
      "Training accuracy:  0.5448375895233407\n",
      "Validation accuracy:  0.5313289624542227\n",
      "70.79812381342366\n",
      "37.72706938544538\n",
      "[0]\tvalidation_0-auc:0.516142\tvalidation_1-auc:0.505962\n",
      "Multiple eval metrics have been passed: 'validation_1-auc' will be used for early stopping.\n",
      "\n",
      "Will train until validation_1-auc hasn't improved in 100 rounds.\n",
      "Stopping. Best iteration:\n",
      "[9]\tvalidation_0-auc:0.55851\tvalidation_1-auc:0.53849\n",
      "\n",
      "Training accuracy:  0.5437285092112137\n",
      "Validation accuracy:  0.5340115987844652\n",
      "54.86625077327848\n",
      "53.86718914108719\n"
     ]
    }
   ],
   "source": [
    "for i in range(1, 11):    \n",
    "    response = 'returnsOpenNextMktres' + str(i)\n",
    "    \n",
    "    up_train = market_train[response].map(lambda x: 0 if x<0 else 1).values\n",
    "    up_test = market_test[response].map(lambda x: 0 if x<0 else 1).values\n",
    "    Y_train = up_train\n",
    "    Y_test = up_test\n",
    "    \n",
    "    xgb_clf = xgb.XGBClassifier(n_jobs=4,\n",
    "                             objective='binary:logistic',\n",
    "                            random_state=300)\n",
    "    opt_params = {'n_estimators': 5000,\n",
    "                  'max_depth': 8,\n",
    "                  'subsample':0.7,\n",
    "                  'colsample_bytree':0.8,\n",
    "                  'min_child_weight': 10,\n",
    "                  'gamma': 2,\n",
    "                  'reg_lambda':1,\n",
    "                   'reg_alpha':2,\n",
    "                  'learning_rate':0.01}\n",
    "    fit_params = {'early_stopping_rounds':100,\n",
    "                  'eval_metric': 'auc',\n",
    "                  'eval_set': [(X_train, Y_train), (X_test, Y_test)],\n",
    "                  'verbose': 200\n",
    "                  }\n",
    "    xgb_clf.set_params(**opt_params)\n",
    "    xgb_clf.fit(X_train, Y_train,**fit_params)\n",
    "    \n",
    "    train_acc = accuracy_score(Y_train, xgb_clf.predict(X_train))\n",
    "    test_acc = accuracy_score(Y_test, xgb_clf.predict(X_test))\n",
    "    \n",
    "    print('Training accuracy: ', train_acc)\n",
    "    print('Validation accuracy: ', test_acc)\n",
    "    \n",
    "    (TP,FP,TN,FN) = perf_measure(Y_train, xgb_clf.predict(X_train))\n",
    "    #confusion_matrix(Y_train, lgb_clf.predict(X_train))\n",
    "    TNR = TN/(TN+FP)\n",
    "    TPR = TP/(TP+FN)\n",
    "    print(TPR*100)\n",
    "    print(TNR*100)\n",
    "    \n",
    "    accuracy[i] = [train_acc, test_acc, TPR, TNR]"
   ]
  },
  {
   "cell_type": "code",
   "execution_count": 109,
   "metadata": {},
   "outputs": [],
   "source": []
  },
  {
   "cell_type": "code",
   "execution_count": 71,
   "metadata": {},
   "outputs": [],
   "source": [
    "import seaborn as sns; \n",
    "import matplotlib.pyplot as plt\n",
    "sns.set()"
   ]
  },
  {
   "cell_type": "code",
   "execution_count": 72,
   "metadata": {},
   "outputs": [],
   "source": [
    "# fmri = sns.load_dataset(\"fmri\")"
   ]
  },
  {
   "cell_type": "code",
   "execution_count": 73,
   "metadata": {},
   "outputs": [
    {
     "ename": "AttributeError",
     "evalue": "module 'seaborn' has no attribute 'lineplot'",
     "output_type": "error",
     "traceback": [
      "\u001b[1;31m---------------------------------------------------------------------------\u001b[0m",
      "\u001b[1;31mAttributeError\u001b[0m                            Traceback (most recent call last)",
      "\u001b[1;32m<ipython-input-73-bf06e538a027>\u001b[0m in \u001b[0;36m<module>\u001b[1;34m()\u001b[0m\n\u001b[1;32m----> 1\u001b[1;33m \u001b[0max\u001b[0m \u001b[1;33m=\u001b[0m \u001b[0msns\u001b[0m\u001b[1;33m.\u001b[0m\u001b[0mlineplot\u001b[0m\u001b[1;33m(\u001b[0m\u001b[0mx\u001b[0m\u001b[1;33m=\u001b[0m\u001b[1;34m\"timepoint\"\u001b[0m\u001b[1;33m,\u001b[0m \u001b[0my\u001b[0m\u001b[1;33m=\u001b[0m\u001b[1;34m\"signal\"\u001b[0m\u001b[1;33m,\u001b[0m \u001b[0mhue\u001b[0m\u001b[1;33m=\u001b[0m\u001b[1;34m\"event\"\u001b[0m\u001b[1;33m,\u001b[0m \u001b[0mstyle\u001b[0m\u001b[1;33m=\u001b[0m\u001b[1;34m\"event\"\u001b[0m\u001b[1;33m,\u001b[0m\u001b[0mmarkers\u001b[0m\u001b[1;33m=\u001b[0m\u001b[1;32mTrue\u001b[0m\u001b[1;33m,\u001b[0m \u001b[0mdashes\u001b[0m\u001b[1;33m=\u001b[0m\u001b[1;32mFalse\u001b[0m\u001b[1;33m,\u001b[0m \u001b[0mdata\u001b[0m\u001b[1;33m=\u001b[0m\u001b[0mfmri\u001b[0m\u001b[1;33m)\u001b[0m\u001b[1;33m\u001b[0m\u001b[0m\n\u001b[0m",
      "\u001b[1;31mAttributeError\u001b[0m: module 'seaborn' has no attribute 'lineplot'"
     ]
    }
   ],
   "source": [
    "# ax = sns.lineplot(x=\"timepoint\", y=\"signal\", hue=\"event\", style=\"event\",markers=True, dashes=False, data=fmri)"
   ]
  },
  {
   "cell_type": "code",
   "execution_count": 152,
   "metadata": {},
   "outputs": [
    {
     "data": {
      "text/plain": [
       "0.7700390707614903"
      ]
     },
     "execution_count": 152,
     "metadata": {},
     "output_type": "execute_result"
    }
   ],
   "source": [
    "max(max(train_acc), max(test_acc))"
   ]
  },
  {
   "cell_type": "code",
   "execution_count": 170,
   "metadata": {},
   "outputs": [
    {
     "data": {
      "image/png": "[encoded data removed]",
      "text/plain": [
       "<Figure size 432x288 with 1 Axes>"
      ]
     },
     "metadata": {},
     "output_type": "display_data"
    }
   ],
   "source": [
    "# Plot Train and Test accuracy\n",
    "train_acc = [val[0] for key, val in accuracy.items()]\n",
    "test_acc = [val[1] for key, val in accuracy.items()]\n",
    "x_axis = [key for key, val in accuracy.items()]\n",
    "plt.plot( x_axis, train_acc)\n",
    "plt.plot( x_axis, test_acc)\n",
    "plt.ylabel('XGB Train/Test Accuracy')\n",
    "plt.xlabel('$n^{th}$ day prediction')\n",
    "plt.legend([\"train_accuracy\", \"test_accuracy\"])\n",
    "plt.tight_layout()\n",
    "plt.savefig('train_test_accuracy.png')"
   ]
  },
  {
   "cell_type": "code",
   "execution_count": 171,
   "metadata": {},
   "outputs": [
    {
     "data": {
      "image/png": "[encoded data removed]",
      "text/plain": [
       "<Figure size 432x288 with 1 Axes>"
      ]
     },
     "metadata": {},
     "output_type": "display_data"
    }
   ],
   "source": [
    "# Plot TPR and TNR accuracy\n",
    "tpr_acc = [val[2] for key, val in accuracy.items()]\n",
    "tnr_acc = [val[3] for key, val in accuracy.items()]\n",
    "x_axis = [key for key, val in accuracy.items()]\n",
    "plt.plot( x_axis, tpr_acc)\n",
    "plt.plot( x_axis, tnr_acc)\n",
    "plt.ylabel('XGB TPR/TNR')\n",
    "plt.xlabel('$n^{th}$ day prediction')\n",
    "plt.legend([\"TPR\", \"TNR\"])\n",
    "plt.tight_layout()\n",
    "plt.savefig('tpr_tnr.png')"
   ]
  },
  {
   "cell_type": "code",
   "execution_count": 172,
   "metadata": {},
   "outputs": [
    {
     "data": {
      "image/png": "[encoded data removed]",
      "text/plain": [
       "<Figure size 432x288 with 1 Axes>"
      ]
     },
     "metadata": {},
     "output_type": "display_data"
    }
   ],
   "source": [
    "# Plot Test Accuracy\n",
    "plotdata = []\n",
    "plotdata.append([key for key, val in accuracy.items()])\n",
    "plotdata.append([val[0] for key, val in accuracy.items()])\n",
    "plt.plot(plotdata[0], plotdata[1])\n",
    "plt.axis([min(plotdata[0]), max(plotdata[0]), min(plotdata[1]), max(plotdata[1])])\n",
    "plt.ylabel('XGB Test Accuracy')\n",
    "plt.xlabel('$n^{th}$ day prediction')\n",
    "plt.show()"
   ]
  },
  {
   "cell_type": "markdown",
   "metadata": {},
   "source": [
    "### Validation Curve"
   ]
  },
  {
   "cell_type": "code",
   "execution_count": 191,
   "metadata": {},
   "outputs": [],
   "source": [
    "# Validation Curve\n",
    "from sklearn.model_selection import validation_curve\n",
    "import matplotlib.pyplot as plt"
   ]
  },
  {
   "cell_type": "code",
   "execution_count": 193,
   "metadata": {},
   "outputs": [],
   "source": [
    "xgb_vc = xgb.XGBClassifier(n_jobs=4,\n",
    "                         objective='binary:logistic',\n",
    "                        random_state=300)\n",
    "\n",
    "X_train = market_train[feature_columns].values\n",
    "X_test = market_test[feature_columns].values\n",
    "\n",
    "up_train = market_train['returnsOpenNextMktres10'].map(lambda x: 0 if x<0 else 1).values\n",
    "up_test = market_test['returnsOpenNextMktres10'].map(lambda x: 0 if x<0 else 1).values\n",
    "Y_train = up_train\n",
    "Y_test = up_test\n"
   ]
  },
  {
   "cell_type": "code",
   "execution_count": 195,
   "metadata": {},
   "outputs": [
    {
     "ename": "KeyboardInterrupt",
     "evalue": "",
     "output_type": "error",
     "traceback": [
      "\u001b[1;31m---------------------------------------------------------------------------\u001b[0m",
      "\u001b[1;31mKeyboardInterrupt\u001b[0m                         Traceback (most recent call last)",
      "\u001b[1;32m<ipython-input-195-f6de12223650>\u001b[0m in \u001b[0;36m<module>\u001b[1;34m()\u001b[0m\n\u001b[0;32m      1\u001b[0m \u001b[1;31m# n_estimators\u001b[0m\u001b[1;33m\u001b[0m\u001b[1;33m\u001b[0m\u001b[0m\n\u001b[0;32m      2\u001b[0m \u001b[0mn_estimators_range\u001b[0m \u001b[1;33m=\u001b[0m \u001b[1;33m[\u001b[0m\u001b[1;36m500\u001b[0m\u001b[1;33m,\u001b[0m \u001b[1;36m1000\u001b[0m\u001b[1;33m,\u001b[0m \u001b[1;36m2000\u001b[0m\u001b[1;33m,\u001b[0m \u001b[1;36m5000\u001b[0m\u001b[1;33m]\u001b[0m\u001b[1;33m\u001b[0m\u001b[0m\n\u001b[1;32m----> 3\u001b[1;33m \u001b[0mtrain_scores\u001b[0m\u001b[1;33m,\u001b[0m \u001b[0mtest_scores\u001b[0m \u001b[1;33m=\u001b[0m \u001b[0mvalidation_curve\u001b[0m\u001b[1;33m(\u001b[0m\u001b[0mxgb_vc\u001b[0m\u001b[1;33m,\u001b[0m \u001b[0mX_train\u001b[0m\u001b[1;33m,\u001b[0m \u001b[0mY_train\u001b[0m\u001b[1;33m,\u001b[0m \u001b[0mparam_name\u001b[0m\u001b[1;33m=\u001b[0m\u001b[1;34m\"n_estimators\"\u001b[0m\u001b[1;33m,\u001b[0m \u001b[0mparam_range\u001b[0m\u001b[1;33m=\u001b[0m\u001b[0mn_estimators_range\u001b[0m\u001b[1;33m,\u001b[0m \u001b[0mcv\u001b[0m\u001b[1;33m=\u001b[0m\u001b[1;36m5\u001b[0m\u001b[1;33m)\u001b[0m\u001b[1;33m\u001b[0m\u001b[0m\n\u001b[0m\u001b[0;32m      4\u001b[0m \u001b[1;33m\u001b[0m\u001b[0m\n\u001b[0;32m      5\u001b[0m \u001b[0mplt\u001b[0m\u001b[1;33m.\u001b[0m\u001b[0mfigure\u001b[0m\u001b[1;33m(\u001b[0m\u001b[1;33m)\u001b[0m\u001b[1;33m\u001b[0m\u001b[0m\n",
      "\u001b[1;32m~\\AppData\\Local\\Continuum\\anaconda3\\lib\\site-packages\\sklearn\\model_selection\\_validation.py\u001b[0m in \u001b[0;36mvalidation_curve\u001b[1;34m(estimator, X, y, param_name, param_range, groups, cv, scoring, n_jobs, pre_dispatch, verbose)\u001b[0m\n\u001b[0;32m   1309\u001b[0m         parameters={param_name: v}, fit_params=None, return_train_score=True)\n\u001b[0;32m   1310\u001b[0m         \u001b[1;31m# NOTE do not change order of iteration to allow one time cv splitters\u001b[0m\u001b[1;33m\u001b[0m\u001b[1;33m\u001b[0m\u001b[0m\n\u001b[1;32m-> 1311\u001b[1;33m         for train, test in cv.split(X, y, groups) for v in param_range)\n\u001b[0m\u001b[0;32m   1312\u001b[0m     \u001b[0mout\u001b[0m \u001b[1;33m=\u001b[0m \u001b[0mnp\u001b[0m\u001b[1;33m.\u001b[0m\u001b[0masarray\u001b[0m\u001b[1;33m(\u001b[0m\u001b[0mout\u001b[0m\u001b[1;33m)\u001b[0m\u001b[1;33m\u001b[0m\u001b[0m\n\u001b[0;32m   1313\u001b[0m     \u001b[0mn_params\u001b[0m \u001b[1;33m=\u001b[0m \u001b[0mlen\u001b[0m\u001b[1;33m(\u001b[0m\u001b[0mparam_range\u001b[0m\u001b[1;33m)\u001b[0m\u001b[1;33m\u001b[0m\u001b[0m\n",
      "\u001b[1;32m~\\AppData\\Local\\Continuum\\anaconda3\\lib\\site-packages\\sklearn\\externals\\joblib\\parallel.py\u001b[0m in \u001b[0;36m__call__\u001b[1;34m(self, iterable)\u001b[0m\n\u001b[0;32m    777\u001b[0m             \u001b[1;31m# was dispatched. In particular this covers the edge\u001b[0m\u001b[1;33m\u001b[0m\u001b[1;33m\u001b[0m\u001b[0m\n\u001b[0;32m    778\u001b[0m             \u001b[1;31m# case of Parallel used with an exhausted iterator.\u001b[0m\u001b[1;33m\u001b[0m\u001b[1;33m\u001b[0m\u001b[0m\n\u001b[1;32m--> 779\u001b[1;33m             \u001b[1;32mwhile\u001b[0m \u001b[0mself\u001b[0m\u001b[1;33m.\u001b[0m\u001b[0mdispatch_one_batch\u001b[0m\u001b[1;33m(\u001b[0m\u001b[0miterator\u001b[0m\u001b[1;33m)\u001b[0m\u001b[1;33m:\u001b[0m\u001b[1;33m\u001b[0m\u001b[0m\n\u001b[0m\u001b[0;32m    780\u001b[0m                 \u001b[0mself\u001b[0m\u001b[1;33m.\u001b[0m\u001b[0m_iterating\u001b[0m \u001b[1;33m=\u001b[0m \u001b[1;32mTrue\u001b[0m\u001b[1;33m\u001b[0m\u001b[0m\n\u001b[0;32m    781\u001b[0m             \u001b[1;32melse\u001b[0m\u001b[1;33m:\u001b[0m\u001b[1;33m\u001b[0m\u001b[0m\n",
      "\u001b[1;32m~\\AppData\\Local\\Continuum\\anaconda3\\lib\\site-packages\\sklearn\\externals\\joblib\\parallel.py\u001b[0m in \u001b[0;36mdispatch_one_batch\u001b[1;34m(self, iterator)\u001b[0m\n\u001b[0;32m    623\u001b[0m                 \u001b[1;32mreturn\u001b[0m \u001b[1;32mFalse\u001b[0m\u001b[1;33m\u001b[0m\u001b[0m\n\u001b[0;32m    624\u001b[0m             \u001b[1;32melse\u001b[0m\u001b[1;33m:\u001b[0m\u001b[1;33m\u001b[0m\u001b[0m\n\u001b[1;32m--> 625\u001b[1;33m                 \u001b[0mself\u001b[0m\u001b[1;33m.\u001b[0m\u001b[0m_dispatch\u001b[0m\u001b[1;33m(\u001b[0m\u001b[0mtasks\u001b[0m\u001b[1;33m)\u001b[0m\u001b[1;33m\u001b[0m\u001b[0m\n\u001b[0m\u001b[0;32m    626\u001b[0m                 \u001b[1;32mreturn\u001b[0m \u001b[1;32mTrue\u001b[0m\u001b[1;33m\u001b[0m\u001b[0m\n\u001b[0;32m    627\u001b[0m \u001b[1;33m\u001b[0m\u001b[0m\n",
      "\u001b[1;32m~\\AppData\\Local\\Continuum\\anaconda3\\lib\\site-packages\\sklearn\\externals\\joblib\\parallel.py\u001b[0m in \u001b[0;36m_dispatch\u001b[1;34m(self, batch)\u001b[0m\n\u001b[0;32m    586\u001b[0m         \u001b[0mdispatch_timestamp\u001b[0m \u001b[1;33m=\u001b[0m \u001b[0mtime\u001b[0m\u001b[1;33m.\u001b[0m\u001b[0mtime\u001b[0m\u001b[1;33m(\u001b[0m\u001b[1;33m)\u001b[0m\u001b[1;33m\u001b[0m\u001b[0m\n\u001b[0;32m    587\u001b[0m         \u001b[0mcb\u001b[0m \u001b[1;33m=\u001b[0m \u001b[0mBatchCompletionCallBack\u001b[0m\u001b[1;33m(\u001b[0m\u001b[0mdispatch_timestamp\u001b[0m\u001b[1;33m,\u001b[0m \u001b[0mlen\u001b[0m\u001b[1;33m(\u001b[0m\u001b[0mbatch\u001b[0m\u001b[1;33m)\u001b[0m\u001b[1;33m,\u001b[0m \u001b[0mself\u001b[0m\u001b[1;33m)\u001b[0m\u001b[1;33m\u001b[0m\u001b[0m\n\u001b[1;32m--> 588\u001b[1;33m         \u001b[0mjob\u001b[0m \u001b[1;33m=\u001b[0m \u001b[0mself\u001b[0m\u001b[1;33m.\u001b[0m\u001b[0m_backend\u001b[0m\u001b[1;33m.\u001b[0m\u001b[0mapply_async\u001b[0m\u001b[1;33m(\u001b[0m\u001b[0mbatch\u001b[0m\u001b[1;33m,\u001b[0m \u001b[0mcallback\u001b[0m\u001b[1;33m=\u001b[0m\u001b[0mcb\u001b[0m\u001b[1;33m)\u001b[0m\u001b[1;33m\u001b[0m\u001b[0m\n\u001b[0m\u001b[0;32m    589\u001b[0m         \u001b[0mself\u001b[0m\u001b[1;33m.\u001b[0m\u001b[0m_jobs\u001b[0m\u001b[1;33m.\u001b[0m\u001b[0mappend\u001b[0m\u001b[1;33m(\u001b[0m\u001b[0mjob\u001b[0m\u001b[1;33m)\u001b[0m\u001b[1;33m\u001b[0m\u001b[0m\n\u001b[0;32m    590\u001b[0m \u001b[1;33m\u001b[0m\u001b[0m\n",
      "\u001b[1;32m~\\AppData\\Local\\Continuum\\anaconda3\\lib\\site-packages\\sklearn\\externals\\joblib\\_parallel_backends.py\u001b[0m in \u001b[0;36mapply_async\u001b[1;34m(self, func, callback)\u001b[0m\n\u001b[0;32m    109\u001b[0m     \u001b[1;32mdef\u001b[0m \u001b[0mapply_async\u001b[0m\u001b[1;33m(\u001b[0m\u001b[0mself\u001b[0m\u001b[1;33m,\u001b[0m \u001b[0mfunc\u001b[0m\u001b[1;33m,\u001b[0m \u001b[0mcallback\u001b[0m\u001b[1;33m=\u001b[0m\u001b[1;32mNone\u001b[0m\u001b[1;33m)\u001b[0m\u001b[1;33m:\u001b[0m\u001b[1;33m\u001b[0m\u001b[0m\n\u001b[0;32m    110\u001b[0m         \u001b[1;34m\"\"\"Schedule a func to be run\"\"\"\u001b[0m\u001b[1;33m\u001b[0m\u001b[0m\n\u001b[1;32m--> 111\u001b[1;33m         \u001b[0mresult\u001b[0m \u001b[1;33m=\u001b[0m \u001b[0mImmediateResult\u001b[0m\u001b[1;33m(\u001b[0m\u001b[0mfunc\u001b[0m\u001b[1;33m)\u001b[0m\u001b[1;33m\u001b[0m\u001b[0m\n\u001b[0m\u001b[0;32m    112\u001b[0m         \u001b[1;32mif\u001b[0m \u001b[0mcallback\u001b[0m\u001b[1;33m:\u001b[0m\u001b[1;33m\u001b[0m\u001b[0m\n\u001b[0;32m    113\u001b[0m             \u001b[0mcallback\u001b[0m\u001b[1;33m(\u001b[0m\u001b[0mresult\u001b[0m\u001b[1;33m)\u001b[0m\u001b[1;33m\u001b[0m\u001b[0m\n",
      "\u001b[1;32m~\\AppData\\Local\\Continuum\\anaconda3\\lib\\site-packages\\sklearn\\externals\\joblib\\_parallel_backends.py\u001b[0m in \u001b[0;36m__init__\u001b[1;34m(self, batch)\u001b[0m\n\u001b[0;32m    330\u001b[0m         \u001b[1;31m# Don't delay the application, to avoid keeping the input\u001b[0m\u001b[1;33m\u001b[0m\u001b[1;33m\u001b[0m\u001b[0m\n\u001b[0;32m    331\u001b[0m         \u001b[1;31m# arguments in memory\u001b[0m\u001b[1;33m\u001b[0m\u001b[1;33m\u001b[0m\u001b[0m\n\u001b[1;32m--> 332\u001b[1;33m         \u001b[0mself\u001b[0m\u001b[1;33m.\u001b[0m\u001b[0mresults\u001b[0m \u001b[1;33m=\u001b[0m \u001b[0mbatch\u001b[0m\u001b[1;33m(\u001b[0m\u001b[1;33m)\u001b[0m\u001b[1;33m\u001b[0m\u001b[0m\n\u001b[0m\u001b[0;32m    333\u001b[0m \u001b[1;33m\u001b[0m\u001b[0m\n\u001b[0;32m    334\u001b[0m     \u001b[1;32mdef\u001b[0m \u001b[0mget\u001b[0m\u001b[1;33m(\u001b[0m\u001b[0mself\u001b[0m\u001b[1;33m)\u001b[0m\u001b[1;33m:\u001b[0m\u001b[1;33m\u001b[0m\u001b[0m\n",
      "\u001b[1;32m~\\AppData\\Local\\Continuum\\anaconda3\\lib\\site-packages\\sklearn\\externals\\joblib\\parallel.py\u001b[0m in \u001b[0;36m__call__\u001b[1;34m(self)\u001b[0m\n\u001b[0;32m    129\u001b[0m \u001b[1;33m\u001b[0m\u001b[0m\n\u001b[0;32m    130\u001b[0m     \u001b[1;32mdef\u001b[0m \u001b[0m__call__\u001b[0m\u001b[1;33m(\u001b[0m\u001b[0mself\u001b[0m\u001b[1;33m)\u001b[0m\u001b[1;33m:\u001b[0m\u001b[1;33m\u001b[0m\u001b[0m\n\u001b[1;32m--> 131\u001b[1;33m         \u001b[1;32mreturn\u001b[0m \u001b[1;33m[\u001b[0m\u001b[0mfunc\u001b[0m\u001b[1;33m(\u001b[0m\u001b[1;33m*\u001b[0m\u001b[0margs\u001b[0m\u001b[1;33m,\u001b[0m \u001b[1;33m**\u001b[0m\u001b[0mkwargs\u001b[0m\u001b[1;33m)\u001b[0m \u001b[1;32mfor\u001b[0m \u001b[0mfunc\u001b[0m\u001b[1;33m,\u001b[0m \u001b[0margs\u001b[0m\u001b[1;33m,\u001b[0m \u001b[0mkwargs\u001b[0m \u001b[1;32min\u001b[0m \u001b[0mself\u001b[0m\u001b[1;33m.\u001b[0m\u001b[0mitems\u001b[0m\u001b[1;33m]\u001b[0m\u001b[1;33m\u001b[0m\u001b[0m\n\u001b[0m\u001b[0;32m    132\u001b[0m \u001b[1;33m\u001b[0m\u001b[0m\n\u001b[0;32m    133\u001b[0m     \u001b[1;32mdef\u001b[0m \u001b[0m__len__\u001b[0m\u001b[1;33m(\u001b[0m\u001b[0mself\u001b[0m\u001b[1;33m)\u001b[0m\u001b[1;33m:\u001b[0m\u001b[1;33m\u001b[0m\u001b[0m\n",
      "\u001b[1;32m~\\AppData\\Local\\Continuum\\anaconda3\\lib\\site-packages\\sklearn\\externals\\joblib\\parallel.py\u001b[0m in \u001b[0;36m<listcomp>\u001b[1;34m(.0)\u001b[0m\n\u001b[0;32m    129\u001b[0m \u001b[1;33m\u001b[0m\u001b[0m\n\u001b[0;32m    130\u001b[0m     \u001b[1;32mdef\u001b[0m \u001b[0m__call__\u001b[0m\u001b[1;33m(\u001b[0m\u001b[0mself\u001b[0m\u001b[1;33m)\u001b[0m\u001b[1;33m:\u001b[0m\u001b[1;33m\u001b[0m\u001b[0m\n\u001b[1;32m--> 131\u001b[1;33m         \u001b[1;32mreturn\u001b[0m \u001b[1;33m[\u001b[0m\u001b[0mfunc\u001b[0m\u001b[1;33m(\u001b[0m\u001b[1;33m*\u001b[0m\u001b[0margs\u001b[0m\u001b[1;33m,\u001b[0m \u001b[1;33m**\u001b[0m\u001b[0mkwargs\u001b[0m\u001b[1;33m)\u001b[0m \u001b[1;32mfor\u001b[0m \u001b[0mfunc\u001b[0m\u001b[1;33m,\u001b[0m \u001b[0margs\u001b[0m\u001b[1;33m,\u001b[0m \u001b[0mkwargs\u001b[0m \u001b[1;32min\u001b[0m \u001b[0mself\u001b[0m\u001b[1;33m.\u001b[0m\u001b[0mitems\u001b[0m\u001b[1;33m]\u001b[0m\u001b[1;33m\u001b[0m\u001b[0m\n\u001b[0m\u001b[0;32m    132\u001b[0m \u001b[1;33m\u001b[0m\u001b[0m\n\u001b[0;32m    133\u001b[0m     \u001b[1;32mdef\u001b[0m \u001b[0m__len__\u001b[0m\u001b[1;33m(\u001b[0m\u001b[0mself\u001b[0m\u001b[1;33m)\u001b[0m\u001b[1;33m:\u001b[0m\u001b[1;33m\u001b[0m\u001b[0m\n",
      "\u001b[1;32m~\\AppData\\Local\\Continuum\\anaconda3\\lib\\site-packages\\sklearn\\model_selection\\_validation.py\u001b[0m in \u001b[0;36m_fit_and_score\u001b[1;34m(estimator, X, y, scorer, train, test, verbose, parameters, fit_params, return_train_score, return_parameters, return_n_test_samples, return_times, error_score)\u001b[0m\n\u001b[0;32m    456\u001b[0m             \u001b[0mestimator\u001b[0m\u001b[1;33m.\u001b[0m\u001b[0mfit\u001b[0m\u001b[1;33m(\u001b[0m\u001b[0mX_train\u001b[0m\u001b[1;33m,\u001b[0m \u001b[1;33m**\u001b[0m\u001b[0mfit_params\u001b[0m\u001b[1;33m)\u001b[0m\u001b[1;33m\u001b[0m\u001b[0m\n\u001b[0;32m    457\u001b[0m         \u001b[1;32melse\u001b[0m\u001b[1;33m:\u001b[0m\u001b[1;33m\u001b[0m\u001b[0m\n\u001b[1;32m--> 458\u001b[1;33m             \u001b[0mestimator\u001b[0m\u001b[1;33m.\u001b[0m\u001b[0mfit\u001b[0m\u001b[1;33m(\u001b[0m\u001b[0mX_train\u001b[0m\u001b[1;33m,\u001b[0m \u001b[0my_train\u001b[0m\u001b[1;33m,\u001b[0m \u001b[1;33m**\u001b[0m\u001b[0mfit_params\u001b[0m\u001b[1;33m)\u001b[0m\u001b[1;33m\u001b[0m\u001b[0m\n\u001b[0m\u001b[0;32m    459\u001b[0m \u001b[1;33m\u001b[0m\u001b[0m\n\u001b[0;32m    460\u001b[0m     \u001b[1;32mexcept\u001b[0m \u001b[0mException\u001b[0m \u001b[1;32mas\u001b[0m \u001b[0me\u001b[0m\u001b[1;33m:\u001b[0m\u001b[1;33m\u001b[0m\u001b[0m\n",
      "\u001b[1;32m~\\AppData\\Local\\Continuum\\anaconda3\\lib\\site-packages\\xgboost\\sklearn.py\u001b[0m in \u001b[0;36mfit\u001b[1;34m(self, X, y, sample_weight, eval_set, eval_metric, early_stopping_rounds, verbose, xgb_model, sample_weight_eval_set, callbacks)\u001b[0m\n\u001b[0;32m    698\u001b[0m                               \u001b[0mevals_result\u001b[0m\u001b[1;33m=\u001b[0m\u001b[0mevals_result\u001b[0m\u001b[1;33m,\u001b[0m \u001b[0mobj\u001b[0m\u001b[1;33m=\u001b[0m\u001b[0mobj\u001b[0m\u001b[1;33m,\u001b[0m \u001b[0mfeval\u001b[0m\u001b[1;33m=\u001b[0m\u001b[0mfeval\u001b[0m\u001b[1;33m,\u001b[0m\u001b[1;33m\u001b[0m\u001b[0m\n\u001b[0;32m    699\u001b[0m                               \u001b[0mverbose_eval\u001b[0m\u001b[1;33m=\u001b[0m\u001b[0mverbose\u001b[0m\u001b[1;33m,\u001b[0m \u001b[0mxgb_model\u001b[0m\u001b[1;33m=\u001b[0m\u001b[1;32mNone\u001b[0m\u001b[1;33m,\u001b[0m\u001b[1;33m\u001b[0m\u001b[0m\n\u001b[1;32m--> 700\u001b[1;33m                               callbacks=callbacks)\n\u001b[0m\u001b[0;32m    701\u001b[0m \u001b[1;33m\u001b[0m\u001b[0m\n\u001b[0;32m    702\u001b[0m         \u001b[0mself\u001b[0m\u001b[1;33m.\u001b[0m\u001b[0mobjective\u001b[0m \u001b[1;33m=\u001b[0m \u001b[0mxgb_options\u001b[0m\u001b[1;33m[\u001b[0m\u001b[1;34m\"objective\"\u001b[0m\u001b[1;33m]\u001b[0m\u001b[1;33m\u001b[0m\u001b[0m\n",
      "\u001b[1;32m~\\AppData\\Local\\Continuum\\anaconda3\\lib\\site-packages\\xgboost\\training.py\u001b[0m in \u001b[0;36mtrain\u001b[1;34m(params, dtrain, num_boost_round, evals, obj, feval, maximize, early_stopping_rounds, evals_result, verbose_eval, xgb_model, callbacks, learning_rates)\u001b[0m\n\u001b[0;32m    214\u001b[0m                            \u001b[0mevals\u001b[0m\u001b[1;33m=\u001b[0m\u001b[0mevals\u001b[0m\u001b[1;33m,\u001b[0m\u001b[1;33m\u001b[0m\u001b[0m\n\u001b[0;32m    215\u001b[0m                            \u001b[0mobj\u001b[0m\u001b[1;33m=\u001b[0m\u001b[0mobj\u001b[0m\u001b[1;33m,\u001b[0m \u001b[0mfeval\u001b[0m\u001b[1;33m=\u001b[0m\u001b[0mfeval\u001b[0m\u001b[1;33m,\u001b[0m\u001b[1;33m\u001b[0m\u001b[0m\n\u001b[1;32m--> 216\u001b[1;33m                            xgb_model=xgb_model, callbacks=callbacks)\n\u001b[0m\u001b[0;32m    217\u001b[0m \u001b[1;33m\u001b[0m\u001b[0m\n\u001b[0;32m    218\u001b[0m \u001b[1;33m\u001b[0m\u001b[0m\n",
      "\u001b[1;32m~\\AppData\\Local\\Continuum\\anaconda3\\lib\\site-packages\\xgboost\\training.py\u001b[0m in \u001b[0;36m_train_internal\u001b[1;34m(params, dtrain, num_boost_round, evals, obj, feval, xgb_model, callbacks)\u001b[0m\n\u001b[0;32m     72\u001b[0m         \u001b[1;31m# Skip the first update if it is a recovery step.\u001b[0m\u001b[1;33m\u001b[0m\u001b[1;33m\u001b[0m\u001b[0m\n\u001b[0;32m     73\u001b[0m         \u001b[1;32mif\u001b[0m \u001b[0mversion\u001b[0m \u001b[1;33m%\u001b[0m \u001b[1;36m2\u001b[0m \u001b[1;33m==\u001b[0m \u001b[1;36m0\u001b[0m\u001b[1;33m:\u001b[0m\u001b[1;33m\u001b[0m\u001b[0m\n\u001b[1;32m---> 74\u001b[1;33m             \u001b[0mbst\u001b[0m\u001b[1;33m.\u001b[0m\u001b[0mupdate\u001b[0m\u001b[1;33m(\u001b[0m\u001b[0mdtrain\u001b[0m\u001b[1;33m,\u001b[0m \u001b[0mi\u001b[0m\u001b[1;33m,\u001b[0m \u001b[0mobj\u001b[0m\u001b[1;33m)\u001b[0m\u001b[1;33m\u001b[0m\u001b[0m\n\u001b[0m\u001b[0;32m     75\u001b[0m             \u001b[0mbst\u001b[0m\u001b[1;33m.\u001b[0m\u001b[0msave_rabit_checkpoint\u001b[0m\u001b[1;33m(\u001b[0m\u001b[1;33m)\u001b[0m\u001b[1;33m\u001b[0m\u001b[0m\n\u001b[0;32m     76\u001b[0m             \u001b[0mversion\u001b[0m \u001b[1;33m+=\u001b[0m \u001b[1;36m1\u001b[0m\u001b[1;33m\u001b[0m\u001b[0m\n",
      "\u001b[1;32m~\\AppData\\Local\\Continuum\\anaconda3\\lib\\site-packages\\xgboost\\core.py\u001b[0m in \u001b[0;36mupdate\u001b[1;34m(self, dtrain, iteration, fobj)\u001b[0m\n\u001b[0;32m   1043\u001b[0m         \u001b[1;32mif\u001b[0m \u001b[0mfobj\u001b[0m \u001b[1;32mis\u001b[0m \u001b[1;32mNone\u001b[0m\u001b[1;33m:\u001b[0m\u001b[1;33m\u001b[0m\u001b[0m\n\u001b[0;32m   1044\u001b[0m             _check_call(_LIB.XGBoosterUpdateOneIter(self.handle, ctypes.c_int(iteration),\n\u001b[1;32m-> 1045\u001b[1;33m                                                     dtrain.handle))\n\u001b[0m\u001b[0;32m   1046\u001b[0m         \u001b[1;32melse\u001b[0m\u001b[1;33m:\u001b[0m\u001b[1;33m\u001b[0m\u001b[0m\n\u001b[0;32m   1047\u001b[0m             \u001b[0mpred\u001b[0m \u001b[1;33m=\u001b[0m \u001b[0mself\u001b[0m\u001b[1;33m.\u001b[0m\u001b[0mpredict\u001b[0m\u001b[1;33m(\u001b[0m\u001b[0mdtrain\u001b[0m\u001b[1;33m)\u001b[0m\u001b[1;33m\u001b[0m\u001b[0m\n",
      "\u001b[1;31mKeyboardInterrupt\u001b[0m: "
     ]
    }
   ],
   "source": [
    "# n_estimators\n",
    "n_estimators_range = [500, 1000, 2000, 5000]\n",
    "train_scores, test_scores = validation_curve(xgb_vc, X_train, Y_train, param_name=\"n_estimators\", param_range=n_estimators_range, cv=5)\n",
    "\n",
    "plt.figure()\n",
    "plt.semilogx(n_estimators_range, np.mean(train_scores, axis=1), label='Training score')\n",
    "plt.semilogx(n_estimators_range, np.mean(test_scores, axis=1), label='Cross-validation score')\n",
    "plt.title('Validation curve for XGB')\n",
    "plt.xlabel('n_estimators')\n",
    "plt.ylabel(\"Classification score\")\n",
    "plt.legend(loc=\"best\")\n",
    "plt.grid()\n",
    "#plt.savefig(fig_path + 'dt_validation_curve_1.png')\n",
    "plt.show()\n",
    "\n",
    "# "
   ]
  },
  {
   "cell_type": "code",
   "execution_count": null,
   "metadata": {},
   "outputs": [],
   "source": []
  },
  {
   "cell_type": "code",
   "execution_count": null,
   "metadata": {},
   "outputs": [],
   "source": []
  },
  {
   "cell_type": "code",
   "execution_count": null,
   "metadata": {},
   "outputs": [],
   "source": []
  },
  {
   "cell_type": "markdown",
   "metadata": {},
   "source": [
    "# For Viz"
   ]
  },
  {
   "cell_type": "code",
   "execution_count": 246,
   "metadata": {},
   "outputs": [],
   "source": [
    "mm1 = news_data[(news_data['assetName'].str.contains(\"Facebook\")) & (news_data['time'] == datetime.date(2012,8,16))].copy()\n",
    "mm2 = market_data[(market_data['assetName'] == 'Facebook Inc') & (market_data['time'] == datetime.date(2012,8,16))].copy()\n",
    "# mm1.groupby(['time','assetName'], as_index=False).mean()\n",
    "# mm1['assetCodes'].map(lambda x: list(eval(x))[0])\n",
    "# market_news[(market_news['rel_firstMention_3_1'] > 0) & (market_news['rel_firstMention_3_1'] < 1)]"
   ]
  },
  {
   "cell_type": "code",
   "execution_count": 247,
   "metadata": {},
   "outputs": [],
   "source": [
    "mm1['returnsOpenPrevMktres1'] = float(mm2['returnsOpenPrevMktres1'])\n",
    "mm1['returnsOpenPrevMktres10'] = float(mm2['returnsOpenPrevMktres10'])"
   ]
  },
  {
   "cell_type": "code",
   "execution_count": 252,
   "metadata": {},
   "outputs": [],
   "source": [
    "# mm1"
   ]
  },
  {
   "cell_type": "code",
   "execution_count": 169,
   "metadata": {},
   "outputs": [],
   "source": [
    "given_cols = ['time', 'headline', 'urgency', 'sentenceCount', 'wordCount', 'assetName', 'firstMentionSentence',\n",
    "          'relevance', 'sentimentClass','sentimentWordCount','rel_firstMention', 'rel_SentCount',\n",
    "              'returnsOpenPrevMktres1','returnsOpenPrevMktres10']\n",
    "given_idx = [i for i, val in enumerate(given_cols)]\n",
    "given_records = [] # Where the original record will go"
   ]
  },
  {
   "cell_type": "code",
   "execution_count": null,
   "metadata": {},
   "outputs": [],
   "source": [
    "given_data = pd.DataFrame(given_records, columns = given_cols)"
   ]
  },
  {
   "cell_type": "code",
   "execution_count": 250,
   "metadata": {},
   "outputs": [],
   "source": [
    "mm1['returnsOpenPrevMktres1_dir'] = mm1['returnsOpenPrevMktres1'].apply(lambda x: 0 if x<0 else 1)\n",
    "mm1['returnsOpenPrevMktres10_dir'] = mm1['returnsOpenPrevMktres10'].apply(lambda x: 0 if x<0 else 1)"
   ]
  },
  {
   "cell_type": "code",
   "execution_count": null,
   "metadata": {},
   "outputs": [],
   "source": [
    "range_sent = given_data['sentimentClass'].unique()\n",
    "range_urg = given_data['urgency'].unique()\n",
    "# print(\"Unique Sentiment Values : {}\".format(range_sent))\n",
    "# print(\"Unique Urgency Values:  {}\".format(range_urg))\n",
    "\n",
    "cols_filtered = ['rel_firstMention', 'rel_SentCount', 'relevance', 'firstMentionSentence', \n",
    "           'sentenceCount', 'sentimentWordCount', 'wordCount']\n",
    "for i in range_sent:\n",
    "    for j in range_urg:\n",
    "        for col in cols_filtered:\n",
    "            new_col = col + \"_\" + str(j) + '_' + str(i)\n",
    "            given_data[new_col] = 0.0\n",
    "            given_data.loc[((given_data['sentimentClass'] == i)  & (given_data['urgency'] == j)),new_col] = \\\n",
    "                given_data.loc[((given_data['sentimentClass'] == i)  & (given_data['urgency'] == j)),col]\n",
    "given_data.drop(labels=cols_filtered + ['urgency','sentimentClass'], axis=1, inplace=True)\n",
    "gc.collect()\n",
    "print(\"Given data Shape : {}\".format(given_data.shape))"
   ]
  },
  {
   "cell_type": "code",
   "execution_count": 255,
   "metadata": {},
   "outputs": [],
   "source": [
    "req_feature_columns = [ 'returnsOpenPrevMktres1_dir', 'returnsOpenPrevMktres10_dir', \n",
    "                   'relevance_1_1', 'firstMentionSentence_1_1', \n",
    "        'sentimentWordCount_1_1', \n",
    "       'relevance_3_1', 'firstMentionSentence_3_1', 'sentimentWordCount_3_1',\n",
    "       'relevance_1_0', 'firstMentionSentence_1_0', \n",
    "       'sentimentWordCount_1_0', 'relevance_3_0',\n",
    "       'firstMentionSentence_3_0', 'sentimentWordCount_3_0', \n",
    "       'relevance_1_-1', 'firstMentionSentence_1_-1',\n",
    "       'sentimentWordCount_1_-1',\n",
    "       'relevance_3_-1', \n",
    "       'firstMentionSentence_3_-1', \n",
    "       'sentimentWordCount_3_-1', \n",
    "        'rel_SentCount_1_1', 'rel_SentCount_3_1', 'rel_firstMention_1_1', 'rel_firstMention_3_1', \n",
    "        'rel_firstMention_1_0', 'rel_SentCount_1_0', 'rel_firstMention_3_0', 'rel_firstMention_1_-1', \n",
    "        'rel_SentCount_3_0', 'rel_SentCount_1_-1', 'rel_firstMention_3_-1', 'rel_SentCount_3_-1']"
   ]
  },
  {
   "cell_type": "code",
   "execution_count": 262,
   "metadata": {},
   "outputs": [],
   "source": [
    "given_X_train = mm1[req_feature_columns].values"
   ]
  },
  {
   "cell_type": "code",
   "execution_count": 263,
   "metadata": {},
   "outputs": [],
   "source": [
    "given_Y_predict = loaded_model.predict(given_X_train)"
   ]
  },
  {
   "cell_type": "code",
   "execution_count": 264,
   "metadata": {},
   "outputs": [
    {
     "data": {
      "text/plain": [
       "(38,)"
      ]
     },
     "execution_count": 264,
     "metadata": {},
     "output_type": "execute_result"
    }
   ],
   "source": [
    "given_Y_predict.shape"
   ]
  },
  {
   "cell_type": "code",
   "execution_count": 267,
   "metadata": {},
   "outputs": [],
   "source": [
    "given_X_train_mean = mm1.groupby(['time','assetName'], as_index=False).mean()[req_feature_columns].values"
   ]
  },
  {
   "cell_type": "code",
   "execution_count": 269,
   "metadata": {},
   "outputs": [],
   "source": [
    "given_Y_predict_mean = loaded_model.predict(given_X_train_mean)"
   ]
  },
  {
   "cell_type": "code",
   "execution_count": 270,
   "metadata": {},
   "outputs": [
    {
     "data": {
      "text/plain": [
       "array([1], dtype=int64)"
      ]
     },
     "execution_count": 270,
     "metadata": {},
     "output_type": "execute_result"
    }
   ],
   "source": [
    "given_Y_predict_mean"
   ]
  },
  {
   "cell_type": "code",
   "execution_count": null,
   "metadata": {},
   "outputs": [],
   "source": []
  },
  {
   "cell_type": "code",
   "execution_count": null,
   "metadata": {},
   "outputs": [],
   "source": []
  },
  {
   "cell_type": "markdown",
   "metadata": {},
   "source": [
    "## Model training PCA + NN"
   ]
  },
  {
   "cell_type": "code",
   "execution_count": null,
   "metadata": {},
   "outputs": [],
   "source": [
    "from sklearn.preprocessing import StandardScaler\n",
    "from sklearn.neural_network import MLPClassifier\n",
    "from sklearn.metrics import accuracy_score\n",
    "from sklearn.decomposition import PCA\n",
    "from sklearn.model_selection import GridSearchCV"
   ]
  },
  {
   "cell_type": "code",
   "execution_count": null,
   "metadata": {},
   "outputs": [],
   "source": [
    "scaler = StandardScaler()\n",
    "x_train = scaler.fit_transform(X_train)\n",
    "pca = PCA()\n",
    "pca.fit(x_train)"
   ]
  },
  {
   "cell_type": "code",
   "execution_count": null,
   "metadata": {},
   "outputs": [],
   "source": [
    "cum_variance = pca.explained_variance_ratio_.cumsum()\n",
    "plt.title('Cumulative Explained Variance Vs Number of components')\n",
    "plt.xlabel('Number of components')\n",
    "plt.ylabel('Cumulative Explained Variance')\n",
    "plt.xticks(range(0,100,5))\n",
    "plt.yticks(np.arange(0, 1.1, step=0.1))\n",
    "plt.plot(cum_variance)\n",
    "plt.show()\n",
    "comp = np.where(np.min(cum_variance[cum_variance > 0.98]) == cum_variance)\n",
    "print(\"Number of components which are explaining atleast 98% variance : {}\".format(comp[0][0]))\n",
    "comp = np.where(np.min(cum_variance[cum_variance > 0.95]) == cum_variance)\n",
    "print(\"Number of components which are explaining atleast 95% variance : {}\".format(comp[0][0]))\n",
    "comp = np.where(np.min(cum_variance[cum_variance > 0.90]) == cum_variance)\n",
    "print(\"Number of components which are explaining atleast 90% variance : {}\".format(comp[0][0]))\n",
    "## 40 com"
   ]
  },
  {
   "cell_type": "code",
   "execution_count": null,
   "metadata": {},
   "outputs": [],
   "source": [
    "#market_train[feature_columns] = market_train[feature_columns].fillna(0)\n",
    "#print('scaling numerical columns')\n",
    "#market_train[feature_columns] = scaler.fit_transform(market_train[feature_columns])\n",
    "\n",
    "scaler = StandardScaler()\n",
    "x_train = scaler.fit_transform(X_train)\n",
    "\n",
    "pca = PCA(n_components=25)\n",
    "pca.fit(x_train)\n",
    "x_pca = pca.transform(x_train)"
   ]
  },
  {
   "cell_type": "code",
   "execution_count": null,
   "metadata": {},
   "outputs": [],
   "source": [
    "# Train accuracy\n",
    "mlp = MLPClassifier(hidden_layer_sizes=(50,))\n",
    "\n",
    "mlp.fit(x_pca, Y_train)\n",
    "Y_pred = mlp.predict(x_pca)\n",
    "accuracy_score(Y_train, Y_pred)"
   ]
  },
  {
   "cell_type": "code",
   "execution_count": null,
   "metadata": {},
   "outputs": [],
   "source": [
    "# Test accuracy\n",
    "x_test = scaler.transform(X_test)\n",
    "x_pca = pca.transform(x_test)\n",
    "Y_pred = mlp.predict(x_pca)\n",
    "accuracy_score(Y_test, Y_pred)"
   ]
  },
  {
   "cell_type": "markdown",
   "metadata": {},
   "source": [
    "### Grid Search for hypertuning"
   ]
  },
  {
   "cell_type": "code",
   "execution_count": null,
   "metadata": {},
   "outputs": [],
   "source": [
    "def get_best_model(X,Y):\n",
    "    d = X.shape[1]\n",
    "    hidden_layer = [(h,)*l for l in [1,2,3] for h in [d,d//2,d*2]]\n",
    "    param_grid = {'hidden_layer_sizes': hidden_layer, \\\n",
    "                'learning_rate_init': [0.05, 0.1, 0.5], \\\n",
    "                'max_iter': [500,1000, 2000] }\n",
    "\n",
    "    model = GridSearchCV(estimator = MLPClassifier(activation='relu', learning_rate='constant'), \\\n",
    "                        param_grid=param_grid, cv= 5)\n",
    "    model.fit(X, Y)\n",
    "    print(model.best_params_)\n",
    "    estimator = MLPClassifier(activation='relu', learning_rate='constant', \\\n",
    "                                hidden_layer_sizes=model.best_params_['hidden_layer_sizes'], \\\n",
    "                                learning_rate_init=model.best_params_['learning_rate_init'], \\\n",
    "                                max_iter=model.best_params_['max_iter'])\n",
    "    return estimator"
   ]
  },
  {
   "cell_type": "code",
   "execution_count": null,
   "metadata": {},
   "outputs": [],
   "source": [
    "mlp_f = get_best_model(x_pca, Y_train)"
   ]
  },
  {
   "cell_type": "code",
   "execution_count": null,
   "metadata": {},
   "outputs": [],
   "source": [
    "# Train accuracy with the hypertuned model\n",
    "mlp_f.fit(x_pca, Y_train)\n",
    "Y_pred = mlp.predict(x_pca)\n",
    "accuracy_score(Y_train, Y_pred)"
   ]
  },
  {
   "cell_type": "code",
   "execution_count": null,
   "metadata": {},
   "outputs": [],
   "source": [
    "# Test accuracy with hypertuned model\n",
    "x_test = scaler.transform(X_test)\n",
    "x_pca = pca.transform(x_test)\n",
    "Y_pred = mlp_f.predict(x_pca)\n",
    "accuracy_score(Y_test, Y_pred)"
   ]
  },
  {
   "cell_type": "markdown",
   "metadata": {},
   "source": [
    "### Not good at choosing layers and neurons"
   ]
  },
  {
   "cell_type": "code",
   "execution_count": null,
   "metadata": {},
   "outputs": [],
   "source": []
  },
  {
   "cell_type": "markdown",
   "metadata": {},
   "source": [
    "#### Training, Test Accuracy with different future day prediction\n",
    "    01 : 81.9, 81.6\n",
    "    02 : 76.5, 76.4\n",
    "    04 : 69.4, 69.3\n",
    "    06 : 64.8, 64.6\n",
    "    10 : 55, 54\n"
   ]
  },
  {
   "cell_type": "markdown",
   "metadata": {},
   "source": [
    "#### PCA"
   ]
  },
  {
   "cell_type": "code",
   "execution_count": null,
   "metadata": {},
   "outputs": [],
   "source": []
  },
  {
   "cell_type": "code",
   "execution_count": null,
   "metadata": {},
   "outputs": [],
   "source": []
  },
  {
   "cell_type": "code",
   "execution_count": null,
   "metadata": {},
   "outputs": [],
   "source": []
  },
  {
   "cell_type": "code",
   "execution_count": null,
   "metadata": {},
   "outputs": [],
   "source": []
  },
  {
   "cell_type": "code",
   "execution_count": null,
   "metadata": {},
   "outputs": [],
   "source": []
  },
  {
   "cell_type": "code",
   "execution_count": null,
   "metadata": {},
   "outputs": [],
   "source": []
  },
  {
   "cell_type": "code",
   "execution_count": null,
   "metadata": {},
   "outputs": [],
   "source": []
  },
  {
   "cell_type": "code",
   "execution_count": null,
   "metadata": {},
   "outputs": [],
   "source": []
  },
  {
   "cell_type": "code",
   "execution_count": null,
   "metadata": {},
   "outputs": [],
   "source": []
  },
  {
   "cell_type": "code",
   "execution_count": null,
   "metadata": {},
   "outputs": [],
   "source": []
  },
  {
   "cell_type": "code",
   "execution_count": null,
   "metadata": {},
   "outputs": [],
   "source": []
  },
  {
   "cell_type": "code",
   "execution_count": null,
   "metadata": {},
   "outputs": [],
   "source": [
    "from sklearn.feature_selection import SelectKBest\n",
    "from sklearn.feature_selection import chi2"
   ]
  },
  {
   "cell_type": "code",
   "execution_count": null,
   "metadata": {},
   "outputs": [],
   "source": [
    "chi2_selector = SelectKBest(chi2, k=\"all\")\n",
    "X_kbest = chi2_selector.fit_transform(x_train, Y_train)"
   ]
  },
  {
   "cell_type": "code",
   "execution_count": null,
   "metadata": {},
   "outputs": [],
   "source": []
  },
  {
   "cell_type": "code",
   "execution_count": null,
   "metadata": {},
   "outputs": [],
   "source": []
  },
  {
   "cell_type": "code",
   "execution_count": null,
   "metadata": {},
   "outputs": [],
   "source": []
  },
  {
   "cell_type": "code",
   "execution_count": null,
   "metadata": {},
   "outputs": [],
   "source": []
  },
  {
   "cell_type": "code",
   "execution_count": null,
   "metadata": {},
   "outputs": [],
   "source": []
  },
  {
   "cell_type": "code",
   "execution_count": null,
   "metadata": {},
   "outputs": [],
   "source": []
  },
  {
   "cell_type": "code",
   "execution_count": null,
   "metadata": {},
   "outputs": [],
   "source": []
  },
  {
   "cell_type": "code",
   "execution_count": null,
   "metadata": {},
   "outputs": [],
   "source": [
    "from keras.models import Model\n",
    "from keras.layers import Input, Dense, Embedding, Concatenate, Flatten, BatchNormalization\n",
    "from keras.losses import binary_crossentropy, mse\n",
    "\n",
    "categorical_inputs = []\n",
    "for cat in cat_cols:\n",
    "    categorical_inputs.append(Input(shape=[1], name=cat))\n",
    "\n",
    "categorical_embeddings = []\n",
    "for i, cat in enumerate(cat_cols):\n",
    "    categorical_embeddings.append(Embedding(embed_sizes[i], 10)(categorical_inputs[i]))\n",
    "\n",
    "#categorical_logits = Concatenate()([Flatten()(cat_emb) for cat_emb in categorical_embeddings])\n",
    "categorical_logits = Flatten()(categorical_embeddings[0])\n",
    "categorical_logits = Dense(32,activation='relu')(categorical_logits)\n",
    "\n",
    "numerical_inputs = Input(shape=(11,), name='num')\n",
    "numerical_logits = numerical_inputs\n",
    "numerical_logits = BatchNormalization()(numerical_logits)\n",
    "\n",
    "numerical_logits = Dense(128,activation='relu')(numerical_logits)\n",
    "numerical_logits = Dense(64,activation='relu')(numerical_logits)\n",
    "\n",
    "logits = Concatenate()([numerical_logits,categorical_logits])\n",
    "logits = Dense(64,activation='relu')(logits)\n",
    "out = Dense(1, activation='sigmoid')(logits)\n",
    "\n",
    "model = Model(inputs = categorical_inputs + [numerical_inputs], outputs=out)\n",
    "model.compile(optimizer='adam',loss=binary_crossentropy)\n"
   ]
  },
  {
   "cell_type": "code",
   "execution_count": null,
   "metadata": {},
   "outputs": [],
   "source": []
  },
  {
   "cell_type": "code",
   "execution_count": null,
   "metadata": {},
   "outputs": [],
   "source": []
  },
  {
   "cell_type": "code",
   "execution_count": null,
   "metadata": {},
   "outputs": [],
   "source": []
  },
  {
   "cell_type": "code",
   "execution_count": null,
   "metadata": {},
   "outputs": [],
   "source": []
  },
  {
   "cell_type": "code",
   "execution_count": null,
   "metadata": {},
   "outputs": [],
   "source": []
  },
  {
   "cell_type": "code",
   "execution_count": null,
   "metadata": {},
   "outputs": [],
   "source": []
  },
  {
   "cell_type": "code",
   "execution_count": null,
   "metadata": {},
   "outputs": [],
   "source": [
    "\n",
    "colormap = plt.cm.RdBu\n",
    "plt.figure(figsize=(50,20))\n",
    "sns.heatmap(market_train[heat_col].astype(float).corr(), linewidths=0.1, vmax=1.0, vmin=-1., square=True, cmap=colormap, linecolor='white', annot=True)\n",
    "plt.title('Pair-wise correlation')"
   ]
  },
  {
   "cell_type": "markdown",
   "metadata": {},
   "source": [
    "# Rough Work"
   ]
  },
  {
   "cell_type": "code",
   "execution_count": null,
   "metadata": {},
   "outputs": [],
   "source": []
  },
  {
   "cell_type": "code",
   "execution_count": null,
   "metadata": {},
   "outputs": [],
   "source": []
  },
  {
   "cell_type": "code",
   "execution_count": null,
   "metadata": {},
   "outputs": [],
   "source": []
  },
  {
   "cell_type": "code",
   "execution_count": null,
   "metadata": {},
   "outputs": [],
   "source": []
  },
  {
   "cell_type": "code",
   "execution_count": null,
   "metadata": {},
   "outputs": [],
   "source": []
  },
  {
   "cell_type": "code",
   "execution_count": null,
   "metadata": {},
   "outputs": [],
   "source": []
  },
  {
   "cell_type": "code",
   "execution_count": null,
   "metadata": {},
   "outputs": [],
   "source": []
  },
  {
   "cell_type": "code",
   "execution_count": null,
   "metadata": {},
   "outputs": [],
   "source": []
  },
  {
   "cell_type": "code",
   "execution_count": null,
   "metadata": {},
   "outputs": [],
   "source": []
  },
  {
   "cell_type": "code",
   "execution_count": null,
   "metadata": {},
   "outputs": [],
   "source": []
  },
  {
   "cell_type": "code",
   "execution_count": null,
   "metadata": {},
   "outputs": [],
   "source": []
  },
  {
   "cell_type": "code",
   "execution_count": null,
   "metadata": {},
   "outputs": [],
   "source": [
    "news_data[(news_data['assetName'] == \"Cablevision Systems Corp\") & (news_data['time'] == datetime.datetime.strptime('2010-01-01', \"%Y-%m-%d\").date())]"
   ]
  },
  {
   "cell_type": "code",
   "execution_count": null,
   "metadata": {},
   "outputs": [],
   "source": [
    "news_group = news_data.groupby(['time', 'assetName'])"
   ]
  },
  {
   "cell_type": "code",
   "execution_count": null,
   "metadata": {},
   "outputs": [],
   "source": [
    "news_group[]"
   ]
  },
  {
   "cell_type": "code",
   "execution_count": null,
   "metadata": {},
   "outputs": [],
   "source": [
    "def unstack_asset_codes(news_train):\n",
    "    codes = []\n",
    "    indexes = []\n",
    "    for i, values in news_train['assetCodes'].iteritems():\n",
    "        explode = values.split(\", \")\n",
    "        codes.extend(explode)\n",
    "        repeat_index = [int(i)]*len(explode)\n",
    "        indexes.extend(repeat_index)\n",
    "    index_df = pd.DataFrame({'news_index': indexes, 'assetCode': codes})\n",
    "    del codes, indexes\n",
    "    gc.collect()\n",
    "    return index_df"
   ]
  },
  {
   "cell_type": "code",
   "execution_count": null,
   "metadata": {},
   "outputs": [],
   "source": [
    "index_df = unstack_asset_codes(news_data)\n",
    "index_df.head()"
   ]
  },
  {
   "cell_type": "code",
   "execution_count": null,
   "metadata": {},
   "outputs": [],
   "source": [
    "def merge_news_on_index(news_train, index_df):\n",
    "    news_train['news_index'] = news_train.index.copy()\n",
    "\n",
    "    # Merge news on unstacked assets\n",
    "    news_unstack = index_df.merge(news_train, how='left', on='news_index')\n",
    "    news_unstack.drop(['news_index', 'assetCodes'], axis=1, inplace=True)\n",
    "    return news_unstack"
   ]
  },
  {
   "cell_type": "code",
   "execution_count": null,
   "metadata": {},
   "outputs": [],
   "source": [
    "news_unstack = merge_news_on_index(news_data, index_df)\n",
    "del news_train, index_df\n",
    "gc.collect()\n",
    "news_unstack.head(3)"
   ]
  },
  {
   "cell_type": "code",
   "execution_count": null,
   "metadata": {},
   "outputs": [],
   "source": [
    "print(\"Maddar\")"
   ]
  },
  {
   "cell_type": "code",
   "execution_count": null,
   "metadata": {},
   "outputs": [],
   "source": []
  }
 ],
 "metadata": {
  "kernelspec": {
   "display_name": "Python 3",
   "language": "python",
   "name": "python3"
  },
  "language_info": {
   "codemirror_mode": {
    "name": "ipython",
    "version": 3
   },
   "file_extension": ".py",
   "mimetype": "text/x-python",
   "name": "python",
   "nbconvert_exporter": "python",
   "pygments_lexer": "ipython3",
   "version": "3.6.7"
  }
 },
 "nbformat": 4,
 "nbformat_minor": 2
}
